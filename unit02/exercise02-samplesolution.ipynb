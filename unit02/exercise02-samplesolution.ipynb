{
 "cells": [
  {
   "cell_type": "markdown",
   "id": "ce3175bb",
   "metadata": {},
   "source": [
    "# Python Crash Course - Exercise 02\n",
    "\n",
    "* Task 0: Using Jupyter Notebook\n",
    "* Task 1: Using Python as a calculator\n",
    "* Task 2: Getting familiar with Booleans\n",
    "* Task 3: Casting (converting) data types\n",
    "* Task 4: Combining strings\n",
    "* Task 5: Testing logical propositions\n",
    "* Task 6: indexing lists\n",
    "* Task 7: slicing strings\n",
    "* Task 8: sum of a list (with casting)\n",
    "* Task 9: `len()` and what it returns\n",
    "\n",
    "* Task 10: Explain the error"
   ]
  },
  {
   "cell_type": "markdown",
   "id": "9f8f64fb",
   "metadata": {},
   "source": [
    "## Task 0: Using Jupyter Notebook\n",
    "\n",
    "Make sure you can tick all items off this list (will be demonstrated in class):\n",
    "\n",
    "* I know how to **open** a Jupyter notebook\n",
    "* I know how to **create** a new Jupyter notebook\n",
    "* I know how to create **cells** of type `code` and `markdown`\n",
    "* I know how to **move a cell** up or down\n",
    "* I know how to **run** one single cell\n",
    "* i know how to **run all** cells at once\n",
    "* I know how to **clear** the output of one cell\n",
    "* I know how to **clear all**  cell output at once\n",
    "* I know how to **restart** the notebook kernel \n",
    "* I know how to **write and format** text in markdown\n",
    "\n",
    "For more resources, check these links:\n",
    "* A quickstart Jupyter Notebook tutorial from [Datacamp](https://www.datacamp.com/tutorial/tutorial-jupyter-notebook)\n",
    "* A more detailed Jupyter Notebook tutorial from [DataQuest](https://www.dataquest.io/blog/jupyter-notebook-tutorial/)\n",
    "* Official [Project Jupyter documentation](https://docs.jupyter.org/en/latest/)\n",
    "* Basic syntax in [Markdown](https://www.markdownguide.org/basic-syntax/)"
   ]
  },
  {
   "cell_type": "markdown",
   "id": "f1b04805",
   "metadata": {},
   "source": [
    "## Task 1: Using Python as a calculator\n",
    "\n",
    "Use Python to compute the values of `x`, `y`, and `z`. Print out the value of `z`.\n",
    "\n",
    "$x = 3^{(4-1)} + \\frac{16 * (5^{0} - 2)}{2 * 4}$\n",
    "\n",
    "$y = x^{2} + (3-x)*x$\n",
    "\n",
    "$z = \\frac{y}{x} $\n",
    "\n",
    "Your code should look something like this:\n",
    "```python\n",
    "x = ...\n",
    "y = ...\n",
    "z = ...\n",
    "print(z) \n",
    "```"
   ]
  },
  {
   "cell_type": "markdown",
   "id": "1dff2b78",
   "metadata": {},
   "source": [
    "**Solve Task 1:**"
   ]
  },
  {
   "cell_type": "code",
   "execution_count": null,
   "id": "9b427235",
   "metadata": {},
   "outputs": [],
   "source": [
    "# YOUR CODE HERE\n",
    "x = 3 ** (4-1) + 16 * (5**0 -2)/(2*4)\n",
    "y = x**2 + (3-x)*x\n",
    "z = y / x\n",
    "print(z)"
   ]
  },
  {
   "cell_type": "markdown",
   "id": "e450c8b4",
   "metadata": {},
   "source": [
    "***\n",
    "## Task 2: Getting familiar with Booleans\n",
    "\n",
    "First, find out what happens if you use mathematical operators on the booleans `True` and `False`. Can you formulate a general rule? For example, you can test the following expressions:\n",
    "\n",
    "```python\n",
    "True + True + True\n",
    "True * 7.5\n",
    "False + 9\n",
    "False - 5\n",
    "True / 4\n",
    "... # and so on - try out what you like!\n",
    "```\n",
    "\n",
    "Next, let's remind ourselves of what the boolean value of objects is. Can you predict what the Boolean value will be for the following expressions?\n",
    "\n",
    "```python\n",
    "bool(28)\n",
    "bool(-5.5)\n",
    "bool(0)\n",
    "bool(\"True\")\n",
    "bool(\"abracadabra\")\n",
    "bool(\"\") # note: \"\" is an empty string object\n",
    "bool(\"false\")\n",
    "# implement the code yourself to check if you were right!\n",
    "```\n"
   ]
  },
  {
   "cell_type": "markdown",
   "id": "d6011e71",
   "metadata": {},
   "source": [
    "**Solve Task 2:**"
   ]
  },
  {
   "cell_type": "code",
   "execution_count": null,
   "id": "84b0e44d",
   "metadata": {},
   "outputs": [],
   "source": [
    "# YOUR CODE HERE - math with booleans:"
   ]
  },
  {
   "cell_type": "code",
   "execution_count": null,
   "id": "c848dc3d",
   "metadata": {},
   "outputs": [],
   "source": [
    "True + True + True # evaluates to 3\n"
   ]
  },
  {
   "cell_type": "code",
   "execution_count": null,
   "id": "93cca7d8",
   "metadata": {},
   "outputs": [],
   "source": [
    "True * 7.5 # evaluates to 7.5"
   ]
  },
  {
   "cell_type": "code",
   "execution_count": null,
   "id": "3794adcf",
   "metadata": {},
   "outputs": [],
   "source": [
    "False + 9 # evaluates to 9"
   ]
  },
  {
   "cell_type": "code",
   "execution_count": null,
   "id": "65d6f676",
   "metadata": {},
   "outputs": [],
   "source": [
    "False - 5 # evaluates to -5"
   ]
  },
  {
   "cell_type": "code",
   "execution_count": null,
   "id": "c7009bac",
   "metadata": {},
   "outputs": [],
   "source": [
    "True / 4 # evaluates to 0.25"
   ]
  },
  {
   "cell_type": "markdown",
   "id": "133d12a0",
   "metadata": {},
   "source": [
    "**Insert** your general rule about doing maths with Booleans here\n",
    "\n",
    "> In general, Python treats `True` as the number `1`, and `False` as the number `0`"
   ]
  },
  {
   "cell_type": "code",
   "execution_count": null,
   "id": "f9b87202",
   "metadata": {},
   "outputs": [],
   "source": [
    "# YOUR CODE HERE - truth value of objects"
   ]
  },
  {
   "cell_type": "code",
   "execution_count": null,
   "id": "39ebc49a",
   "metadata": {},
   "outputs": [],
   "source": [
    "bool(28) # evaluates to True"
   ]
  },
  {
   "cell_type": "code",
   "execution_count": null,
   "id": "904f9fc8",
   "metadata": {},
   "outputs": [],
   "source": [
    "bool(-5.5) # evaluates to True"
   ]
  },
  {
   "cell_type": "code",
   "execution_count": null,
   "id": "da0009b8",
   "metadata": {},
   "outputs": [],
   "source": [
    "bool(0) # evaluates to False"
   ]
  },
  {
   "cell_type": "code",
   "execution_count": null,
   "id": "c80c1b4d",
   "metadata": {},
   "outputs": [],
   "source": [
    "bool(\"True\") # evaluates to True"
   ]
  },
  {
   "cell_type": "code",
   "execution_count": null,
   "id": "1121def7",
   "metadata": {},
   "outputs": [],
   "source": [
    "bool(\"abracadabra\") # evaluates to True"
   ]
  },
  {
   "cell_type": "code",
   "execution_count": null,
   "id": "12807947",
   "metadata": {},
   "outputs": [],
   "source": [
    "bool(\"\") # evaluates to False"
   ]
  },
  {
   "cell_type": "code",
   "execution_count": null,
   "id": "bfc5f8f6",
   "metadata": {},
   "outputs": [],
   "source": [
    "# Note: the expression below evaluates to True because it is understood as non-empty string \n",
    "# bools are case-sensitive!! - to evaluate to false, we need to write it with the capital letter:\n",
    "# bool(\"False\")\n",
    "bool(\"false\")"
   ]
  },
  {
   "cell_type": "markdown",
   "id": "5c5039ae",
   "metadata": {},
   "source": [
    "**Insert** your general rule about the boolean value of objects here\n",
    "\n",
    "> In Python, non-empty objects and all numbers except `0` have the boolean value of `True`, and empty objects and the number `0` have the boolean value of `False`."
   ]
  },
  {
   "cell_type": "markdown",
   "id": "558f0d13",
   "metadata": {},
   "source": [
    "***\n",
    "## Task 3: Casting (converting) data types\n",
    "\n",
    "A quick recap on data types and casting:\n",
    "* to **check** for the data type of the object `x`, use `type(x)`\n",
    "* to **cast** the object `x` to a data type, use `int() float() str() bool()`\n",
    "As in the exercise before, try to predict what the output of each statement will be; then implement it to check if you were correct.\n",
    "\n",
    "```python\n",
    "### checking the type of an object\n",
    "type(3)\n",
    "type(1+2)\n",
    "type(1+2.0)\n",
    "type(9/3)\n",
    "type(\"3\")\n",
    "\n",
    "### int/str/bool to float\n",
    "float(8)\n",
    "float(\"45.5\")\n",
    "float(False)\n",
    "\n",
    "### int/float/bool to str\n",
    "str(1)\n",
    "str(3.5)\n",
    "str(True)\n",
    "\n",
    "### float/str/bool to int\n",
    "int(4.0)\n",
    "int(\"5\")\n",
    "int(False)\n",
    "\n",
    "### ... and some funky combinations:\n",
    "str(int(4.5))\n",
    "str(bool(9)) \n",
    "bool(float(0))\n",
    "float(int(str(7))) \n",
    "```\n",
    "\n",
    "What happens if you convert decimal numbers of type `float` to `int`? Can you formulate a general rule? For example, you can test on the following expressions: \n",
    "```python\n",
    "### decimals to int\n",
    "int(8.9)\n",
    "int(0.999999)\n",
    "int(1.000007)\n",
    "```\n"
   ]
  },
  {
   "cell_type": "markdown",
   "id": "1668aee2",
   "metadata": {},
   "source": [
    "**Solve Task 3**"
   ]
  },
  {
   "cell_type": "code",
   "execution_count": null,
   "id": "8e452a7d",
   "metadata": {},
   "outputs": [],
   "source": [
    "# YOUR CODE HERE - checking the type of an object"
   ]
  },
  {
   "cell_type": "code",
   "execution_count": null,
   "id": "713b9c92",
   "metadata": {},
   "outputs": [],
   "source": [
    "type(3) # int"
   ]
  },
  {
   "cell_type": "code",
   "execution_count": null,
   "id": "50ac02a3",
   "metadata": {},
   "outputs": [],
   "source": [
    "type(1+2) # still int "
   ]
  },
  {
   "cell_type": "code",
   "execution_count": null,
   "id": "8e53a1de",
   "metadata": {},
   "outputs": [],
   "source": [
    "type(1+2.0) # float"
   ]
  },
  {
   "cell_type": "code",
   "execution_count": null,
   "id": "67d9ace8",
   "metadata": {},
   "outputs": [],
   "source": [
    "type(9/3) # float"
   ]
  },
  {
   "cell_type": "code",
   "execution_count": null,
   "id": "abf0a219",
   "metadata": {},
   "outputs": [],
   "source": [
    "type(\"3\") # str"
   ]
  },
  {
   "cell_type": "code",
   "execution_count": null,
   "id": "6706a22d",
   "metadata": {},
   "outputs": [],
   "source": [
    "# YOUR CODE HERE - int/str/bool to float\n",
    "float(8) # 8.0\n",
    "float(\"45.5\") # 45.5\n",
    "float(False) # 0.0"
   ]
  },
  {
   "cell_type": "code",
   "execution_count": null,
   "id": "568dd24f",
   "metadata": {},
   "outputs": [],
   "source": [
    "# YOUR CODE HERE - int/float/bool to str"
   ]
  },
  {
   "cell_type": "code",
   "execution_count": null,
   "id": "84a5bce7",
   "metadata": {},
   "outputs": [],
   "source": [
    "str(1) # \"1\""
   ]
  },
  {
   "cell_type": "code",
   "execution_count": null,
   "id": "3217d3c7",
   "metadata": {},
   "outputs": [],
   "source": [
    "str(3.5) # \"3.5\""
   ]
  },
  {
   "cell_type": "code",
   "execution_count": null,
   "id": "6ea842d0",
   "metadata": {},
   "outputs": [],
   "source": [
    "str(True) # \"True\""
   ]
  },
  {
   "cell_type": "code",
   "execution_count": null,
   "id": "3aa286dc",
   "metadata": {},
   "outputs": [],
   "source": [
    "# YOUR CODE HERE - float/str/bool to int"
   ]
  },
  {
   "cell_type": "code",
   "execution_count": null,
   "id": "4ddf5698",
   "metadata": {},
   "outputs": [],
   "source": [
    "int(4.0) # 4"
   ]
  },
  {
   "cell_type": "code",
   "execution_count": null,
   "id": "b6211edb",
   "metadata": {},
   "outputs": [],
   "source": [
    "int(\"5\") # 5"
   ]
  },
  {
   "cell_type": "code",
   "execution_count": null,
   "id": "d0240be9",
   "metadata": {},
   "outputs": [],
   "source": [
    "int(False) # 0"
   ]
  },
  {
   "cell_type": "code",
   "execution_count": null,
   "id": "e92bba66",
   "metadata": {},
   "outputs": [],
   "source": [
    "# YOUR CODE HERE - funky combinations:"
   ]
  },
  {
   "cell_type": "code",
   "execution_count": null,
   "id": "51c5d032",
   "metadata": {},
   "outputs": [],
   "source": [
    "str(int(4.5)) # \"4\""
   ]
  },
  {
   "cell_type": "code",
   "execution_count": null,
   "id": "881036ff",
   "metadata": {},
   "outputs": [],
   "source": [
    "str(bool(9)) # \"True\""
   ]
  },
  {
   "cell_type": "code",
   "execution_count": null,
   "id": "3b33cc1c",
   "metadata": {},
   "outputs": [],
   "source": [
    "bool(float(0)) # True"
   ]
  },
  {
   "cell_type": "code",
   "execution_count": null,
   "id": "3cf09420",
   "metadata": {},
   "outputs": [],
   "source": [
    "float(int(str(7))) # 7.0"
   ]
  },
  {
   "cell_type": "code",
   "execution_count": null,
   "id": "c54bb22e",
   "metadata": {},
   "outputs": [],
   "source": [
    "# YOUR CODE HERE - decimals to int:\n",
    "int(8.9) # 8\n",
    "int(0.999999) # 0\n",
    "int(1.000007) # 1"
   ]
  },
  {
   "cell_type": "markdown",
   "id": "af8f8da8",
   "metadata": {},
   "source": [
    "**Insert** your general rule about converting decimals to int here\n",
    "\n",
    "> Converting a decimal to int with Python will always round the decimal down to the next-smallest integer (\"floor\")."
   ]
  },
  {
   "cell_type": "markdown",
   "id": "fb388fa4",
   "metadata": {},
   "source": [
    "***\n",
    "## Task 4: Combining strings\n",
    "\n",
    "A quick recap:\n",
    "* You can use the `+` operator to concatenate strings\n",
    "* You can use the `*` operator to \"multiply\" a string by an integer x, i.e. to repeat it x times\n",
    "* If you want to concatenate strings with other data types, you need to cast them to `str` first\n",
    "\n",
    "```python\n",
    "a = \"misc\"\n",
    "b = \"ellane\"\n",
    "c = \"ous\"\n",
    "# concatenate the variables a, b and c to obtain the word \"miscellaneous\" printed out\n",
    "\n",
    "x = \"i am\" \n",
    "y = \"very\"\n",
    "z = \"angry\"\n",
    "# concatenate / multiply the variables x, y and to obtain the sentence \"i am very very very very angry\". \n",
    "# insert spaces if needed (within the variable definition, or like so: \" \")\n",
    "\n",
    "myint = 1\n",
    "mybool = True\n",
    "mystr = \"Love\"\n",
    "# combine the variables myint, mybool and mystr to obtain the string \"1 True Love\". Add white spaces if needed.\n",
    "```"
   ]
  },
  {
   "cell_type": "markdown",
   "id": "cd3121a8",
   "metadata": {},
   "source": [
    "**Solve Task 4**"
   ]
  },
  {
   "cell_type": "code",
   "execution_count": null,
   "id": "5fb6af75",
   "metadata": {},
   "outputs": [],
   "source": [
    "# miscellaneous\n",
    "a = \"misc\"\n",
    "b = \"ellane\"\n",
    "c = \"ous\"\n",
    "d = a + b + c\n",
    "print(d)"
   ]
  },
  {
   "cell_type": "code",
   "execution_count": null,
   "id": "845c86a5",
   "metadata": {},
   "outputs": [],
   "source": [
    "# i am very very very very angry\n",
    "x = \"i am \" # adding a whitespace at the end of the string\n",
    "y = \"very \" # adding a whitespace at the end of the string\n",
    "z = \"angry\"\n",
    "\n",
    "fullsentence = x + 4*y + z\n",
    "print(fullsentence)"
   ]
  },
  {
   "cell_type": "code",
   "execution_count": null,
   "id": "07a84890",
   "metadata": {},
   "outputs": [],
   "source": [
    "# 1 True Love\n",
    "myint = 1\n",
    "mybool = True\n",
    "mystr = \"Love\"\n",
    "\n",
    "fullstatement = str(myint) + \" \" + str(mybool) + \" \" + mystr\n",
    "print(fullstatement)\n",
    "# print(myint, mybool, mystr) # (quick solution, does not produce a string!)"
   ]
  },
  {
   "cell_type": "markdown",
   "id": "cf3fd0d6",
   "metadata": {},
   "source": [
    "***\n",
    "## Task 5\n",
    "\n",
    "You are given three Boolean variables:\n",
    "```python  \n",
    "p = True\n",
    "q = False\n",
    "r = True\n",
    "```\n",
    "\n",
    "Below, you are given propositions that combine these variables with logical operators. Try to predict what the output of each statement will be (either `True` or `False`); then implement it to check if you were correct.\n",
    "\n",
    "```python\n",
    "prop1 = p and q \n",
    "prop2 = p or q\n",
    "prop3 = p and not q\n",
    "prop4 = (not p) or (not q)\n",
    "prop5 = (p and q) or (not p and q) or (p or q)\n",
    "prop6 = p and q and r\n",
    "prop7 = (p and q) or r\n",
    "prop8 = p and (q or r)\n",
    "prop9 = (not p or q) or (not p or r)\n",
    "prop10 = (p and r) and (not q) and (q or r)\n",
    "```"
   ]
  },
  {
   "cell_type": "markdown",
   "id": "5337ce62",
   "metadata": {},
   "source": [
    "**Solve Task 5**"
   ]
  },
  {
   "cell_type": "code",
   "execution_count": null,
   "id": "eb4e9465",
   "metadata": {},
   "outputs": [],
   "source": [
    "p = True\n",
    "q = False\n",
    "r = True\n",
    "# YOUR CODE HERE"
   ]
  },
  {
   "cell_type": "code",
   "execution_count": null,
   "id": "c758af92",
   "metadata": {},
   "outputs": [],
   "source": [
    "prop1 = p and q \n",
    "prop1"
   ]
  },
  {
   "cell_type": "code",
   "execution_count": null,
   "id": "956fc585",
   "metadata": {},
   "outputs": [],
   "source": [
    "prop2 = p or q\n",
    "prop2"
   ]
  },
  {
   "cell_type": "code",
   "execution_count": null,
   "id": "80abaaec",
   "metadata": {},
   "outputs": [],
   "source": [
    "prop3 = p and not q\n",
    "prop3"
   ]
  },
  {
   "cell_type": "code",
   "execution_count": null,
   "id": "6381822e",
   "metadata": {},
   "outputs": [],
   "source": [
    "prop4 = (not p) or (not q)\n",
    "prop4"
   ]
  },
  {
   "cell_type": "code",
   "execution_count": null,
   "id": "380bb171",
   "metadata": {},
   "outputs": [],
   "source": [
    "prop5 = (p and q) or (not p and q) or (p or q)\n",
    "prop5"
   ]
  },
  {
   "cell_type": "code",
   "execution_count": null,
   "id": "7af68b94",
   "metadata": {},
   "outputs": [],
   "source": [
    "prop6 = p and q and r\n",
    "prop6"
   ]
  },
  {
   "cell_type": "code",
   "execution_count": null,
   "id": "d8bb9394",
   "metadata": {},
   "outputs": [],
   "source": [
    "prop7 = (p and q) or r\n",
    "prop7"
   ]
  },
  {
   "cell_type": "code",
   "execution_count": null,
   "id": "a3c204d7",
   "metadata": {},
   "outputs": [],
   "source": [
    "prop8 = p and (q or r)\n",
    "prop8"
   ]
  },
  {
   "cell_type": "code",
   "execution_count": null,
   "id": "56e6d4ee",
   "metadata": {},
   "outputs": [],
   "source": [
    "prop9 = (not p or q) or (not p or r)\n",
    "prop9"
   ]
  },
  {
   "cell_type": "code",
   "execution_count": null,
   "id": "7dd3701d",
   "metadata": {},
   "outputs": [],
   "source": [
    "prop10 = (p and r) and (not q) and (q or r)\n",
    "prop10"
   ]
  },
  {
   "cell_type": "code",
   "execution_count": null,
   "id": "be5589cb",
   "metadata": {},
   "outputs": [],
   "source": []
  },
  {
   "cell_type": "markdown",
   "id": "c569ced1",
   "metadata": {},
   "source": [
    "***\n",
    "## Task 6: Indexing lists\n",
    "\n",
    "```python\n",
    "my_list = [1, 4, 9, 16, 25, 36, 49, 64, 81, 100]\n",
    "```\n",
    "\n",
    "For the list defined above, and for each of the following elements: `1`; `100`; `9`; `49`; `4`, find **two ways** of indexing this element. (hint: you can always use either positive or negative indexing)"
   ]
  },
  {
   "cell_type": "markdown",
   "id": "285115ab",
   "metadata": {},
   "source": [
    "**Solve Task 6:**"
   ]
  },
  {
   "cell_type": "code",
   "execution_count": null,
   "id": "0c80c64d",
   "metadata": {},
   "outputs": [],
   "source": [
    "my_list = [1, 4, 9, 16, 25, 36, 49, 64, 81, 100]"
   ]
  },
  {
   "cell_type": "code",
   "execution_count": null,
   "id": "37e296b5",
   "metadata": {},
   "outputs": [],
   "source": [
    "# index to the element 1\n",
    "my_list[0]\n",
    "my_list[-10]"
   ]
  },
  {
   "cell_type": "code",
   "execution_count": null,
   "id": "32dce697",
   "metadata": {},
   "outputs": [],
   "source": [
    "# index to the element 100\n",
    "my_list[9]\n",
    "my_list[-1]"
   ]
  },
  {
   "cell_type": "code",
   "execution_count": null,
   "id": "10c72e82",
   "metadata": {},
   "outputs": [],
   "source": [
    "# index to the element 9\n",
    "my_list[2]\n",
    "my_list[-8]"
   ]
  },
  {
   "cell_type": "code",
   "execution_count": null,
   "id": "bb9e6935",
   "metadata": {},
   "outputs": [],
   "source": [
    "# index to the element 49\n",
    "my_list[6]\n",
    "my_list[-4]"
   ]
  },
  {
   "cell_type": "code",
   "execution_count": null,
   "id": "269c5ee8",
   "metadata": {},
   "outputs": [],
   "source": [
    "# index to the element 4\n",
    "my_list[1]\n",
    "my_list[-9]"
   ]
  },
  {
   "cell_type": "markdown",
   "id": "b469a003",
   "metadata": {},
   "source": [
    "***\n",
    "## Task 7: Slicing strings\n",
    "\n",
    "```python\n",
    "\"Actions speak louder than words.\"\n",
    "```\n",
    "For the string defined above, use slicing to save each word (without white spaces) in a separate variable. Then, save all variables into a variable called `my_sentence`. When you `print(my_sentence)`, the output should look like: `['Actions', 'speak'...]`"
   ]
  },
  {
   "cell_type": "markdown",
   "id": "b40e0cc1",
   "metadata": {},
   "source": [
    "**Solve Task 7:**"
   ]
  },
  {
   "cell_type": "code",
   "execution_count": null,
   "id": "27264400",
   "metadata": {},
   "outputs": [],
   "source": [
    "my_string = \"Actions speak louder than words.\""
   ]
  },
  {
   "cell_type": "code",
   "execution_count": null,
   "id": "67d16ede",
   "metadata": {},
   "outputs": [],
   "source": [
    "# use slicing to save \"Actions\" into a variable\n",
    "# word1 = mystring[...]\n",
    "# etc. for all other words in my_string"
   ]
  },
  {
   "cell_type": "code",
   "execution_count": null,
   "id": "3bf31bf0",
   "metadata": {},
   "outputs": [],
   "source": [
    "# recombine all variables into a list\n",
    "# my_sentence = [word1, word2, ...] # etc."
   ]
  },
  {
   "cell_type": "code",
   "execution_count": null,
   "id": "23c08ad3",
   "metadata": {},
   "outputs": [],
   "source": [
    "# print it out to check if it worked\n",
    "# print(my_sentence)"
   ]
  },
  {
   "cell_type": "markdown",
   "id": "73afd0e1",
   "metadata": {},
   "source": [
    "***\n",
    "# Task 8: Casting, `min()`, `max()`, `sum()` on a list\n",
    "\n",
    "```python\n",
    "my_list = [0, \"1\", 200, 45, \"-80\", \"0.25\", 13, \"515.9\"]\n",
    "```\n",
    "\n",
    "For the list defined above, first replace all its non-numeric elements by their numeric counterparts, using **indexing** and **casting** (`int()` or `float()`). Then, find the min, max, and sum of `my_list` using built-in functions."
   ]
  },
  {
   "cell_type": "markdown",
   "id": "f3344f0c",
   "metadata": {},
   "source": [
    "**Solve Task 8:**"
   ]
  },
  {
   "cell_type": "code",
   "execution_count": null,
   "id": "885b0299",
   "metadata": {},
   "outputs": [],
   "source": [
    "my_list = [0, \"1\", 200, 45, \"-80\", \"0.25\", 13, \"515.9\"]\n",
    "# use indexing and casting to replace all strs by either int or float:\n",
    "# my_list[1] = int(...) etc.\n",
    "my_list[1] = int(my_list[1])\n",
    "my_list[4] = int(my_list[4])\n",
    "my_list[5] = float(my_list[5])\n",
    "my_list[-1] = float(my_list[-1])"
   ]
  },
  {
   "cell_type": "code",
   "execution_count": null,
   "id": "4744bf3e",
   "metadata": {},
   "outputs": [],
   "source": [
    "# find the min, max, and sum of my_list\n",
    "print(min(my_list), \"... min\")\n",
    "print(max(my_list), \"...max\")\n",
    "print(sum(my_list), \"...sum\")"
   ]
  },
  {
   "cell_type": "markdown",
   "id": "9fd96790",
   "metadata": {},
   "source": [
    "***\n",
    "## Task 9: The `len()` function in Python\n",
    "\n",
    "For each the variables `a...k` below, first **try to predict** what `len(variable)` will return; then check to see if you were correct.\n",
    "\n",
    "```python\n",
    "a = \"COPEN HAGEN!\"\n",
    "b = [0, 1, 2, 3, 4, 5]\n",
    "c = b[:4]\n",
    "d = b[2:3]\n",
    "e = b[:]\n",
    "f = [True]\n",
    "g = False\n",
    "h = 9.0\n",
    "i = 9\n",
    "j = \"9\"\n",
    "k = [9]\n",
    "```"
   ]
  },
  {
   "cell_type": "markdown",
   "id": "69fad12f",
   "metadata": {},
   "source": [
    "**Solve Task 9:**"
   ]
  },
  {
   "cell_type": "code",
   "execution_count": null,
   "id": "81eed2ca",
   "metadata": {},
   "outputs": [],
   "source": [
    "# run this cells to define the variables a-j\n",
    "a = \"COPEN HAGEN!\"\n",
    "b = [0, 1, 2, 3, 4, 5]\n",
    "c = b[:4]\n",
    "d = b[2:3]\n",
    "e = b[:]\n",
    "f = [True]\n",
    "g = False\n",
    "h = 9.0\n",
    "i = 9\n",
    "j = \"9\"\n",
    "k = [9]"
   ]
  },
  {
   "cell_type": "code",
   "execution_count": null,
   "id": "4fb6cbe9",
   "metadata": {},
   "outputs": [],
   "source": [
    "# check their lengths like so: len(a) etc.\n",
    "print(len(a))\n",
    "print(len(b))\n",
    "print(len(c))\n",
    "print(len(d))\n",
    "print(len(e))\n",
    "print(len(f))\n"
   ]
  },
  {
   "cell_type": "code",
   "execution_count": null,
   "id": "99db233f",
   "metadata": {},
   "outputs": [],
   "source": [
    "### All of the expressions below throw errors because bool/int/float don't have a length\n",
    "# print(len(g))\n",
    "# print(len(h))\n",
    "# print(len(i))\n"
   ]
  },
  {
   "cell_type": "code",
   "execution_count": null,
   "id": "d0ed94ec",
   "metadata": {},
   "outputs": [],
   "source": [
    "print(len(j))\n",
    "print(len(k))"
   ]
  },
  {
   "cell_type": "markdown",
   "id": "76fcf297",
   "metadata": {},
   "source": [
    "***\n",
    "## Task 10: Explain the error\n",
    "\n",
    "Each of the expressions below will throw an error. Try to find out why, and explain the error in your own words!\n",
    "\n",
    "```python\n",
    "x = int(\"8.7\")\n",
    "max(9)\n",
    "sum([1, \"2\"])\n",
    "20 / 0\n",
    "```"
   ]
  },
  {
   "cell_type": "code",
   "execution_count": null,
   "id": "d98a2a7f",
   "metadata": {},
   "outputs": [],
   "source": [
    "x = int(\"8.7\")"
   ]
  },
  {
   "cell_type": "markdown",
   "id": "9d669669",
   "metadata": {},
   "source": [
    "Insert your own explanation of the error message:\n",
    "\n",
    "`ValueError: invalid literal for int() with base 10: '8.7'` >>> this string cannot be parsed as integer"
   ]
  },
  {
   "cell_type": "code",
   "execution_count": null,
   "id": "9226cf50",
   "metadata": {},
   "outputs": [],
   "source": [
    "max(9)"
   ]
  },
  {
   "cell_type": "markdown",
   "id": "0ff6deee",
   "metadata": {},
   "source": [
    "Insert your own explanation of the error message: \n",
    "\n",
    "`'int' object is not iterable` >>> since the integer 9 has no internal structure, the maximum of it is not defined (to iterate = to go stepwise through all the elements in the structure... but there is no structure.)"
   ]
  },
  {
   "cell_type": "code",
   "execution_count": null,
   "id": "2877ed25",
   "metadata": {},
   "outputs": [],
   "source": [
    "sum([1, \"2\"])"
   ]
  },
  {
   "cell_type": "markdown",
   "id": "07d75c92",
   "metadata": {},
   "source": [
    "Insert your own explanation of the error message:\n",
    "\n",
    "`unsupported operand type(s) for +: 'int' and 'str'` >>> the function sum() will apply the mathematical operator + , but it is not defined how to use this operator for a combination of str and int."
   ]
  },
  {
   "cell_type": "code",
   "execution_count": null,
   "id": "bee1182d",
   "metadata": {},
   "outputs": [],
   "source": [
    "20 / 0"
   ]
  },
  {
   "cell_type": "markdown",
   "id": "131adb7f",
   "metadata": {},
   "source": [
    "Insert your own explanation of the error message:\n",
    "\n",
    "`division by zero` >>> is not defined in Python, either :)"
   ]
  }
 ],
 "metadata": {
  "kernelspec": {
   "display_name": "Python 3",
   "language": "python",
   "name": "python3"
  },
  "language_info": {
   "codemirror_mode": {
    "name": "ipython",
    "version": 3
   },
   "file_extension": ".py",
   "mimetype": "text/x-python",
   "name": "python",
   "nbconvert_exporter": "python",
   "pygments_lexer": "ipython3",
   "version": "3.12.5"
  }
 },
 "nbformat": 4,
 "nbformat_minor": 5
}
