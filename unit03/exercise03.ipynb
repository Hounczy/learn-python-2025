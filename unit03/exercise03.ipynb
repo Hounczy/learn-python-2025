{
 "cells": [
  {
   "cell_type": "markdown",
   "id": "ec95048b",
   "metadata": {},
   "source": [
    "# Python Crash Course - Exercise 03\n",
    "\n",
    "Topics covered:\n",
    "* functions (with only 1 input argument, for now)\n",
    "* conditional statements (if-elif-else)\n",
    "* tuples, lists, & sets; corresponding methods\n",
    "* The modulo operator `%`\n",
    "\n",
    "Tasks:\n",
    "* Task 1: At the supermarket\n",
    "* Task 2: At the ice cream shop\n",
    "* Task 3: Find some space\n",
    "* Task 4: Square that\n",
    "* Task 5: Pass that\n",
    "* Task 6: Can i divide by 5?\n",
    "* Task 7: Do i like that?\n"
   ]
  },
  {
   "cell_type": "markdown",
   "id": "92efed0b",
   "metadata": {},
   "source": [
    "***\n",
    "## Task 1: At the supermarket\n",
    "\n",
    "\n",
    "```python\n",
    "shopping_list = [\"onions\", \"milk\", \"bread\", \"butter\", \"rice\", \"vinegar\", \"oil\", \"pineapple\", \"onions\", \"salt\", \"chicken\", \"parsley\", \"mint\", \"sugar\", \"onions\"]\n",
    "snacks = [\"chocolate\", \"ice cream\", \"chips\"]\n",
    "```\n",
    "\n",
    "Above, we have defined a shopping list, and a snack list. Use list methods (`.index()`, `.append()`, `.remove()`, `.sort()`, `.count()`) and/or assignment operators (`+`,`+=`) to:\n",
    "* add `\"oranges\"` to the shopping list\n",
    "* add the `snacks` list to the shopping list (try to use `+`, `+=`, and `.append()`! What is the difference?)\n",
    "* find out at which list position is the `\"chicken\"`\n",
    "* remove `\"butter\"` from the shopping list (turns out we already have that at home)\n",
    "* count how many times does `\"onions\"` appear on the list\n",
    "* sort the shopping list alphabetically, and print it out\n",
    "* make sure that every item appears only once by converting the list to a set, and saving it into the variable `shopping_set`.\n",
    "* how many *unique* items are in our shopping set now?"
   ]
  },
  {
   "cell_type": "code",
   "execution_count": 1,
   "id": "6c055f53",
   "metadata": {},
   "outputs": [],
   "source": [
    "# YOUR CODE HERE"
   ]
  },
  {
   "cell_type": "markdown",
   "id": "9977b5ad",
   "metadata": {},
   "source": [
    "# Task 2: At the ice cream shop\n",
    "\n",
    "You are the owner of an ice cream shop. Your employee who sells the ice cream is a data science student! They decided to write down all ice cream orders of the day in Python. Use `list/set/tuple methods` to find out:\n",
    "* How many ice cream combinations have been sold today?\n",
    "* How many **unique** ice cream combinations have been sold today? \n",
    "> **Note**: the orders are saved as tuples - and for the sake of this exercise, we assume that for ice cream uniqueness, the order matters: `('yoghurt', 'mint')` is **not** the same as `('mint', 'yoghurt')`\n",
    "\n",
    "```python\n",
    "icecream_sold = [\n",
    "    ('yoghurt', 'mint'), ('cookie', 'cookie'), ('caramel', 'yoghurt'), ('yoghurt', 'straciatella'), ('caramel', 'straciatella'),\n",
    "    ('vanilla', 'yoghurt'), ('hazelnut', 'banana'), ('straciatella', 'straciatella'), ('cookie', 'cookie'), ('cookie', 'caramel'),\n",
    "    ('banana', 'straciatella'), ('cheesecake', 'cookie'), ('chocolate', 'chocolate'), ('mint', 'hazelnut'), ('hazelnut', 'cheesecake'),\n",
    "    ('caramel', 'vanilla'), ('yoghurt', 'mint'), ('cheesecake', 'vanilla'), ('chocolate', 'cookie'), ('mint', 'strawberry'), ('cookie', 'strawberry'),\n",
    "    ('hazelnut', 'vanilla'), ('yoghurt', 'strawberry'), ('strawberry', 'chocolate'), ('cheesecake', 'cookie'), ('straciatella', 'vanilla'),\n",
    "    ('caramel', 'banana'), ('mint', 'straciatella'), ('caramel', 'strawberry'), ('cookie', 'strawberry'), ('caramel', 'yoghurt'),\n",
    "    ('strawberry', 'mint'), ('mint', 'hazelnut'), ('banana', 'hazelnut'), ('straciatella', 'banana'), ('mint', 'straciatella'),\n",
    "    ('cheesecake', 'chocolate'), ('mint', 'yoghurt'), ('cookie', 'banana'), ('cheesecake', 'mint'), ('banana', 'straciatella'),\n",
    "    ('mint', 'straciatella'), ('straciatella', 'straciatella'), ('cookie', 'mint'), ('cookie', 'straciatella'), ('banana', 'caramel'),\n",
    "    ('mint', 'cheesecake'), ('chocolate', 'banana'), ('cheesecake', 'vanilla'), ('vanilla', 'yoghurt'), ('hazelnut', 'yoghurt'),\n",
    "    ('hazelnut', 'cookie'), ('strawberry', 'cookie'), ('yoghurt', 'cheesecake'), ('cheesecake', 'banana'), ('vanilla', 'hazelnut'), \n",
    "    ('cookie', 'strawberry'), ('mint', 'straciatella'), ('cheesecake', 'vanilla'), ('cookie', 'strawberry'), ('cookie', 'strawberry')\n",
    "]\n",
    "```"
   ]
  },
  {
   "cell_type": "code",
   "execution_count": 2,
   "id": "4f8c51e6",
   "metadata": {},
   "outputs": [],
   "source": [
    "# YOUR CODE HERE"
   ]
  },
  {
   "cell_type": "markdown",
   "id": "cc8770b0",
   "metadata": {},
   "source": [
    "# Task 3: find some space\n",
    "\n",
    "Write a function called `thereisspace` that takes a list or string as input, and returns True if the input contains a whitespace, False otherwise.\n",
    "\n",
    "Remember the docstring!\n",
    "\n",
    "Then, test whether your function works as expected. What do you expect it to return for:\n",
    "\n",
    "* `thereisspace(\"Copenhagen\")`\n",
    "* `thereisspace(\"Hello world\")`\n",
    "* `thereisspace([1,2,10])`\n",
    "* `thereisspace([\"a\", \"b\", \" \", \"d\"])`\n",
    "* `thereisspace(1312)`"
   ]
  },
  {
   "cell_type": "code",
   "execution_count": 3,
   "id": "3a3f94fb",
   "metadata": {},
   "outputs": [],
   "source": [
    "# YOUR CODE HERE"
   ]
  },
  {
   "cell_type": "markdown",
   "id": "5b4d6481",
   "metadata": {},
   "source": [
    "# Task 4: square that!\n",
    "\n",
    "Write the function called `square_that` that returns the squared value of the input. Remember the docstring! \n",
    "\n",
    "Then, test whether your function works as expected. What do you expect it to return for:\n",
    "* `square_that(7)`\n",
    "* `square_that(10)`\n",
    "* `square_that(0.5)`\n",
    "* `square_that(\"hello world\")`\n",
    "* `square_that(True)`\n",
    "* `square_that([1,4,9])`"
   ]
  },
  {
   "cell_type": "code",
   "execution_count": 4,
   "id": "fbe48cd5",
   "metadata": {},
   "outputs": [],
   "source": [
    "# YOUR CODE HERE"
   ]
  },
  {
   "cell_type": "markdown",
   "id": "110b8b07",
   "metadata": {},
   "source": [
    "# Task 5: pass that!\n",
    "\n",
    "In an exam,\n",
    "* `< 5` points mean you failed,\n",
    "* `5-10` points mean you barely passed,\n",
    "* `> 10` points mean you passed.\n",
    "\n",
    "Write a **function** called `evaluate_exam` that \n",
    "* takes a variable `exam_score` as input (assuming `exam_score`is numeric)\n",
    "* returns a string, depending on the value of `exam_score`: either `\"you passed\"`, `\"you barely passed\"`, or `\"you failed\"`\n",
    "\n",
    "Remember the docstring!\n",
    "\n",
    "Then, test whether your function works as expected. What do you expect it to return for:\n",
    "* `evaluate_exam(4)`\n",
    "* `evaluate_exam(5.1)`\n",
    "* `evaluate_exam(9-3)`\n",
    "* `evaluate_exam(10)`\n",
    "* `evaluate_exam(10.5)`\n",
    "* `evaluate_exam(False)`\n",
    "* `evaluate_exam([10,20])`\n",
    "* `evaluate_exam(\"i hope i passed\")`"
   ]
  },
  {
   "cell_type": "code",
   "execution_count": 5,
   "id": "07cc1092",
   "metadata": {},
   "outputs": [],
   "source": [
    "# YOUR CODE HERE"
   ]
  },
  {
   "cell_type": "markdown",
   "id": "473f7b8c",
   "metadata": {},
   "source": [
    "# Task 6: can i divide by 5?\n",
    "\n",
    "Write a function called `canidividebyfive` that returns a Boolean telling you whether the input is divisible by 5 or not. Remember the docstring!\n",
    "\n",
    "**Hint:** use the modulo operator `%`!\n",
    "\n",
    "Then, test whether your function works as expected. What do you expect it to return for:\n",
    "* `canidividebyfive(10)`\n",
    "* `canidividebyfive(5)`\n",
    "* `canidividebyfive(28)`\n",
    "* `canidividebyfive(\"a simple string\")`\n",
    "* `canidividebyfive(0)`\n",
    "* `canidividebyfive(1)`\n",
    "* `canidividebyfive((10,20))`"
   ]
  },
  {
   "cell_type": "code",
   "execution_count": 6,
   "id": "a741b7ff",
   "metadata": {},
   "outputs": [],
   "source": [
    "# YOUR CODE HERE"
   ]
  },
  {
   "cell_type": "markdown",
   "id": "602a6424",
   "metadata": {},
   "source": [
    "# Task 7: do i like that?\n",
    "\n",
    "* When numbers are smaller than 50, I only like them if they are divisible by 2 and by 3. \n",
    "* When numbers are greater than 50, I only like them if they are divisible by 5. \n",
    "* I particularly dislike the number 50.\n",
    "* I don't like the number 100, either.\n",
    "\n",
    "Write a function called `ilikethat` which takes a number as an input, and returns a boolean, depending on whether I like that number (True) or I don't (False).\n",
    "\n",
    "**Hint:** you might want to use a nested conditional statement!\n",
    "\n",
    "Then, test whether your function works as expected. What do you expect it to return for:\n",
    "* `ilikethat(6)`\n",
    "* `ilikethat(50)`\n",
    "* `ilikethat(70)` \n",
    "* `ilikethat(100)`\n",
    "* `ilikethat(30)`\n"
   ]
  },
  {
   "cell_type": "code",
   "execution_count": 7,
   "id": "b72815bb",
   "metadata": {},
   "outputs": [],
   "source": [
    "# YOUR CODE HERE"
   ]
  },
  {
   "cell_type": "code",
   "execution_count": null,
   "id": "a69b3695",
   "metadata": {},
   "outputs": [],
   "source": []
  }
 ],
 "metadata": {
  "kernelspec": {
   "display_name": "Python 3",
   "language": "python",
   "name": "python3"
  },
  "language_info": {
   "codemirror_mode": {
    "name": "ipython",
    "version": 3
   },
   "file_extension": ".py",
   "mimetype": "text/x-python",
   "name": "python",
   "nbconvert_exporter": "python",
   "pygments_lexer": "ipython3",
   "version": "3.12.11"
  }
 },
 "nbformat": 4,
 "nbformat_minor": 5
}
