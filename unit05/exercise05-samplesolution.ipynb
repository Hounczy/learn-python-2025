{
 "cells": [
  {
   "cell_type": "markdown",
   "id": "ef931004",
   "metadata": {},
   "source": [
    "# Python Crash Course - Exercise 05\n",
    "\n",
    "Topics covered:\n",
    "* Working with built-in modules; the `random` module\n",
    "* Functions with several parameters\n",
    "\n",
    "Tasks:\n",
    "* Task 1: Exploring built-in Python modules\n",
    "* Task 2: Simulating a dice game"
   ]
  },
  {
   "cell_type": "markdown",
   "id": "4db069cc",
   "metadata": {},
   "source": [
    "## Task 1: Exploring built-in Python modules\n",
    "\n",
    "In each of the code snippets below, we import a built-in module (or a single function from a module), and then call one of the module's functions.\n",
    "\n",
    "Explore the code output, as well as the [documentation](https://docs.python.org/3/py-modindex.html#) of the corresponding Python module, to answer the questions about the code snippets."
   ]
  },
  {
   "cell_type": "code",
   "execution_count": null,
   "id": "c7e06b72",
   "metadata": {},
   "outputs": [],
   "source": [
    "# the operator module\n",
    "from operator import add\n",
    "result_sub = add(4,3)\n",
    "\n",
    "# what does the variable \"result\" contain?\n",
    "# >>> the result from the addition 4+3\n",
    "\n",
    "# how can you access the sub() function in the operator module,\n",
    "# for the following line of code to work?\n",
    "# result_sub = sub(4,3)\n",
    "# >>> you need to import the function sub from the module, too:\n",
    "from operator import sub\n",
    "result_sub = sub(4,3)"
   ]
  },
  {
   "cell_type": "code",
   "execution_count": null,
   "id": "03082c60",
   "metadata": {},
   "outputs": [],
   "source": [
    "# >>> OR:\n",
    "import operator\n",
    "operator.sub(4,3)"
   ]
  },
  {
   "cell_type": "code",
   "execution_count": null,
   "id": "6f8f5e3c",
   "metadata": {},
   "outputs": [],
   "source": [
    "# the time module:\n",
    "import time\n",
    "time_in_secs = time.time()\n",
    "print(time_in_secs)\n",
    "time_as_str = time.ctime(time_in_secs)\n",
    "print(time_as_str)\n",
    "\n",
    "# What does the number saved in the variable time_in_secs represent?\n",
    "# >>> the number of seconds that have passed since Jan 1, 1970,\n",
    "# >>> until the moment that you run your code\n",
    "\n",
    "# What does the function ctime() from the time module do?\n",
    "# >>> it converts this number of seconds into a human-readable string format"
   ]
  },
  {
   "cell_type": "code",
   "execution_count": null,
   "id": "605cf642",
   "metadata": {},
   "outputs": [],
   "source": [
    "# the Counter function from the collections module:\n",
    "mysnacks = [\"cookies\", \"apple\", \"orange\", \"sandwich\", \"apple\", \"apple\"]\n",
    "from collections import Counter\n",
    "myCounter = Counter(mysnacks)\n",
    "# explain what the object myCounter now contains!\n",
    "myCounter\n",
    "# >>> myCounter is a dictionary, where keys are UNIQUE items from the list,\n",
    "# >>> and values are the number of times each of the items appears on the list"
   ]
  },
  {
   "cell_type": "markdown",
   "id": "9d05123b",
   "metadata": {},
   "source": [
    "# Task 2: Simulating a dice game\n",
    "\n",
    "Now that we know how to simulate dice with the `random` module,  let's play a game! The rules are simple: you have `N` dice;  you throw them `M` times; if the sum of all your dice in all throws is bigger than `S`, you win. For example, if `N=3`, `M=2`, and `S=20`, it means that you have N=3 dice that you are allowed to throw M=2 times, and you win if all your points add up to at least S=20. \n",
    "\n",
    "**Write a function `win_dice_game` that:**\n",
    "* takes as input \n",
    "    * `n_dice` (the number of dice in the game), \n",
    "    * `n_throws` (the number of times the dice are thrown), and \n",
    "    * `points_win` (the number of points you need to have to win) \n",
    "* uses a function of your choice from the [`random` module](https://docs.python.org/3/library/random.html) to simulate the dice throw\n",
    "* computes the sum of all points from the dice throw\n",
    "* compares the sum to `points_win` and returns either `True` (if you win, i.e. if the sum is equal to or greater than `points_win`) or `False` otherwise\n",
    "\n",
    "**Use your function `win_dice_game()` to simulate 100 games**, with different settings. What percentage of games did you win if:\n",
    "* you have 2 dice, are allowed 3 throws, and need at least 20 points to win?\n",
    "* you have 5 dice, are allowed 5 throws, and need at least 120 points to win?\n",
    "\n",
    "How many games do you need to play with the second configuration (5 dice, 5 throws, and at least 120 points to win) if you want to win at least once? (Just experiment with your code by increasing/decreasing the number of games played, no mathematical formula needed - but you can **try** to come up with one!)"
   ]
  },
  {
   "cell_type": "code",
   "execution_count": null,
   "id": "7b139e2d",
   "metadata": {},
   "outputs": [],
   "source": [
    "# import random module, which we will need\n",
    "import random\n",
    "\n",
    "# define your function\n",
    "def win_dice_game(n_dice, n_throws, points_win):\n",
    "    '''\n",
    "    function that takes 3 integer values and returns True/False\n",
    "    '''\n",
    "    # initiate variable where we will sum points from all dice and all throws: \n",
    "    total_points = 0\n",
    "    # throw exactly n_throws times:\n",
    "    for _ in range(n_throws):\n",
    "        # each iteration step is one thrown of n_dice dices\n",
    "        throw_points = random.choices(\n",
    "            population=range(1,7),\n",
    "            k = n_dice\n",
    "            )\n",
    "        # convert to list so that we don't have to differentiate\n",
    "        # between throwing 1 dice and throwing n>1 dice\n",
    "        # and always use the sum() function:\n",
    "        throw_points = list(throw_points)\n",
    "        # print(\"dice show: \", throw_points)\n",
    "        # add the points from this throw to the \"points\" variable\n",
    "        # print(\"points at current throw:\", sum(throw_points))\n",
    "        total_points += sum(throw_points)\n",
    "    # after the for loop, all our throws are done,\n",
    "    # now we compare our total number of points to the number of points to win:\n",
    "    # print(\"total points:\", points)\n",
    "    if total_points >= points_win:\n",
    "        #print(\"you win!\")\n",
    "        return True\n",
    "    else:\n",
    "        #print(\"you lose!\")\n",
    "        return False\n"
   ]
  },
  {
   "cell_type": "code",
   "execution_count": null,
   "id": "1dbca366",
   "metadata": {},
   "outputs": [],
   "source": [
    "# check if it works:\n",
    "win_dice_game(2,1,10)"
   ]
  },
  {
   "cell_type": "code",
   "execution_count": null,
   "id": "fac24d7d",
   "metadata": {},
   "outputs": [],
   "source": [
    "# simulate 100 games with:\n",
    "# 2 dice, 3 throws, 20 points to win\n",
    "games_won = 0\n",
    "for _ in range(100):\n",
    "    current_game = win_dice_game(n_dice=2, n_throws=3, points_win=20)\n",
    "    games_won += current_game\n",
    "    # since current_game is either True of False (1 or 0 in int interpretation),\n",
    "    # we can simply add it to the games_won variable\n",
    "print(games_won, \"out of 100 games won\")"
   ]
  },
  {
   "cell_type": "code",
   "execution_count": null,
   "id": "ae08eee8",
   "metadata": {},
   "outputs": [],
   "source": [
    "# simulate 100 games with:\n",
    "# 5 dice, 5 throws, 120 points to win\n",
    "games_won = 0\n",
    "for _ in range(100):\n",
    "    current_game = win_dice_game(n_dice=5, n_throws=5, points_win=120)\n",
    "    games_won += current_game\n",
    "    # since current_game is either True of False (1 or 0 in int interpretation),\n",
    "    # we can simply add it to the games_won variable\n",
    "print(games_won, \"out of 100 games won\")"
   ]
  },
  {
   "cell_type": "code",
   "execution_count": null,
   "id": "1bea4eff",
   "metadata": {},
   "outputs": [],
   "source": [
    "# simulate N games with:\n",
    "# 5 dice, 5 throws, 120 points to win\n",
    "# experimenting with N (number of games) from the list:\n",
    "games_played = [100, 500, 1000, 5000, 10000, 20000, 50000]\n",
    "for N in games_played:\n",
    "    games_won = 0\n",
    "    for _ in range(N): # current number of games\n",
    "        current_game = win_dice_game(n_dice=5, n_throws=5, points_win=120)\n",
    "        games_won += current_game\n",
    "        # since current_game is either True of False (1 or 0 in int interpretation),\n",
    "        # we can simply add it to the games_won variable\n",
    "    print(games_won, \"out of\", N, \"games won\")"
   ]
  }
 ],
 "metadata": {
  "kernelspec": {
   "display_name": "Python 3",
   "language": "python",
   "name": "python3"
  },
  "language_info": {
   "codemirror_mode": {
    "name": "ipython",
    "version": 3
   },
   "file_extension": ".py",
   "mimetype": "text/x-python",
   "name": "python",
   "nbconvert_exporter": "python",
   "pygments_lexer": "ipython3",
   "version": "3.12.11"
  }
 },
 "nbformat": 4,
 "nbformat_minor": 5
}
