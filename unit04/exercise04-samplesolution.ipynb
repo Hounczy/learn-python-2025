{
 "cells": [
  {
   "cell_type": "markdown",
   "id": "330e996d",
   "metadata": {},
   "source": [
    "# Python Crash Course - Exercise 04\n",
    "\n",
    "Topics covered:\n",
    "* for and while loops\n",
    "* Working with dictionaries\n",
    "\n",
    "Tasks:\n",
    "* Task 1: Back at the ice cream shop\n",
    "* Task 2: Dictionaries at the ice cream shop\n",
    "* Task 3: Dictionaries at the bank\n",
    "* Task 4: Counting letters\n",
    "* Task 5: Summing up numbers\n",
    "* Task 6: Summing up numbers, but differently\n",
    "* Task 7: Summing up numbers, but we stop at 253\n",
    "* Task 8: \n",
    "* Task 9: Finding the bug\n",
    "* Task 10: Coding on paper"
   ]
  },
  {
   "cell_type": "markdown",
   "id": "49f6b177",
   "metadata": {},
   "source": [
    "***\n",
    "## Task 1 - Back at the ice cream shop\n",
    "\n",
    "You are the owner of an ice cream shop. Your employee who sells the ice cream is a data science student! They decided to write down all ice cream orders of the day in Python. Use `list/set/tuple methods` to find out:\n",
    "\n",
    "> **Note**: the orders are saved as tuples - and for the sake of this exercise, we assume that for ice cream uniqueness, the order matters: `('yoghurt', 'mint')` is **not** the same as `('mint', 'yoghurt')`\n",
    "\n",
    "* How many customers have ordered the same flavor twice? (e.g. `(\"banana\", banana\")`)\n",
    "* Which was the most popular ice cream combination? (There are several ways of finding out. **Hint**: it has been sold five times!)\n",
    "* How many different ice cream flavours have been sold today?"
   ]
  },
  {
   "cell_type": "code",
   "execution_count": 3,
   "id": "778220e6",
   "metadata": {},
   "outputs": [],
   "source": [
    "# run this cell to define the icecream_sold variable\n",
    "icecream_sold = [\n",
    "    ('yoghurt', 'mint'), ('cookie', 'cookie'), ('caramel', 'yoghurt'), ('yoghurt', 'straciatella'), ('caramel', 'straciatella'),\n",
    "    ('vanilla', 'yoghurt'), ('hazelnut', 'banana'), ('straciatella', 'straciatella'), ('cookie', 'cookie'), ('cookie', 'caramel'),\n",
    "    ('banana', 'straciatella'), ('cheesecake', 'cookie'), ('chocolate', 'chocolate'), ('mint', 'hazelnut'), ('hazelnut', 'cheesecake'),\n",
    "    ('caramel', 'vanilla'), ('yoghurt', 'mint'), ('cheesecake', 'vanilla'), ('chocolate', 'cookie'), ('mint', 'strawberry'), ('cookie', 'strawberry'),\n",
    "    ('hazelnut', 'vanilla'), ('yoghurt', 'strawberry'), ('strawberry', 'chocolate'), ('cheesecake', 'cookie'), ('straciatella', 'vanilla'),\n",
    "    ('caramel', 'banana'), ('mint', 'straciatella'), ('caramel', 'strawberry'), ('cookie', 'strawberry'), ('caramel', 'yoghurt'),\n",
    "    ('strawberry', 'mint'), ('mint', 'hazelnut'), ('banana', 'hazelnut'), ('straciatella', 'banana'), ('mint', 'straciatella'),\n",
    "    ('cheesecake', 'chocolate'), ('mint', 'yoghurt'), ('cookie', 'banana'), ('cheesecake', 'mint'), ('banana', 'straciatella'),\n",
    "    ('mint', 'straciatella'), ('straciatella', 'straciatella'), ('cookie', 'mint'), ('cookie', 'straciatella'), ('banana', 'caramel'),\n",
    "    ('mint', 'cheesecake'), ('chocolate', 'banana'), ('cheesecake', 'vanilla'), ('vanilla', 'yoghurt'), ('hazelnut', 'yoghurt'),\n",
    "    ('hazelnut', 'cookie'), ('strawberry', 'cookie'), ('yoghurt', 'cheesecake'), ('cheesecake', 'banana'), ('vanilla', 'hazelnut'), \n",
    "    ('cookie', 'strawberry'), ('mint', 'straciatella'), ('cheesecake', 'vanilla'), ('cookie', 'strawberry'), ('cookie', 'strawberry')\n",
    "]"
   ]
  },
  {
   "cell_type": "code",
   "execution_count": 4,
   "id": "f0000ac5",
   "metadata": {},
   "outputs": [
    {
     "name": "stdout",
     "output_type": "stream",
     "text": [
      "orders with twice the same flavor: [('cookie', 'cookie'), ('straciatella', 'straciatella'), ('cookie', 'cookie'), ('chocolate', 'chocolate'), ('straciatella', 'straciatella')]\n",
      "Number of orders with twice the same flavor: 5\n"
     ]
    }
   ],
   "source": [
    "# How many customers have ordered the same flavour twice?\n",
    "number_of_doubles = 0\n",
    "list_of_doubles = []\n",
    "for icecream in icecream_sold:\n",
    "    if icecream[0]==icecream[1]:\n",
    "        number_of_doubles += 1\n",
    "        list_of_doubles.append(icecream)\n",
    "print(\"orders with twice the same flavor:\", list_of_doubles)\n",
    "print(\"Number of orders with twice the same flavor:\", number_of_doubles)"
   ]
  },
  {
   "cell_type": "code",
   "execution_count": 5,
   "id": "80ea3110",
   "metadata": {},
   "outputs": [
    {
     "name": "stdout",
     "output_type": "stream",
     "text": [
      "5 ('cookie', 'strawberry')\n",
      "5 ('cookie', 'strawberry')\n",
      "5 ('cookie', 'strawberry')\n",
      "5 ('cookie', 'strawberry')\n",
      "5 ('cookie', 'strawberry')\n"
     ]
    }
   ],
   "source": [
    "# Which was the most popular ice cream combination? (if we already know that it has been sold exactly 5 times)\n",
    "for icecream in icecream_sold:\n",
    "    number_of_orders = icecream_sold.count(icecream)\n",
    "    if number_of_orders == 5:\n",
    "        print(number_of_orders, icecream)"
   ]
  },
  {
   "cell_type": "code",
   "execution_count": 6,
   "id": "417108bd",
   "metadata": {},
   "outputs": [
    {
     "name": "stdout",
     "output_type": "stream",
     "text": [
      "[2, 2, 2, 1, 1, 2, 1, 2, 2, 1, 2, 2, 1, 2, 1, 1, 2, 3, 1, 1, 5, 1, 1, 1, 2, 1, 1, 4, 1, 5, 2, 1, 2, 1, 1, 4, 1, 1, 1, 1, 2, 4, 2, 1, 1, 1, 1, 1, 3, 2, 1, 1, 1, 1, 1, 1, 5, 4, 3, 5, 5]\n"
     ]
    }
   ],
   "source": [
    "# Which was the most popular ice cream combination? (option 2 - without using the \"sold 5 times\" information)\n",
    "list_of_counts = []\n",
    "for icecream in icecream_sold:\n",
    "    # for each icecream combination, count the number of times it appears in the list\n",
    "    number_of_orders = icecream_sold.count(icecream)\n",
    "    # ... and append that number to our list_of_counts:\n",
    "    list_of_counts.append(number_of_orders)\n",
    "print(list_of_counts)\n"
   ]
  },
  {
   "cell_type": "code",
   "execution_count": 10,
   "id": "d309cbf3",
   "metadata": {},
   "outputs": [
    {
     "name": "stdout",
     "output_type": "stream",
     "text": [
      "5\n"
     ]
    }
   ],
   "source": [
    "# list_of_counts contains the number of times each ice cream combination appears on the list.\n",
    "# find the max on that list:\n",
    "max_number = max(list_of_counts)\n",
    "print(max_number)"
   ]
  },
  {
   "cell_type": "code",
   "execution_count": 11,
   "id": "6fc79135",
   "metadata": {},
   "outputs": [],
   "source": [
    "# find the index of the first appearance of 5 on that list:\n",
    "first_max_index = list_of_counts.index(5)"
   ]
  },
  {
   "cell_type": "code",
   "execution_count": 12,
   "id": "d24eddcf",
   "metadata": {},
   "outputs": [
    {
     "data": {
      "text/plain": [
       "('cookie', 'strawberry')"
      ]
     },
     "execution_count": 12,
     "metadata": {},
     "output_type": "execute_result"
    }
   ],
   "source": [
    "# find out what ice cream it refers to:\n",
    "icecream_sold[first_max_index]"
   ]
  },
  {
   "cell_type": "code",
   "execution_count": 13,
   "id": "138048ce",
   "metadata": {},
   "outputs": [
    {
     "name": "stdout",
     "output_type": "stream",
     "text": [
      "Number of unique flavors: 11\n",
      "List of unique flavors: {'mint', 'chocolate', 'straciatella', 'hazelnut', 'cheesecake', 'strawberry', 'vanilla', 'banana', 'caramel', 'yoghurt', 'cookie'}\n"
     ]
    }
   ],
   "source": [
    "# How many different ice cream flavours have been sold?\n",
    "flavors_list = [] # initiate an emtpy list\n",
    "for icecream in icecream_sold:\n",
    "    flavors_list.append(icecream[0])\n",
    "    flavors_list.append(icecream[1])\n",
    "    # append both the first and the second item in the icecream tuple to the list\n",
    "flavors_set = set(flavors_list) # make a set to obtain unique values from the list\n",
    "print(\"Number of unique flavors:\", len(flavors_set))\n",
    "print(\"List of unique flavors:\", flavors_set)"
   ]
  },
  {
   "cell_type": "markdown",
   "id": "02035d08",
   "metadata": {},
   "source": [
    "*** \n",
    "\n",
    "## Task 2 - Dictionaries at the ice cream shop\n",
    "\n",
    "Your employee is still using lists to store ice cream sales data, but you want to show them that using dictionaries is a much better idea! \n",
    "\n",
    "Create a dictionary `icedict` where:\n",
    "* keys ... ice cream flavour tuples; \n",
    "* values ... numbers of time this ice cream flavour tuple has been sold (i.e. the number of times it appears on the list);\n",
    "* for example, for the key `(yoghurt, mint)`, the `icedict[('yoghurt', 'mint')]` should contain the value `2`\n",
    "\n",
    "There are many ways to achieve this. **Some hints:**\n",
    "* start with an empty dictionary\n",
    "* use a loop to add key-value pairs\n",
    "* decide how to handle in your code the two different cases:\n",
    "    * case 1: your loop arrives at a key that is not yet in the dictionary\n",
    "    * case 2: your loop arrives at a key that is already in the dictionary"
   ]
  },
  {
   "cell_type": "code",
   "execution_count": null,
   "id": "c172c7b7",
   "metadata": {},
   "outputs": [],
   "source": [
    "# run this cell to define the icecream_sold variable\n",
    "icecream_sold = [\n",
    "    ('yoghurt', 'mint'), ('cookie', 'cookie'), ('caramel', 'yoghurt'), ('yoghurt', 'straciatella'), ('caramel', 'straciatella'),\n",
    "    ('vanilla', 'yoghurt'), ('hazelnut', 'banana'), ('straciatella', 'straciatella'), ('cookie', 'cookie'), ('cookie', 'caramel'),\n",
    "    ('banana', 'straciatella'), ('cheesecake', 'cookie'), ('chocolate', 'chocolate'), ('mint', 'hazelnut'), ('hazelnut', 'cheesecake'),\n",
    "    ('caramel', 'vanilla'), ('yoghurt', 'mint'), ('cheesecake', 'vanilla'), ('chocolate', 'cookie'), ('mint', 'strawberry'), ('cookie', 'strawberry'),\n",
    "    ('hazelnut', 'vanilla'), ('yoghurt', 'strawberry'), ('strawberry', 'chocolate'), ('cheesecake', 'cookie'), ('straciatella', 'vanilla'),\n",
    "    ('caramel', 'banana'), ('mint', 'straciatella'), ('caramel', 'strawberry'), ('cookie', 'strawberry'), ('caramel', 'yoghurt'),\n",
    "    ('strawberry', 'mint'), ('mint', 'hazelnut'), ('banana', 'hazelnut'), ('straciatella', 'banana'), ('mint', 'straciatella'),\n",
    "    ('cheesecake', 'chocolate'), ('mint', 'yoghurt'), ('cookie', 'banana'), ('cheesecake', 'mint'), ('banana', 'straciatella'),\n",
    "    ('mint', 'straciatella'), ('straciatella', 'straciatella'), ('cookie', 'mint'), ('cookie', 'straciatella'), ('banana', 'caramel'),\n",
    "    ('mint', 'cheesecake'), ('chocolate', 'banana'), ('cheesecake', 'vanilla'), ('vanilla', 'yoghurt'), ('hazelnut', 'yoghurt'),\n",
    "    ('hazelnut', 'cookie'), ('strawberry', 'cookie'), ('yoghurt', 'cheesecake'), ('cheesecake', 'banana'), ('vanilla', 'hazelnut'), \n",
    "    ('cookie', 'strawberry'), ('mint', 'straciatella'), ('cheesecake', 'vanilla'), ('cookie', 'strawberry'), ('cookie', 'strawberry')\n",
    "]"
   ]
  },
  {
   "cell_type": "markdown",
   "id": "4e0901ca",
   "metadata": {},
   "source": [
    "> Below, you find some sample solutions for this exercise. Try to work through all of them and understand their strategy and differences!"
   ]
  },
  {
   "cell_type": "markdown",
   "id": "2f3976cf",
   "metadata": {},
   "source": [
    "**Sample Solution A**\n",
    "\n",
    "* we define an empty dictionary, `icedict = {}`\n",
    "* we use a for loop, and loop through the items on the list of `icecream_sold`\n",
    "* we \"count\" the number of times an item appears in the list by adding 1 to the corresponding dictionary value:\n",
    "    * if we see the item for the first time, we add it to the dictionary with the value 1: `icedict[item] = 1`\n",
    "    * else (if the item is already a dictionary key) we increment its value by 1: `icedict[item] += 1` "
   ]
  },
  {
   "cell_type": "code",
   "execution_count": null,
   "id": "9adbf4a4",
   "metadata": {},
   "outputs": [],
   "source": [
    "# sample solution A\n",
    "icedict = {}\n",
    "for item in icecream_sold:\n",
    "    if item in icedict: # equivalent to \"if item in icedict.keys()\"\n",
    "        icedict[item] += 1\n",
    "    else:\n",
    "        icedict[item] = 1"
   ]
  },
  {
   "cell_type": "markdown",
   "id": "14ce55c0",
   "metadata": {},
   "source": [
    "**Sample Solution B**\n",
    "\n",
    "* we define an empty dictionary, `icedict = {}`\n",
    "* we use a for loop, and loop through the items on the list of `icecream_sold`\n",
    "* we \"count\" the number of times an item appears in the list with the `.count()` list method\n",
    "* we use an `if-else` statement to differentiate:\n",
    "    * if we see the item for the first time, we count the number of times it appears on the list, and create the dictionary entry: `icedict[item] = icecream_sold.count(item)`\n",
    "    * else (if the item is already a dictionary key) we don't need to count again, we just `pass`"
   ]
  },
  {
   "cell_type": "code",
   "execution_count": null,
   "id": "e77ffaec",
   "metadata": {},
   "outputs": [],
   "source": [
    "# Sample Solution B\n",
    "icedict = {}\n",
    "for item in icecream_sold:\n",
    "    if item in icedict: # equivalent to \"if item in icedict.keys()\"\n",
    "        pass # we can just pass, since we have already counted\n",
    "    else:\n",
    "        icedict[item] = icecream_sold.count(item)"
   ]
  },
  {
   "cell_type": "markdown",
   "id": "29da31d3",
   "metadata": {},
   "source": [
    "**Sample Solution C**\n",
    "\n",
    "* we make a set of unique icecreams sold, `icecream_set = set(icecream_sold)`\n",
    "* we define an empty dictionary, `icedict = {}`\n",
    "* we use a while loop, and pop out an item from the `icecream_set` at each step\n",
    "* we use the list method `.count()` to count the number of times the item appears on the list: `icedict[item] = iceream_sold.count(item)`"
   ]
  },
  {
   "cell_type": "code",
   "execution_count": null,
   "id": "3a264fd3",
   "metadata": {},
   "outputs": [],
   "source": [
    "# Sample solution C\n",
    "icecream_set = set(icecream_sold)\n",
    "icedict = {}\n",
    "while icecream_set:\n",
    "    item = icecream_set.pop()\n",
    "    icedict[item] = icecream_sold.count(item)\n",
    "icedict"
   ]
  },
  {
   "cell_type": "code",
   "execution_count": null,
   "id": "efe09d9b",
   "metadata": {},
   "outputs": [],
   "source": [
    "# you can run this cell to test whether you defined your dictionary correctly\n",
    "assert icedict[('chocolate', 'cookie')]==1\n",
    "assert icedict[('straciatella', 'straciatella')]==2\n",
    "assert icedict[('cheesecake', 'vanilla')]==3\n",
    "# if running this cell throws no errors, it means you have defined your icedict correctly!"
   ]
  },
  {
   "cell_type": "markdown",
   "id": "fdd3f970",
   "metadata": {},
   "source": [
    "***\n",
    "## Task 3: Dictionaries at the bank\n",
    "\n",
    "We provide you with the dictionary `bank_year` which contains data on movements from your bank account over the period of a year. We also give you the the variable `balance_before` which contains the balance on your account *before* the start of the `bank_year`. \n",
    "\n",
    "Keys are days of the year represented as `int` (from 0 to 364, where 0 is January 1st, ..., and 364 is December 31). \n",
    "\n",
    "Values are transactions. Positive values are payments to the account, negative values are withdrawals from the account. Values can have different types:\n",
    "* `list` (of ints) (if there were several transactions that day)\n",
    "* `int` (if there was only 1 transaction that day)\n",
    "* `bool` (value `False` - if there was no transaction that day)\n",
    "\n",
    "However, the data is not very clean. Your tasks:\n",
    "1. Make sure to delete all key-value pairs where the key is **not** of integer type. Be careful not to delete keys within a loop that iterates over keys!\n",
    "2. Next, make sure that all days of the year (i.e. all integers from 0 to 364) are represented in the `bank_year` dictionary. If a day is not yet in the dictionary, let's assume that there were no account movements on that day - add the day as key to the `bank_year` dictionary, with the value `False`.\n",
    "3. Make sure that all values are of type `list`, `int`, or `bool`. If you find some values that are of type `str`, convert them into `int`.\n",
    "4. Make a new dictionary, `bank_balance`, that contains the balance on your account at the end of each day as values. \n",
    "5. Find out:\n",
    "    * on how many days there were no transactions at all?\n",
    "    * on how many days your account balance was `>200000`?\n",
    "    * what is your account balance on the evening of December 31?\n",
    "    * how much did you **withdraw** from your account over the entire year? \n",
    "    * how much did you **deposit** to your account over the entire year?\n",
    "\n",
    "**Hint for subtask4**: Make a new dictionary where keys are days, and values are **account balance** at the end of each day, i.e. the sum of the balance before, and **all** past transactions. For example, if the balance on your account was 0, and your transactions on day 1 are [100,-30], then the balance at the end of day 1 on your account will be `70`."
   ]
  },
  {
   "cell_type": "code",
   "execution_count": null,
   "id": "4e1ce593",
   "metadata": {},
   "outputs": [],
   "source": [
    "# Run this cell to define the balance_before and the bank_year variables.\n",
    "balance_before = 1500\n",
    "bank_year = {\n",
    " 0: [665, 626, -303, -449],\n",
    " 1: [-392, -62, 201],\n",
    " 2: [826, 486, -324, -398],\n",
    " 3: \"-273\",\n",
    " 4: -327,\n",
    " 5: 66,\n",
    " 8: [-364, 14, 718],\n",
    " 9: False,\n",
    " 10: False,\n",
    " 11: [-186, 69, 308, 751, 578],\n",
    " 12: [404, 928, 17],\n",
    " 13: [335, -307, -155, -380],\n",
    " 14: [477, 388, 137, 593],\n",
    " 15: [-181, 399, 510, 868],\n",
    " 16: [-238, 267, -71],\n",
    " 17: [280, 262],\n",
    " 18: 529,\n",
    " 19: [701, 806],\n",
    " 20: [357, 322],\n",
    " 21: [629, 860],\n",
    " 22: [335, 647, -463],\n",
    " 23: [674, -216, 300],\n",
    " 24: [597, 50, -105, 135, 873],\n",
    " 25: -565,\n",
    " 26: False,\n",
    " 27: [720, 571, -214],\n",
    " 28: [-75, 213, 376],\n",
    " 29: 72,\n",
    " 30: -141,\n",
    " 31: [75, 559],\n",
    " 32: [890, 792, -334, 425],\n",
    " 33: [228, 361, -281],\n",
    " 34: 863,\n",
    " 35: 616,\n",
    " 36: 152,\n",
    " 37: [132, 149, -225, 117],\n",
    " 38: [-4, 157, 280, -446],\n",
    " 39: 1117,\n",
    " 40: [285, 5, -67, -384],\n",
    " 41: -354,\n",
    " 42: [-92, 415, 692, -361, 674],\n",
    " 43: [-277, 637],\n",
    " 44: [93, 343, -180, 547, 661],\n",
    " 45: [-9, -169, 487, 280, -22],\n",
    " 46: [-405, -171, 413],\n",
    " 47: False,\n",
    " 48: [-230, -457, -342, 465, -371],\n",
    " 49: [806, 956, 726],\n",
    " 50: [594, -205, -420, -129],\n",
    " 51: [789, -379, 123],\n",
    " 52: [235, -269, -267, -474, 638],\n",
    " 53: [-94, 635],\n",
    " 57: 1162,\n",
    " 58: -154,\n",
    " 59: 440,\n",
    " 60: [696, 887, 56, 262],\n",
    " 61: 626,\n",
    " 62: [162, 376],\n",
    " 63: 363,\n",
    " 64: [204, -165, 144, 111, -246],\n",
    " 65: -15,\n",
    " 66: -12,\n",
    " 67: [760, 79, 25],\n",
    " 68: [953, -221],\n",
    " 69: [-209, 784, 398, 945, 77],\n",
    " 70: -300,\n",
    " 71: [196, 304],\n",
    " 72: [579, 70, 52, 723],\n",
    " 73: 99,\n",
    " 78: 671,\n",
    " 79: 1010,\n",
    " 80: [200, 329, -77],\n",
    " 81: [-172, -470, 931, 610, -490],\n",
    " 82: [377, 363, 245, 995],\n",
    " 83: [988, 135, -167],\n",
    " 84: False,\n",
    " 85: [304, 588],\n",
    " 86: [-193, -380, 194, 995, -60],\n",
    " 87: [-106, -392],\n",
    " 88: [-232, -175, -327],\n",
    " 89: -196,\n",
    " 90: [-168, 552, -314],\n",
    " 91: [147, -341, 560],\n",
    " 92: [276, 701, 941, 66, 343],\n",
    " 93: 125,\n",
    " 94: [-155, 596],\n",
    " 95: -361,\n",
    " 96: 376,\n",
    " 97: [-481, 135],\n",
    " 98: [-487, 618],\n",
    " 102: [-25, -352],\n",
    " 103: [411, 86, 968, 718, -277],\n",
    " 104: 395,\n",
    " 105: [591, -221],\n",
    " 106: [-304, 931, 238],\n",
    " 107: [-155, -404, 538, 155, 444],\n",
    " 108: 975,\n",
    " 112: [-254, -92, 724, 758],\n",
    " 113: [172, 541],\n",
    " 114: 371,\n",
    " 115: [682, 467, 878, 309, 738],\n",
    " 116: [433, 210, -59, 3],\n",
    " 117: [799, -139, 555, -284, 972],\n",
    " 118: 746,\n",
    " 119: [945, 610, -214, -125],\n",
    " 120: [-114, 873, 324, -317, 845],\n",
    " 121: [265, -334, 328, 460],\n",
    " 122: [-394, 731, 653],\n",
    " 123: [-428, 685],\n",
    " 124: -265,\n",
    " 125: [743, 417, 486],\n",
    " 126: [712, 608, 90],\n",
    " 127: 135,\n",
    " 128: False,\n",
    " 129: [166, 292, 549, 450, -352],\n",
    " 130: [-105, 271, -63],\n",
    " 131: -483,\n",
    " 132: [341, 235],\n",
    " 133: 1001,\n",
    " 139: [836, 917, 347, 36, 885],\n",
    " 140: [369, 889],\n",
    " 141: [778, 250, 180, 431, 150],\n",
    " 142: [533, -276, 64, 897],\n",
    " 143: [-352, 403, 467, 588],\n",
    " 144: [-180, 984, 760, 342],\n",
    " 145: [987, -421, 332, 887],\n",
    " 146: 125,\n",
    " 147: [-334, 614, 593, -111],\n",
    " 148: [560, -258, -389, 557],\n",
    " 149: [208, 137, -295, 880, 6],\n",
    " 150: -279,\n",
    " 151: \"852\",\n",
    " 152: [-298, -143, -42, 89, 68],\n",
    " 153: [941, 134, 559, 939],\n",
    " 154: \"-268\",\n",
    " 155: [-66, -77],\n",
    " 156: [-479, 51, 396],\n",
    " 157: 70,\n",
    " 158: [327, 984, -173, -382],\n",
    " 159: 1024,\n",
    " 160: [251, -327, -432],\n",
    " 161: 1070,\n",
    " 162: [-156, 435, 977, 195, 469],\n",
    " 163: [386, 488, 396, 590],\n",
    " 164: 728,\n",
    " 165: [-223, 802],\n",
    " 166: [754, 304],\n",
    " 167: [983, -390],\n",
    " 168: [-290, 423, 968],\n",
    " 169: 47,\n",
    " 170: -689,\n",
    " 171: \"-441\",\n",
    " 172: 631,\n",
    " 173: [859, -449, 343],\n",
    " 174: 881,\n",
    " 175: [592, 712, 874, -122, 871],\n",
    " 176: [-441, -317, -425, 841, 446],\n",
    " 177: [-138, -466, 919, 974, 547],\n",
    " 178: [81, 844, 484, -342],\n",
    " 179: [99, -54, 193, -226, 568],\n",
    " 180: [402, 123, 279, 952, -201],\n",
    " 181: [878, 975, 128, 369, 60],\n",
    " 182: 91,\n",
    " 183: 425,\n",
    " 184: [345, 640, 47],\n",
    " 185: [878, 892, 339, 727],\n",
    " 186: \"-510\",\n",
    " 187: [-150, 696],\n",
    " 188: [-132, 232, 509, 619, 587],\n",
    " 189: [868, 146],\n",
    " 190: -432,\n",
    " 191: [498, 435, -447, -439],\n",
    " 192: [-100, 673],\n",
    " 196: [-348, 526, 58, 31],\n",
    " 197: [436, 399],\n",
    " 198: [424, 960, 475],\n",
    " 199: \"892\",\n",
    " 200: [9, 672, 381, 809],\n",
    " 201: [-435, -267, 298, -82],\n",
    " 202: [324, 429, -301],\n",
    " 203: [-325, 812],\n",
    " 204: [-207, 25, -436],\n",
    " 205: [339, 558, 193, 464, 787],\n",
    " 206: [179, 411, 33, 275],\n",
    " 207: [255, -251],\n",
    " 208: [615, -264, -355, 207],\n",
    " 209: [-481, 697],\n",
    " 210: [272, 767],\n",
    " 211: [918, 116],\n",
    " 212: 645,\n",
    " 213: -519,\n",
    " 214: [950, 634, 676, 809, 75],\n",
    " 215: 667,\n",
    " 216: [-475, 553, 722, 907],\n",
    " 217: [95, -445, -148, 954, -469],\n",
    " 218: 149,\n",
    " 219: [125, -112, -412, 438, -391],\n",
    " 220: [154, 337, 405, 251, 582],\n",
    " 221: [552, 385, -473, -278],\n",
    " 222: [844, 939, 989, 103, 396],\n",
    " 223: [700, -62, 46, 644],\n",
    " \"email\": \"example@itu.dk\",\n",
    " (2022, 12, 31): \"YYYY, MM, DD\",\n",
    " 224: 512,\n",
    " 225: [-338, 930, 219],\n",
    " 226: 524,\n",
    " 227: [367, 33, -470],\n",
    " 228: 542,\n",
    " 229: [351, 281, -173],\n",
    " 230: False,\n",
    " 231: -439,\n",
    " 232: -468,\n",
    " 233: [-325, 458, 839, 519],\n",
    " 234: 151,\n",
    " 235: 769,\n",
    " 236: [-275, 459, 352, 906, -244],\n",
    " 237: 1092,\n",
    " 238: [881, -167, 64, 852, 798],\n",
    " 239: 464,\n",
    " 240: [-427, 845, 217],\n",
    " 241: [364, -485],\n",
    " 242: 1168,\n",
    " 243: [574, -276],\n",
    " 244: 698,\n",
    " 245: [-29, -305],\n",
    " 246: [178, -352, -390, -79],\n",
    " 247: [413, -330, 833, -94, 641],\n",
    " 248: [991, 687, -159, -181, 828],\n",
    " 249: [130, -353, -150, 322, -421],\n",
    " 250: False,\n",
    " 251: [-451, -15, 631],\n",
    " 252: [555, 292],\n",
    " 253: [549, -407],\n",
    " 254: 577,\n",
    " 255: [24, 770, 164],\n",
    " 256: [-186, 550],\n",
    " 257: -523,\n",
    " 258: [664, -334, -198, -13, 374],\n",
    " 259: [683, 810, 616, 584],\n",
    " 260: [-268, -278, -37, 421, 744],\n",
    " 261: [593, 887],\n",
    " 262: [-273, 694, -323, -351],\n",
    " 263: [-443, 492, -266],\n",
    " 264: 1092,\n",
    " 265: [-388, -124, -22, 162, -147],\n",
    " 266: -28,\n",
    " 267: -603,\n",
    " \"currency\": \"EURO\",\n",
    " 268: [-172, -248, -170, -16],\n",
    " 269: False,\n",
    " 270: [248, -239],\n",
    " 271: [-429, -70],\n",
    " 272: [264, 851, 923, 388],\n",
    " 273: [533, 899, 677, 61],\n",
    " 274: [126, -93, 907, 916],\n",
    " 275: [877, -483, -124, 409, 699],\n",
    " 276: [316, 746, -405, 536, 950],\n",
    " 277: [-132, -11, 393, -15, -255],\n",
    " 278: [-304, -319],\n",
    " 279: [-4, 566],\n",
    " 280: [8, 966, -474],\n",
    " 281: [256, 144, -99, 400],\n",
    " 282: [-423, -155, 688],\n",
    " 283: [-455, -377],\n",
    " 284: [350, -135, 158],\n",
    " 285: 1129,\n",
    " 286: [-383, 487, -397, 66, 980],\n",
    " 287: -226,\n",
    " 288: [492, -91, 742],\n",
    " 298: [172, 932, -12],\n",
    " 299: 1034,\n",
    " 300: [-1, 419, -59, 934],\n",
    " 301: [373, -471],\n",
    " 302: [82, 942, -61],\n",
    " 303: 1041,\n",
    " \"year\": 2022,\n",
    " 304: [353, 625, 257, 613, -480],\n",
    " 305: [782, -372, 218, 538],\n",
    " 306: [137, -461, 294, 955, 485],\n",
    " 307: 522,\n",
    " 308: [182, 386, 620, 170],\n",
    " 309: -538,\n",
    " 310: [532, 355, 325, -302, 396],\n",
    " 311: [-14, -6, 390, 681, 445],\n",
    " 312: [-65, 264, 635, -133, 293],\n",
    " 313: [433, -368, -348, -496, 753],\n",
    " 314: -488,\n",
    " 317: [366, 988, -324, 727, 159],\n",
    " 318: 165,\n",
    " 319: [-228, -459, 703],\n",
    " 320: [-440, 768, 258],\n",
    " 321: [644, -310],\n",
    " 322: [-141, -209, 850, 96, -301],\n",
    " 323: [318, 446],\n",
    " 324: -46,\n",
    " 325: 76,\n",
    " 326: [431, 984, 551, 450],\n",
    " 327: [544, 414, 365, 827, 263],\n",
    " 328: [-81, -35, 858, 866],\n",
    " 329: [21, -53],\n",
    " 330: [-387, 150, -378, 843],\n",
    " 331: [436, 26, 401, -30],\n",
    " 332: [163, -74],\n",
    " 333: [978, -175, 591, 952, -465],\n",
    " 334: [100, 438, -223],\n",
    " 335: [446, -388, -452, 680, 285],\n",
    " 336: [-71, 766, 778, 99],\n",
    " 337: [963, 903, -474, -224],\n",
    " 338: 294,\n",
    " 341: [240, -290, 304, -88, 625],\n",
    " 342: [823, 999],\n",
    " 343: [437, -29, 296, 837, 660],\n",
    " 344: -516,\n",
    " 345: -91,\n",
    " 346: [648, 10],\n",
    " 347: 1161,\n",
    " 348: [447, -207, -446],\n",
    " 349: [-462, -49],\n",
    " 350: -413,\n",
    " 351: [25, -76, -248, -322],\n",
    " 352: [-272, 376],\n",
    " 353: -212,\n",
    " 354: 525,\n",
    " \"private_account\": True,\n",
    " \"business_account\": False,\n",
    " 355: \"-210\",\n",
    " 356: \"1062\",\n",
    " 357: [502, 8, -255, 621],\n",
    " 358: [244, -35],\n",
    " 359: [-413, -387, 148, 205],\n",
    " 360: [188, 510, 50, 946, -389],\n",
    " 361: [-79, 140, 237, 186, 304],\n",
    " 362: False,\n",
    " 363: [576, 444, 570],\n",
    " 364: -338}"
   ]
  },
  {
   "cell_type": "code",
   "execution_count": null,
   "id": "2e503885",
   "metadata": {},
   "outputs": [],
   "source": [
    "# 3.1. delete key value pairs if key is not an integer in the range from 0 to 364\n",
    "keys_to_delete = [] # initiate an empty list\n",
    "for key in bank_year.keys(): # iterate through all keys\n",
    "    if not type(key) is int: # if the type of key is not \"int\":\n",
    "        keys_to_delete.append(key)\n",
    "for key in keys_to_delete:\n",
    "    del(bank_year[key])"
   ]
  },
  {
   "cell_type": "code",
   "execution_count": null,
   "id": "a40d7984",
   "metadata": {},
   "outputs": [],
   "source": [
    "# 3.2. add missing key-value pairs\n",
    "# iterate over all days in the year\n",
    "for day in range(365):\n",
    "    if day not in bank_year: # if the day is not a key yet,\n",
    "        bank_year[day] = False # add the key-value pair day:False to the dict"
   ]
  },
  {
   "cell_type": "code",
   "execution_count": null,
   "id": "66ffe480",
   "metadata": {},
   "outputs": [],
   "source": [
    "# 3.3. check the types of all values - if str, convert to int\n",
    "for key, value in bank_year.items():\n",
    "    if type(value) is str:\n",
    "        bank_year[key] = int(value)"
   ]
  },
  {
   "cell_type": "code",
   "execution_count": null,
   "id": "5f870c51",
   "metadata": {},
   "outputs": [],
   "source": [
    "# 3.4. create the bank_balance dictionary\n",
    "\n",
    "# initiate an empty dictionary\n",
    "bank_balance = {} \n",
    "\n",
    "# the first entry (balance on day 1) is the sum of the balance_before\n",
    "# and of the sum of withdrawals/payments stored in bank_year[0]:\n",
    "bank_balance[0] = balance_before + sum(bank_year[0])\n",
    "\n",
    "# we can loop through the rest of the days,\n",
    "# where the bank_balance[day] will always be the sum\n",
    "# of the bank_balance on the PREVIOUS day (day-1)\n",
    "# and the sum of withdrawals/payments on that day.\n",
    "for i in range(1,365):\n",
    "    # We have to differentiate between int/bool vs. list\n",
    "    # so that we can use the correct way to sum:\n",
    "    if type(bank_year[i]) in [int,bool]:\n",
    "        bank_balance[i] = bank_balance[i-1] + bank_year[i]\n",
    "    elif type(bank_year[i]) is list:\n",
    "        bank_balance[i] = bank_balance[(i-1)] + sum(bank_year[i])"
   ]
  },
  {
   "cell_type": "code",
   "execution_count": null,
   "id": "5ecc0b14",
   "metadata": {},
   "outputs": [],
   "source": [
    "# 3.5. count days with no transactions\n",
    "# Days with no transactions have the boolean False as value\n",
    "\n",
    "# start counting at 0\n",
    "days_without_transactions = 0\n",
    "# loop through all values\n",
    "for value in bank_year.values():\n",
    "    # if a value is False,\n",
    "    if value is False:\n",
    "        # add 1 to our count\n",
    "        days_without_transactions += 1\n",
    "print(\"Number of days without transactions:\", days_without_transactions)"
   ]
  },
  {
   "cell_type": "code",
   "execution_count": null,
   "id": "4d307d89",
   "metadata": {},
   "outputs": [],
   "source": [
    "# 3.5. count days with account balance > 200.000\n",
    "# similar as the task above.\n",
    "# loop through values of bank_balance;\n",
    "# count the values > 200.000\n",
    "days_above_200grand = 0\n",
    "for value in bank_balance.values():\n",
    "    if value > 200000:\n",
    "        days_above_200grand += 1\n",
    "print(\"Number of days with balance above 200000:\", days_above_200grand)"
   ]
  },
  {
   "cell_type": "code",
   "execution_count": null,
   "id": "624f0566",
   "metadata": {},
   "outputs": [],
   "source": [
    "# 3.5. balance on evening of December 31\n",
    "print(\"Balance at the end of the year:\", bank_balance[364])"
   ]
  },
  {
   "cell_type": "code",
   "execution_count": null,
   "id": "d1acb7db",
   "metadata": {},
   "outputs": [],
   "source": [
    "# 3.5. sum of withdrawals\n",
    "# initiate sum\n",
    "withdrawals = 0\n",
    "# loop through all values\n",
    "for value in bank_year.values():\n",
    "    print(value)\n",
    "    # check their type (int/bool/list)\n",
    "    # if they are of type int AND below 0:\n",
    "    if (type(value) is int) and (value < 0):\n",
    "        # add their value to the sum of withdrawals\n",
    "        # note that value has a negative sign here!\n",
    "        withdrawals += value\n",
    "    # if the value is of type list:\n",
    "    elif type(value) is list:\n",
    "        # loop through all the items (withdrawals/deposits) on the list\n",
    "        for item in value:\n",
    "            # if it is below 0 (and thus a withdrawal)\n",
    "            if item < 0:\n",
    "                # add the item to the withdrawals\n",
    "                withdrawals += item\n",
    "print(\"Total withdrawals: \", withdrawals)"
   ]
  },
  {
   "cell_type": "code",
   "execution_count": null,
   "id": "6a6783ee",
   "metadata": {},
   "outputs": [],
   "source": [
    "# 3.5. sum of deposits\n",
    "# OPTION 1:\n",
    "# Same code as below, just exchange the sign: >0 instead <0\n",
    "# initiate sum\n",
    "deposits = 0\n",
    "# loop through all values\n",
    "for value in bank_year.values():\n",
    "    # check their type (int/bool/list)\n",
    "    # if they are of type int AND below 0:\n",
    "    if (type(value) is int) and (value > 0):\n",
    "        # add their value to the sum of withdrawals\n",
    "        # note that value has a negative sign here!\n",
    "        deposits += value\n",
    "    # if the value is of type list:\n",
    "    elif type(value) is list:\n",
    "        # loop through all the items (withdrawals/deposits) on the list\n",
    "        for item in value:\n",
    "            # if it is below 0 (and thus a withdrawal)\n",
    "            if item > 0:\n",
    "                # add the item to the withdrawals\n",
    "                deposits += item\n",
    "print(\"Total deposits: \", deposits)"
   ]
  },
  {
   "cell_type": "code",
   "execution_count": null,
   "id": "bd4a7af8",
   "metadata": {},
   "outputs": [],
   "source": [
    "# 3.5. sum of deposits\n",
    "# OPTION 2:\n",
    "# since we already know the balance before and after the bank year,\n",
    "# and also the sum of withdrawals, we can simply compute:\n",
    "deposits = bank_balance[364] - balance_before + abs(withdrawals)\n",
    "deposits"
   ]
  },
  {
   "cell_type": "markdown",
   "id": "37d57fd0",
   "metadata": {},
   "source": [
    "***\n",
    "## Task 4: Counting letters\n",
    "\n",
    "**(4a)** Write a function `count_A` that takes a string as an input and uses a `for` loop to count how many times the capital letter `A` appears in it. Test your function on the string `\"THE CAPITAL OF MADAGASCAR IS ANTANANARIVO\"` by asserting that it returns the expected number of letters.\n",
    "\n",
    "**(4b)** Write a modified function, `count_Aa`, which counts both capitalized and small letters (`A` and `a`). Test your modified function on the string `\"A change is as good as a rest\"` by asserting that it returns the expected number of letters.\n"
   ]
  },
  {
   "cell_type": "code",
   "execution_count": null,
   "id": "f6d6facb",
   "metadata": {},
   "outputs": [],
   "source": [
    "def count_A(input_string):\n",
    "    count = 0\n",
    "    for letter in input_string:\n",
    "        if letter==\"A\":\n",
    "            count +=1\n",
    "    return count"
   ]
  },
  {
   "cell_type": "code",
   "execution_count": null,
   "id": "df55dc39",
   "metadata": {},
   "outputs": [],
   "source": [
    "assert count_A(\"THE CAPITAL OF MADAGASCAR IS ANTANANARIVO\")==10"
   ]
  },
  {
   "cell_type": "code",
   "execution_count": null,
   "id": "c9eeea99",
   "metadata": {},
   "outputs": [],
   "source": [
    "def count_Aa(input_string):\n",
    "    count = 0\n",
    "    for letter in input_string:\n",
    "        if letter in [\"A\", \"a\"]:\n",
    "            count +=1\n",
    "    return count "
   ]
  },
  {
   "cell_type": "code",
   "execution_count": null,
   "id": "6eee59e7",
   "metadata": {},
   "outputs": [],
   "source": [
    "assert count_Aa(\"A change is as good as a rest\")==5"
   ]
  },
  {
   "cell_type": "markdown",
   "id": "0d9b4bac",
   "metadata": {},
   "source": [
    "***\n",
    "## Task 5: Summing up numbers\n",
    "\n",
    "**(5a)** Use a `for` loop and the variable `my_sum` (initally set to 0) to calculate the sum of all numbers from 0 to 500.\n",
    "\n",
    "**(5b)** Use a `for` loop and the variable `my_sum` (initally set to 0) to calculate the sum of all **even** numbers from 0 to 500.\n",
    "\n",
    "**(5c)** Use a `for` loop and the variable `my_sum` (initally set to 0) to calculate the sum of all **divisible by 7** numbers from 0 to 500.\n",
    "\n",
    "> **Hint:** Use the modulo operator `%` for (5b) and (5c)"
   ]
  },
  {
   "cell_type": "code",
   "execution_count": null,
   "id": "03235ddc",
   "metadata": {},
   "outputs": [],
   "source": [
    "# 4a: sum of numbers from 0 to 500\n",
    "my_sum = 0\n",
    "for i in range(501): # !! to include the number 500, range() must go up to 501\n",
    "    my_sum += i\n",
    "print(my_sum)"
   ]
  },
  {
   "cell_type": "code",
   "execution_count": null,
   "id": "e7366186",
   "metadata": {},
   "outputs": [],
   "source": [
    "# 4b: sum of all even numbers from 0 to 500\n",
    "# same as above, but using a conditional and the modulo %:\n",
    "my_sum = 0\n",
    "for i in range(501): # !! to include the number 500, range() must go up to 501\n",
    "    if i % 2 == 0:\n",
    "        my_sum += i\n",
    "print(my_sum)"
   ]
  },
  {
   "cell_type": "code",
   "execution_count": null,
   "id": "67d853fc",
   "metadata": {},
   "outputs": [],
   "source": [
    "# 4b: alternative solution: we can also make range() take steps of 2:\n",
    "my_sum = 0\n",
    "for i in range(0, 501, 2):\n",
    "    my_sum += i\n",
    "print(my_sum)"
   ]
  },
  {
   "cell_type": "code",
   "execution_count": null,
   "id": "10d1695b",
   "metadata": {},
   "outputs": [],
   "source": [
    "# 4c: same as above, but now with modulo 7 instead of modulo 2\n",
    "my_sum = 0\n",
    "for i in range(501):\n",
    "    if i % 7 == 0:\n",
    "        my_sum += i\n",
    "print(my_sum)"
   ]
  },
  {
   "cell_type": "markdown",
   "id": "4cee299e",
   "metadata": {},
   "source": [
    "*** \n",
    "## Task 6: Summing up numbers, but differently\n",
    "\n",
    "Use a `while` loop and the augmented assignment operator `+=` to calculate the sum of all numbers from 0 to 500. (Note: this is just a different way of solving task 5a).\n",
    "\n",
    "> **Bonus:** Find an analytical expression to compute this sum with pen&paper. "
   ]
  },
  {
   "cell_type": "code",
   "execution_count": null,
   "id": "72403ade",
   "metadata": {},
   "outputs": [],
   "source": [
    "my_sum = 0\n",
    "i = 0\n",
    "while i <= 500:\n",
    "    my_sum += i\n",
    "    i += 1\n",
    "my_sum"
   ]
  },
  {
   "cell_type": "code",
   "execution_count": null,
   "id": "20234c98",
   "metadata": {},
   "outputs": [],
   "source": [
    "# altenative solution of task 5: make an \"eternal\" while loop, but break out of it when i becomes > 500:\n",
    "my_sum = 0\n",
    "i = 0\n",
    "while True:\n",
    "    my_sum += i\n",
    "    i += 1\n",
    "    if i > 500:\n",
    "        break\n",
    "print(my_sum)"
   ]
  },
  {
   "cell_type": "markdown",
   "id": "5e4be676",
   "metadata": {},
   "source": [
    "**analytical expression for the sum:**\n",
    "We can group the first and last, second and second-last, third and third-last... etc. numbers together. Every time, the sum of the two grouped numbers will give us 501: \n",
    "```\n",
    "1 + 500 = 501\n",
    "2 + 499 = 501\n",
    "3 + 498 = 501\n",
    "4 + 497 = 501\n",
    "... etc.\n",
    "250 + 251 = 501\n",
    "```\n",
    "And we can do this 500/2 = 250 times. So, the analytical expression is: `250*501`"
   ]
  },
  {
   "cell_type": "code",
   "execution_count": null,
   "id": "ac14c4ce",
   "metadata": {},
   "outputs": [],
   "source": [
    "print(250*501)"
   ]
  },
  {
   "cell_type": "markdown",
   "id": "b2729c82",
   "metadata": {},
   "source": [
    "***\n",
    "## Task 7: Summing up numbers, but we stop at 253\n",
    "\n",
    "Use a `for` loop **or** a `while` loop to find out how many integers (0 + 1 + 2 + 3 ... + n) you need to sum up to obtain 253. (There are many different ways to do this! If you find just 1, that's enough :) \n",
    "\n",
    "**Hints** Think about how and when to break out of the loop; think about how to make sure that at each loop iteration, we increase by 1 the number that we are adding to the sum.\n",
    "\n",
    "> We can (but we don't have to...) write this task as an equation, that we want to solve for `n`:\n",
    "\n",
    "$\\sum_{i=0}^{n}{i}=253$\n"
   ]
  },
  {
   "cell_type": "code",
   "execution_count": null,
   "id": "56ef7689",
   "metadata": {},
   "outputs": [],
   "source": [
    "my_sum = 0\n",
    "count = 0\n",
    "while True:\n",
    "    my_sum += count\n",
    "    if my_sum >= 253:\n",
    "        break # !! break *before* increasing the count to get the right integer at which to stop!\n",
    "    count += 1\n",
    "print(count, my_sum)"
   ]
  },
  {
   "cell_type": "code",
   "execution_count": null,
   "id": "6139306f",
   "metadata": {},
   "outputs": [],
   "source": [
    "# check with an analytical expression, as above in Task 5, if we coded everything correctly:\n",
    "assert (22+1)*(22/2) == 253"
   ]
  },
  {
   "cell_type": "markdown",
   "id": "c63b8b61",
   "metadata": {},
   "source": [
    "***\n",
    "\n",
    "## Task 8 - Finding divisors\n",
    "\n",
    "Use the `%` operator and a loop of your choice to find out:\n",
    "* how many numbers from 1 to 100 are divisible by 7? save them into a list and print out the list\n",
    "* by which numbers from 2 to 30 is `462231` divisible? save them into a list and print out the list"
   ]
  },
  {
   "cell_type": "code",
   "execution_count": null,
   "id": "8e460f2d",
   "metadata": {},
   "outputs": [],
   "source": [
    "# Numbers from 1 to 100 that are divisible by 7\n",
    "divisible_by_7 = [] # initiate empty list\n",
    "for i in range(1,101): # for each number from 1 to 100,\n",
    "    if i % 7 == 0:  # if the modulo 7 of this number is 0:\n",
    "        divisible_by_7.append(i) # append this number to our list\n",
    "print(divisible_by_7) # print out the list"
   ]
  },
  {
   "cell_type": "code",
   "execution_count": null,
   "id": "ec59a86a",
   "metadata": {},
   "outputs": [],
   "source": [
    "# Numbers from 2 to 30 by which 462231 is divisible\n",
    "divisors = [] # initiate an empty list\n",
    "for i in range(2,31): # for each number from 2 to 30,\n",
    "    if 462231 % i == 0: # if 462331 divided by this number has modulo 0,\n",
    "        divisors.append(i) # append this number to the list\n",
    "print(divisors) # print out the list\n",
    "         "
   ]
  },
  {
   "cell_type": "markdown",
   "id": "0bf70128",
   "metadata": {},
   "source": [
    "***\n",
    "## Task 9: Finding the bug\n",
    "\n",
    "\n",
    "In the code below, somebody tried to remove all 2's from a list by looping through the list *indeces*, and removing the list *element* if its value is equal to 2. \n",
    "* Why does this not work? What is the hidden danger in this code?\n",
    "* Correct the code so that it removes all `2`s from the list! (there are several ways to do this)\n",
    "\n",
    "```python\n",
    "my_list = [2, 1, 2, 3, 4, 5]\n",
    "for i in range(len(my_list)):\n",
    "     if my_list[i] == 2:\n",
    "        my_list.remove(my_list[i])\n",
    "print(my_list)\n",
    "```"
   ]
  },
  {
   "cell_type": "code",
   "execution_count": null,
   "id": "f3ff12f7",
   "metadata": {},
   "outputs": [],
   "source": [
    "# Find the bug in the code below!\n",
    "my_list = [2, 1, 2, 3, 4, 5]\n",
    "for i in range(len(my_list)):\n",
    "    if my_list[i] == 2:\n",
    "        my_list.remove(my_list[i])\n",
    "print(my_list)"
   ]
  },
  {
   "cell_type": "code",
   "execution_count": null,
   "id": "99ca311b",
   "metadata": {},
   "outputs": [],
   "source": [
    "# The bug comes from CHANGING the list while we ITERATE over it.\n",
    "# DON'T DO THIS!\n",
    "# A better solution, instead of REMOVING UNWANTED numbers, is to\n",
    "# create a NEW LIST and ADDING WANTED numbers:\n",
    "my_list = [2, 1, 2, 3, 4, 5]\n",
    "my_new_list = []\n",
    "for i in range(len(my_list)):\n",
    "    if my_list[i] != 2: # note that here we changed to \"!=\" instead of \"==\"\n",
    "        my_new_list.append(my_list[i])\n",
    "print(my_new_list)"
   ]
  },
  {
   "cell_type": "markdown",
   "id": "e2d4fe0c",
   "metadata": {},
   "source": [
    "## Task 10: Coding on paper\n",
    "\n",
    "This is an exam question from the 2022's **PEN AND PAPER** exam of this course. Please try to solve this with \"pen and paper\"! Write down your answers. Then, check (by implementing the code in Python) whether your answers were correct.\n",
    "\n",
    "```python\n",
    "i=0\n",
    "while i<=9:\n",
    "    print(\"*\"*i)\n",
    "    i = i+1\n",
    "```\n",
    "**Q1** How many times does the above while loop execute exactly?\n",
    "\n",
    "**Q2** What does the code print out? In particular, what exactly is printed in the last line?\n",
    "\n",
    "**Q3**  Write an implementation for the same functionality by replacing the while loop with a for loop.\n"
   ]
  },
  {
   "cell_type": "markdown",
   "id": "a5a9f9d5",
   "metadata": {},
   "source": [
    "**Ans1** 10 times\n",
    "\n",
    "**Ans2** it prints the character `*` i times. Since i starts at 0, in the first iteration nothing is printed. Since i is incremented by 1 at each step, and the condition is True while i is smaller or equal to 9, the while loop will end when the line `i = i+1` results in `i` getting the value of `10`; so the last line will print out 9 asteriscs `*********`\n",
    "\n",
    "**Ans3** \n",
    "\n",
    "```python\n",
    "for i in range(10):\n",
    "    print(\"*\"*i)\n",
    "```"
   ]
  },
  {
   "cell_type": "code",
   "execution_count": null,
   "id": "84a99ae2",
   "metadata": {},
   "outputs": [],
   "source": [
    "# trying out the code\n",
    "i=0\n",
    "while i<=9:\n",
    "    print(\"*\"*i)\n",
    "    i = i+1"
   ]
  },
  {
   "cell_type": "code",
   "execution_count": null,
   "id": "692f5070",
   "metadata": {},
   "outputs": [],
   "source": [
    "# trying out the code pt. 2\n",
    "for i in range(10):\n",
    "    print(\"*\"*i)"
   ]
  },
  {
   "cell_type": "code",
   "execution_count": null,
   "id": "e716fa4e",
   "metadata": {},
   "outputs": [],
   "source": []
  }
 ],
 "metadata": {
  "kernelspec": {
   "display_name": "base",
   "language": "python",
   "name": "python3"
  },
  "language_info": {
   "codemirror_mode": {
    "name": "ipython",
    "version": 3
   },
   "file_extension": ".py",
   "mimetype": "text/x-python",
   "name": "python",
   "nbconvert_exporter": "python",
   "pygments_lexer": "ipython3",
   "version": "3.13.5"
  }
 },
 "nbformat": 4,
 "nbformat_minor": 5
}
