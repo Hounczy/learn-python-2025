{
 "cells": [
  {
   "cell_type": "markdown",
   "id": "ef931004",
   "metadata": {},
   "source": [
    "# Python Crash Course - Exercise 05\n",
    "\n",
    "Topics covered:\n",
    "* Working with built-in modules; the `random` module\n",
    "* Functions with several parameters\n",
    "\n",
    "Tasks:\n",
    "* Task 0: go back to Exercise 04 and recap dictionaries & for/while loops!\n",
    "* Task 1: Exploring built-in Python modules\n",
    "* Task 2: Simulating a dice game"
   ]
  },
  {
   "cell_type": "markdown",
   "id": "4eda282c",
   "metadata": {},
   "source": [
    "## Task 0: Allocated time with TAs to recap tasks from Exercise 4"
   ]
  },
  {
   "cell_type": "markdown",
   "id": "4db069cc",
   "metadata": {},
   "source": [
    "## Task 1: Exploring built-in Python modules\n",
    "\n",
    "In each of the code snippets below, we import a built-in module (or a single function from a module), and then call one of the module's functions.\n",
    "\n",
    "Explore the code output, as well as the [documentation](https://docs.python.org/3/py-modindex.html#) of the corresponding Python module, to answer the questions about the code snippets."
   ]
  },
  {
   "cell_type": "code",
   "execution_count": 3,
   "id": "c7e06b72",
   "metadata": {},
   "outputs": [
    {
     "name": "stdout",
     "output_type": "stream",
     "text": [
      "7\n"
     ]
    }
   ],
   "source": [
    "# the operator module\n",
    "from operator import add\n",
    "result_sub = add(4,3)\n",
    "\n",
    "# what does the variable \"result\" contain?\n",
    "print(result_sub)"
   ]
  },
  {
   "cell_type": "code",
   "execution_count": 5,
   "id": "e375987a",
   "metadata": {},
   "outputs": [
    {
     "name": "stdout",
     "output_type": "stream",
     "text": [
      "1\n"
     ]
    }
   ],
   "source": [
    "# how can you access the sub() function in the operator module,\n",
    "# for the following line of code to work?\n",
    "# result_sub = sub(4,3)\n",
    "\n",
    "from operator import sub\n",
    "result_sub = sub(4,3)\n",
    "print(result_sub)"
   ]
  },
  {
   "cell_type": "code",
   "execution_count": null,
   "id": "6f8f5e3c",
   "metadata": {},
   "outputs": [
    {
     "name": "stdout",
     "output_type": "stream",
     "text": [
      "1757428957.268776\n",
      "Tue Sep  9 16:42:37 2025\n"
     ]
    }
   ],
   "source": [
    "# the time module:\n",
    "import time\n",
    "time_in_secs = time.time()\n",
    "\n",
    "print(time_in_secs)\n",
    "time_as_str = time.ctime(time_in_secs)\n",
    "print(time_as_str)\n",
    "\n",
    "# What does the number saved in the variable time_in_secs represent?\n",
    "\n"
   ]
  },
  {
   "cell_type": "code",
   "execution_count": null,
   "id": "8ce045b3",
   "metadata": {},
   "outputs": [],
   "source": [
    "# What does the function ctime() from the time module do?\n",
    "# gives current time back as string"
   ]
  },
  {
   "cell_type": "code",
   "execution_count": 10,
   "id": "605cf642",
   "metadata": {},
   "outputs": [
    {
     "data": {
      "text/plain": [
       "Counter({'apple': 3, 'cookies': 1, 'orange': 1, 'sandwich': 1})"
      ]
     },
     "execution_count": 10,
     "metadata": {},
     "output_type": "execute_result"
    }
   ],
   "source": [
    "# the Counter function from the collections module:\n",
    "mysnacks = [\"cookies\", \"apple\", \"orange\", \"sandwich\", \"apple\", \"apple\"]\n",
    "from collections import Counter\n",
    "myCounter = Counter(mysnacks)\n",
    "# explain what the object myCounter now contains!\n",
    "myCounter"
   ]
  },
  {
   "cell_type": "markdown",
   "id": "9d05123b",
   "metadata": {},
   "source": [
    "# Task 2: Simulating a dice game\n",
    "\n",
    "Now that we know how to simulate dice with the `random` module,  let's play a game! The rules are simple: you have `N` dice;  you throw them `M` times; if the sum of all your dice in all throws is bigger than `S`, you win. For example, if `N=3`, `M=2`, and `S=20`, it means that you have N=3 dice that you are allowed to throw M=2 times, and you win if all your points add up to at least S=20. \n",
    "\n",
    "**Write a function `win_dice_game` that:**\n",
    "* takes as input \n",
    "    * `n_dice` (the number of dice in the game), \n",
    "    * `n_throws` (the number of times the dice are thrown), and \n",
    "    * `points_win` (the number of points you need to have to win) \n",
    "* uses a function of your choice from the [`random` module](https://docs.python.org/3/library/random.html) to simulate the dice throw\n",
    "* computes the sum of all points from the dice throw\n",
    "* compares the sum to `points_win` and returns either `True` (if you win, i.e. if the sum is equal to or greater than `points_win`) or `False` otherwise\n",
    "\n",
    "**Use your function `win_dice_game()` to simulate 100 games**, with different settings. What percentage of games did you win if:\n",
    "* you have 2 dice, are allowed 3 throws, and need at least 20 points to win?\n",
    "* you have 5 dice, are allowed 5 throws, and need at least 120 points to win?\n",
    "\n",
    "How many games do you need to play with the second configuration (5 dice, 5 throws, and at least 120 points to win) if you want to win at least once? (Just experiment with your code by increasing/decreasing the number of games played, no mathematical formula needed - but you can **try** to come up with one!)"
   ]
  },
  {
   "cell_type": "code",
   "execution_count": 25,
   "id": "7b139e2d",
   "metadata": {},
   "outputs": [
    {
     "data": {
      "text/plain": [
       "0.55"
      ]
     },
     "execution_count": 25,
     "metadata": {},
     "output_type": "execute_result"
    }
   ],
   "source": [
    "# YOUR CODE HERE\n",
    "import random\n",
    "\n",
    "\n",
    "def win_dice_game(n_dice, n_throws, points_win):\n",
    "    score = 0\n",
    "    for i in range(n_dice):\n",
    "        for i in range(n_throws):\n",
    "            score += random.choice(range(1,7))\n",
    "    \n",
    "    if score > points_win:\n",
    "        return True\n",
    "    else:\n",
    "        return False\n",
    "\n",
    "def play_game(n_dice, n_throws, points_win, times = 100):\n",
    "    win_count = 0\n",
    "    for _ in range(times):\n",
    "        if win_dice_game(n_dice, n_throws, points_win):\n",
    "            win_count += 1\n",
    "    return win_count / times\n",
    "\n",
    "\n",
    "play_game(2, 3, 20)\n",
    "       \n",
    "\n"
   ]
  },
  {
   "cell_type": "code",
   "execution_count": null,
   "id": "3650bb0a",
   "metadata": {},
   "outputs": [],
   "source": []
  }
 ],
 "metadata": {
  "kernelspec": {
   "display_name": "base",
   "language": "python",
   "name": "python3"
  },
  "language_info": {
   "codemirror_mode": {
    "name": "ipython",
    "version": 3
   },
   "file_extension": ".py",
   "mimetype": "text/x-python",
   "name": "python",
   "nbconvert_exporter": "python",
   "pygments_lexer": "ipython3",
   "version": "3.13.5"
  }
 },
 "nbformat": 4,
 "nbformat_minor": 5
}
