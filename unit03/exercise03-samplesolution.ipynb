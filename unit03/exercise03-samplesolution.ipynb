{
 "cells": [
  {
   "cell_type": "markdown",
   "id": "ec95048b",
   "metadata": {},
   "source": [
    "# Python Crash Course - Exercise 03\n",
    "\n",
    "Topics covered:\n",
    "* functions (with only 1 input argument, for now)\n",
    "* conditional statements (if-elif-else)\n",
    "* tuples, lists, & sets; corresponding methods\n",
    "* The modulo operator `%`\n",
    "\n",
    "Tasks:\n",
    "* Task 1: At the supermarket\n",
    "* Task 2: At the ice cream shop\n",
    "* Task 3: Find some space\n",
    "* Task 4: Square that\n",
    "* Task 5: Pass that\n",
    "* Task 6: Can i divide by 5?\n",
    "* Task 7: Do i like that?\n"
   ]
  },
  {
   "cell_type": "markdown",
   "id": "92efed0b",
   "metadata": {},
   "source": [
    "***\n",
    "## Task 1: At the supermarket\n",
    "\n",
    "\n",
    "```python\n",
    "shopping_list = [\"onions\", \"milk\", \"bread\", \"butter\", \"rice\", \"vinegar\", \"oil\", \"pineapple\", \"onions\", \"salt\", \"chicken\", \"parsley\", \"mint\", \"sugar\", \"onions\"]\n",
    "snacks = [\"chocolate\", \"ice cream\", \"chips\"]\n",
    "```\n",
    "\n",
    "Above, we have defined a shopping list, and a snack list. Use list methods (`.index()`, `.append()`, `.remove()`, `.sort()`, `.count()`) and/or assignment operators (`+`,`+=`) to:\n",
    "* add `\"oranges\"` to the shopping list\n",
    "* add the `snacks` list to the shopping list (try to use `+`, `+=`, and `.append()`! What is the difference?)\n",
    "* find out at which list position is the `\"chicken\"`\n",
    "* remove `\"butter\"` from the shopping list (turns out we already have that at home)\n",
    "* count how many times does `\"onions\"` appear on the list\n",
    "* sort the shopping list alphabetically, and print it out\n",
    "* make sure that every item appears only once by converting the list to a set, and saving it into the variable `shopping_set`.\n",
    "* how many *unique* items are in our shopping set now?"
   ]
  },
  {
   "cell_type": "code",
   "execution_count": null,
   "id": "6c055f53",
   "metadata": {},
   "outputs": [],
   "source": [
    "# YOUR CODE HERE"
   ]
  },
  {
   "cell_type": "code",
   "execution_count": null,
   "id": "fbdf9ef2",
   "metadata": {},
   "outputs": [],
   "source": [
    "# run this cell to define the 2 list variables\n",
    "# (also run this cell again if you mess up the +/+=/.append() task :)\n",
    "shopping_list = [\"onions\", \"milk\", \"bread\", \"butter\", \"rice\", \"vinegar\", \"oil\", \"pineapple\", \"onions\", \"salt\", \"chicken\", \"parsley\", \"mint\", \"sugar\", \"onions\"]\n",
    "snacks = [\"chocolate\", \"ice cream\", \"chips\"]"
   ]
  },
  {
   "cell_type": "code",
   "execution_count": null,
   "id": "d56bf159",
   "metadata": {},
   "outputs": [],
   "source": [
    "# add `\"oranges\"` to the shopping list\n",
    "shopping_list.append(\"oranges\")\n",
    "shopping_list"
   ]
  },
  {
   "cell_type": "code",
   "execution_count": null,
   "id": "813c22c9",
   "metadata": {},
   "outputs": [],
   "source": [
    "# add the `snacks` list to the shopping list (try to use `+`, `+=`, and `.append()`! What is the difference?)\n",
    "shopping_list += snacks\n",
    "shopping_list\n",
    "# shopping_list.append(snacks) will add entire snack as single item (creating a nested list) - not what we want here"
   ]
  },
  {
   "cell_type": "code",
   "execution_count": null,
   "id": "fb02da06",
   "metadata": {},
   "outputs": [],
   "source": [
    "# find out at which list position is the `\"chicken\"`\n",
    "shopping_list.index(\"chicken\")"
   ]
  },
  {
   "cell_type": "code",
   "execution_count": null,
   "id": "03691751",
   "metadata": {},
   "outputs": [],
   "source": [
    "# remove `\"butter\"` from the shopping list (turns out we already have that at home)\n",
    "shopping_list.remove(\"butter\")"
   ]
  },
  {
   "cell_type": "code",
   "execution_count": null,
   "id": "b0e28dd6",
   "metadata": {},
   "outputs": [],
   "source": [
    "# count how many times does `\"onions\"` appear on the list\n",
    "shopping_list.count(\"onions\")"
   ]
  },
  {
   "cell_type": "code",
   "execution_count": null,
   "id": "dadac610",
   "metadata": {},
   "outputs": [],
   "source": [
    "# sort the shopping list alphabetically, and print it out\n",
    "shopping_list.sort()\n",
    "print(shopping_list)"
   ]
  },
  {
   "cell_type": "code",
   "execution_count": null,
   "id": "1318bc24",
   "metadata": {},
   "outputs": [],
   "source": [
    "# make sure that every item appears only once by converting the list to a set, and saving it into the variable `shopping_set`\n",
    "shopping_set = set(shopping_list)\n",
    "shopping_set"
   ]
  },
  {
   "cell_type": "code",
   "execution_count": null,
   "id": "0eefb6f6",
   "metadata": {},
   "outputs": [],
   "source": [
    "# how many *unique* items are in our shopping set now?\n",
    "len(shopping_set)"
   ]
  },
  {
   "cell_type": "markdown",
   "id": "9977b5ad",
   "metadata": {},
   "source": [
    "# Task 2: At the ice cream shop\n",
    "\n",
    "You are the owner of an ice cream shop. Your employee who sells the ice cream is a data science student! They decided to write down all ice cream orders of the day in Python. Use `list/set/tuple methods` to find out:\n",
    "* How many ice cream combinations have been sold today?\n",
    "* How many **unique** ice cream combinations have been sold today? \n",
    "> **Note**: the orders are saved as tuples - and for the sake of this exercise, we assume that for ice cream uniqueness, the order matters: `('yoghurt', 'mint')` is **not** the same as `('mint', 'yoghurt')`\n",
    "\n",
    "```python\n",
    "icecream_sold = [\n",
    "    ('yoghurt', 'mint'), ('cookie', 'cookie'), ('caramel', 'yoghurt'), ('yoghurt', 'straciatella'), ('caramel', 'straciatella'),\n",
    "    ('vanilla', 'yoghurt'), ('hazelnut', 'banana'), ('straciatella', 'straciatella'), ('cookie', 'cookie'), ('cookie', 'caramel'),\n",
    "    ('banana', 'straciatella'), ('cheesecake', 'cookie'), ('chocolate', 'chocolate'), ('mint', 'hazelnut'), ('hazelnut', 'cheesecake'),\n",
    "    ('caramel', 'vanilla'), ('yoghurt', 'mint'), ('cheesecake', 'vanilla'), ('chocolate', 'cookie'), ('mint', 'strawberry'), ('cookie', 'strawberry'),\n",
    "    ('hazelnut', 'vanilla'), ('yoghurt', 'strawberry'), ('strawberry', 'chocolate'), ('cheesecake', 'cookie'), ('straciatella', 'vanilla'),\n",
    "    ('caramel', 'banana'), ('mint', 'straciatella'), ('caramel', 'strawberry'), ('cookie', 'strawberry'), ('caramel', 'yoghurt'),\n",
    "    ('strawberry', 'mint'), ('mint', 'hazelnut'), ('banana', 'hazelnut'), ('straciatella', 'banana'), ('mint', 'straciatella'),\n",
    "    ('cheesecake', 'chocolate'), ('mint', 'yoghurt'), ('cookie', 'banana'), ('cheesecake', 'mint'), ('banana', 'straciatella'),\n",
    "    ('mint', 'straciatella'), ('straciatella', 'straciatella'), ('cookie', 'mint'), ('cookie', 'straciatella'), ('banana', 'caramel'),\n",
    "    ('mint', 'cheesecake'), ('chocolate', 'banana'), ('cheesecake', 'vanilla'), ('vanilla', 'yoghurt'), ('hazelnut', 'yoghurt'),\n",
    "    ('hazelnut', 'cookie'), ('strawberry', 'cookie'), ('yoghurt', 'cheesecake'), ('cheesecake', 'banana'), ('vanilla', 'hazelnut'), \n",
    "    ('cookie', 'strawberry'), ('mint', 'straciatella'), ('cheesecake', 'vanilla'), ('cookie', 'strawberry'), ('cookie', 'strawberry')\n",
    "]\n",
    "```"
   ]
  },
  {
   "cell_type": "code",
   "execution_count": null,
   "id": "4f8c51e6",
   "metadata": {},
   "outputs": [],
   "source": [
    "# YOUR CODE HERE\n",
    "icecream_sold = [\n",
    "    ('yoghurt', 'mint'), ('cookie', 'cookie'), ('caramel', 'yoghurt'), ('yoghurt', 'straciatella'), ('caramel', 'straciatella'),\n",
    "    ('vanilla', 'yoghurt'), ('hazelnut', 'banana'), ('straciatella', 'straciatella'), ('cookie', 'cookie'), ('cookie', 'caramel'),\n",
    "    ('banana', 'straciatella'), ('cheesecake', 'cookie'), ('chocolate', 'chocolate'), ('mint', 'hazelnut'), ('hazelnut', 'cheesecake'),\n",
    "    ('caramel', 'vanilla'), ('yoghurt', 'mint'), ('cheesecake', 'vanilla'), ('chocolate', 'cookie'), ('mint', 'strawberry'), ('cookie', 'strawberry'),\n",
    "    ('hazelnut', 'vanilla'), ('yoghurt', 'strawberry'), ('strawberry', 'chocolate'), ('cheesecake', 'cookie'), ('straciatella', 'vanilla'),\n",
    "    ('caramel', 'banana'), ('mint', 'straciatella'), ('caramel', 'strawberry'), ('cookie', 'strawberry'), ('caramel', 'yoghurt'),\n",
    "    ('strawberry', 'mint'), ('mint', 'hazelnut'), ('banana', 'hazelnut'), ('straciatella', 'banana'), ('mint', 'straciatella'),\n",
    "    ('cheesecake', 'chocolate'), ('mint', 'yoghurt'), ('cookie', 'banana'), ('cheesecake', 'mint'), ('banana', 'straciatella'),\n",
    "    ('mint', 'straciatella'), ('straciatella', 'straciatella'), ('cookie', 'mint'), ('cookie', 'straciatella'), ('banana', 'caramel'),\n",
    "    ('mint', 'cheesecake'), ('chocolate', 'banana'), ('cheesecake', 'vanilla'), ('vanilla', 'yoghurt'), ('hazelnut', 'yoghurt'),\n",
    "    ('hazelnut', 'cookie'), ('strawberry', 'cookie'), ('yoghurt', 'cheesecake'), ('cheesecake', 'banana'), ('vanilla', 'hazelnut'), \n",
    "    ('cookie', 'strawberry'), ('mint', 'straciatella'), ('cheesecake', 'vanilla'), ('cookie', 'strawberry'), ('cookie', 'strawberry')\n",
    "]"
   ]
  },
  {
   "cell_type": "code",
   "execution_count": null,
   "id": "3b85bd71",
   "metadata": {},
   "outputs": [],
   "source": [
    "# How many ice cream combinations have been sold today?\n",
    "len(icecream_sold)"
   ]
  },
  {
   "cell_type": "code",
   "execution_count": null,
   "id": "04099619",
   "metadata": {},
   "outputs": [],
   "source": [
    "# How many **unique** ice cream combinations have been sold today?\n",
    "len(set(icecream_sold))"
   ]
  },
  {
   "cell_type": "markdown",
   "id": "cc8770b0",
   "metadata": {},
   "source": [
    "# Task 3: find some space\n",
    "\n",
    "Write a function called `thereisspace` that takes a list or string as input, and returns True if the input contains a whitespace, False otherwise.\n",
    "\n",
    "Remember the docstring!\n",
    "\n",
    "Then, test whether your function works as expected. What do you expect it to return for:\n",
    "\n",
    "* `thereisspace(\"Copenhagen\")`\n",
    "* `thereisspace(\"Hello world\")`\n",
    "* `thereisspace([1,2,10])`\n",
    "* `thereisspace([\"a\", \"b\", \" \", \"d\"])`\n",
    "* `thereisspace(1312)`"
   ]
  },
  {
   "cell_type": "code",
   "execution_count": null,
   "id": "3a3f94fb",
   "metadata": {},
   "outputs": [],
   "source": [
    "# option 1\n",
    "def thereisspace(my_input):\n",
    "\n",
    "    '''returns True if my_input contains a whitespace; False otherwise.'''\n",
    "\n",
    "    if \" \" in my_input:\n",
    "        answer = True\n",
    "    else:\n",
    "        answer = False\n",
    "\n",
    "    return answer"
   ]
  },
  {
   "cell_type": "code",
   "execution_count": null,
   "id": "5b66da3e",
   "metadata": {},
   "outputs": [],
   "source": [
    "# # option 2\n",
    "# def thereisspace(my_input):\n",
    "#     if \" \" in my_input:\n",
    "#         return True\n",
    "#     return False"
   ]
  },
  {
   "cell_type": "code",
   "execution_count": null,
   "id": "9fef775d",
   "metadata": {},
   "outputs": [],
   "source": [
    "# # option 3\n",
    "# def thereisspace(my_input):\n",
    "#     return \" \" in my_input"
   ]
  },
  {
   "cell_type": "code",
   "execution_count": null,
   "id": "ba7a40af",
   "metadata": {},
   "outputs": [],
   "source": [
    "thereisspace(\"Copenhagen\")"
   ]
  },
  {
   "cell_type": "code",
   "execution_count": null,
   "id": "dfee7d19",
   "metadata": {},
   "outputs": [],
   "source": [
    "thereisspace(\"Hello world\")"
   ]
  },
  {
   "cell_type": "code",
   "execution_count": null,
   "id": "a0f5689e",
   "metadata": {},
   "outputs": [],
   "source": [
    "thereisspace([1,2,10])"
   ]
  },
  {
   "cell_type": "code",
   "execution_count": null,
   "id": "df5a3547",
   "metadata": {},
   "outputs": [],
   "source": [
    "thereisspace([\"a\", \"b\", \" \", \"d\"])"
   ]
  },
  {
   "cell_type": "code",
   "execution_count": null,
   "id": "a3705b9a",
   "metadata": {},
   "outputs": [],
   "source": [
    "thereisspace(1312)"
   ]
  },
  {
   "cell_type": "markdown",
   "id": "5b4d6481",
   "metadata": {},
   "source": [
    "# Task 4: square that!\n",
    "\n",
    "Write the function called `square_that` that returns the squared value of the input. Remember the docstring! \n",
    "\n",
    "Then, test whether your function works as expected. What do you expect it to return for:\n",
    "* `square_that(7)`\n",
    "* `square_that(10)`\n",
    "* `square_that(0.5)`\n",
    "* `square_that(\"hello world\")`\n",
    "* `square_that(True)`\n",
    "* `square_that([1,4,9])`"
   ]
  },
  {
   "cell_type": "code",
   "execution_count": null,
   "id": "fbe48cd5",
   "metadata": {},
   "outputs": [],
   "source": [
    "# YOUR CODE HERE"
   ]
  },
  {
   "cell_type": "code",
   "execution_count": null,
   "id": "3a2c25a7",
   "metadata": {},
   "outputs": [],
   "source": [
    "# option 1\n",
    "def square_that(x):\n",
    "    '''returns the squared value of the input.'''\n",
    "    answer = x ** 2\n",
    "    return answer"
   ]
  },
  {
   "cell_type": "code",
   "execution_count": null,
   "id": "b58e9b77",
   "metadata": {},
   "outputs": [],
   "source": [
    "# # option 2\n",
    "# def square_that(x):\n",
    "#     return x * x"
   ]
  },
  {
   "cell_type": "code",
   "execution_count": null,
   "id": "f5d9eb3b",
   "metadata": {},
   "outputs": [],
   "source": [
    "square_that(7)"
   ]
  },
  {
   "cell_type": "code",
   "execution_count": null,
   "id": "70295dc0",
   "metadata": {},
   "outputs": [],
   "source": [
    "square_that(10)"
   ]
  },
  {
   "cell_type": "code",
   "execution_count": null,
   "id": "ce176838",
   "metadata": {},
   "outputs": [],
   "source": [
    "square_that(0.5)"
   ]
  },
  {
   "cell_type": "code",
   "execution_count": null,
   "id": "41ed2563",
   "metadata": {},
   "outputs": [],
   "source": [
    "square_that(\"hello world\")"
   ]
  },
  {
   "cell_type": "code",
   "execution_count": null,
   "id": "2aeec24e",
   "metadata": {},
   "outputs": [],
   "source": [
    "square_that(True)"
   ]
  },
  {
   "cell_type": "code",
   "execution_count": null,
   "id": "75847974",
   "metadata": {},
   "outputs": [],
   "source": [
    "square_that([1,4,9])"
   ]
  },
  {
   "cell_type": "markdown",
   "id": "110b8b07",
   "metadata": {},
   "source": [
    "# Task 5: pass that!\n",
    "\n",
    "In an exam,\n",
    "* `< 5` points mean you failed,\n",
    "* `5-10` points mean you barely passed,\n",
    "* `> 10` points mean you passed.\n",
    "\n",
    "Write a **function** called `evaluate_exam` that \n",
    "* takes a variable `exam_score` as input (assuming `exam_score`is numeric)\n",
    "* returns a string, depending on the value of `exam_score`: either `\"you passed\"`, `\"you barely passed\"`, or `\"you failed\"`\n",
    "\n",
    "Remember the docstring!\n",
    "\n",
    "Then, test whether your function works as expected. What do you expect it to return for:\n",
    "* `evaluate_exam(4)`\n",
    "* `evaluate_exam(5.1)`\n",
    "* `evaluate_exam(9-3)`\n",
    "* `evaluate_exam(10)`\n",
    "* `evaluate_exam(10.5)`\n",
    "* `evaluate_exam(False)`\n",
    "* `evaluate_exam([10,20])`\n",
    "* `evaluate_exam(\"i hope i passed\")`"
   ]
  },
  {
   "cell_type": "code",
   "execution_count": null,
   "id": "07cc1092",
   "metadata": {},
   "outputs": [],
   "source": [
    "# YOUR CODE HERE\n",
    "def evaluate_exam(exam_score):\n",
    "\n",
    "    '''returns \"you failed\" (for exam_score < 5), \"you barely passed\" (for 5 < exam_score <= 10),\n",
    "    or \"you passed\" (for exam_score > 10), depending on which range exam_score falls into'''\n",
    "\n",
    "    if exam_score < 5:\n",
    "        reply = \"you failed\"\n",
    "    elif exam_score <= 10:\n",
    "        reply = \"you barely passed\"\n",
    "    else:\n",
    "        reply = \"you passed\"\n",
    "\n",
    "    return reply"
   ]
  },
  {
   "cell_type": "code",
   "execution_count": null,
   "id": "3d1c995e",
   "metadata": {},
   "outputs": [],
   "source": [
    "evaluate_exam(4)"
   ]
  },
  {
   "cell_type": "code",
   "execution_count": null,
   "id": "9f013238",
   "metadata": {},
   "outputs": [],
   "source": [
    "evaluate_exam(5.1)"
   ]
  },
  {
   "cell_type": "code",
   "execution_count": null,
   "id": "d2bb4ba2",
   "metadata": {},
   "outputs": [],
   "source": [
    "evaluate_exam(9-3)"
   ]
  },
  {
   "cell_type": "code",
   "execution_count": null,
   "id": "3f1f525d",
   "metadata": {},
   "outputs": [],
   "source": [
    "evaluate_exam(10)"
   ]
  },
  {
   "cell_type": "code",
   "execution_count": null,
   "id": "65b4b0b2",
   "metadata": {},
   "outputs": [],
   "source": [
    "evaluate_exam(10.5)"
   ]
  },
  {
   "cell_type": "code",
   "execution_count": null,
   "id": "503eb559",
   "metadata": {},
   "outputs": [],
   "source": [
    "evaluate_exam(False)"
   ]
  },
  {
   "cell_type": "code",
   "execution_count": null,
   "id": "9a4aac24",
   "metadata": {},
   "outputs": [],
   "source": [
    "evaluate_exam([10,20])"
   ]
  },
  {
   "cell_type": "code",
   "execution_count": null,
   "id": "06b6b526",
   "metadata": {},
   "outputs": [],
   "source": [
    "evaluate_exam(\"i hope i passed\")"
   ]
  },
  {
   "cell_type": "markdown",
   "id": "473f7b8c",
   "metadata": {},
   "source": [
    "# Task 6: can i divide by 5?\n",
    "\n",
    "Write a function called `canidividebyfive` that returns a Boolean telling you whether the input is divisible by 5 or not. Remember the docstring!\n",
    "\n",
    "**Hint:** use the modulo operator `%`!\n",
    "\n",
    "Then, test whether your function works as expected. What do you expect it to return for:\n",
    "* `canidividebyfive(10)`\n",
    "* `canidividebyfive(5)`\n",
    "* `canidividebyfive(28)`\n",
    "* `canidividebyfive(\"a simple string\")`\n",
    "* `canidividebyfive(0)`\n",
    "* `canidividebyfive(1)`\n",
    "* `canidividebyfive((10,20))`"
   ]
  },
  {
   "cell_type": "code",
   "execution_count": null,
   "id": "41fa9eab",
   "metadata": {},
   "outputs": [],
   "source": [
    "12 % 5"
   ]
  },
  {
   "cell_type": "code",
   "execution_count": null,
   "id": "a741b7ff",
   "metadata": {},
   "outputs": [],
   "source": [
    "# YOUR CODE HERE\n",
    "# option 1\n",
    "def canidividebyfive(my_input):\n",
    "    '''returns True if my_input is divisible by 5, False otherwise.'''\n",
    "    rest = my_input % 5\n",
    "    if rest == 0:\n",
    "        return True\n",
    "    else:\n",
    "        return False"
   ]
  },
  {
   "cell_type": "code",
   "execution_count": null,
   "id": "3669e1fe",
   "metadata": {},
   "outputs": [],
   "source": [
    "# # option 2\n",
    "# def canidividebyfive(my_input):\n",
    "#     return not my_input % 5"
   ]
  },
  {
   "cell_type": "code",
   "execution_count": null,
   "id": "8455ccf9",
   "metadata": {},
   "outputs": [],
   "source": [
    "canidividebyfive(10)"
   ]
  },
  {
   "cell_type": "code",
   "execution_count": null,
   "id": "977c52ab",
   "metadata": {},
   "outputs": [],
   "source": [
    "canidividebyfive(5)"
   ]
  },
  {
   "cell_type": "code",
   "execution_count": null,
   "id": "1f66f1ec",
   "metadata": {},
   "outputs": [],
   "source": [
    "canidividebyfive(28)"
   ]
  },
  {
   "cell_type": "code",
   "execution_count": null,
   "id": "beb736ca",
   "metadata": {},
   "outputs": [],
   "source": [
    "canidividebyfive(\"a simple string\")"
   ]
  },
  {
   "cell_type": "code",
   "execution_count": null,
   "id": "2d8c87ae",
   "metadata": {},
   "outputs": [],
   "source": [
    "canidividebyfive(0)"
   ]
  },
  {
   "cell_type": "code",
   "execution_count": null,
   "id": "6fc241da",
   "metadata": {},
   "outputs": [],
   "source": [
    "canidividebyfive(1)"
   ]
  },
  {
   "cell_type": "code",
   "execution_count": null,
   "id": "88622a81",
   "metadata": {},
   "outputs": [],
   "source": [
    "canidividebyfive([10,20])"
   ]
  },
  {
   "cell_type": "markdown",
   "id": "602a6424",
   "metadata": {},
   "source": [
    "# Task 7: do i like that?\n",
    "\n",
    "* When numbers are smaller than 50, I only like them if they are divisible by 2 and by 3. \n",
    "* When numbers are greater than 50, I only like them if they are divisible by 5. \n",
    "* I particularly dislike the number 50.\n",
    "* I don't like the number 100, either.\n",
    "\n",
    "Write a function called `ilikethat` which takes a number as an input, and returns a boolean, depending on whether I like that number (True) or I don't (False).\n",
    "\n",
    "**Hint:** you might want to use a nested conditional statement!\n",
    "\n",
    "Then, test whether your function works as expected. What do you expect it to return for:\n",
    "* `ilikethat(6)`\n",
    "* `ilikethat(50)`\n",
    "* `ilikethat(70)` \n",
    "* `ilikethat(100)`\n",
    "* `ilikethat(30)`\n"
   ]
  },
  {
   "cell_type": "code",
   "execution_count": null,
   "id": "b72815bb",
   "metadata": {},
   "outputs": [],
   "source": [
    "# There are many ways to solve this task/many orders in which you could be checking the conditions! Here is one example:\n",
    "def ilikethat(my_input):\n",
    "\n",
    "    if my_input == 50 or my_input == 100: # first, check for equality with 50 or 100\n",
    "        reply = False\n",
    "    elif my_input < 50: # then, for numbers smaller than 50,\n",
    "        if my_input % 2 == 0 and my_input % 3 == 0: # check divisible by 2 AND 3\n",
    "            reply = True\n",
    "        else:\n",
    "            reply = False\n",
    "    else: # last, for numbers greater than 50 (we already excluded ==50 in the first conditional statement above),\n",
    "        if my_input % 5 == 0: # check divisible by 5\n",
    "            reply = True\n",
    "        else:\n",
    "            reply = False\n",
    "        \n",
    "    return reply"
   ]
  },
  {
   "cell_type": "code",
   "execution_count": null,
   "id": "b065b215",
   "metadata": {},
   "outputs": [],
   "source": [
    "# another option:\n",
    "\n",
    "def ilikethat(my_input):\n",
    "    \n",
    "    condition0 = my_input in [50,100] # is True if my_input is equal to 50 or 100\n",
    "    condition1 = my_input < 50 # is True if my_input is smaller than 50\n",
    "    condition2 = my_input % 2 == 0 # is True if my_input is divisible by 2\n",
    "    condition3 = my_input % 3 == 0 # is True if my_input is divisible by 3\n",
    "    condition4 = my_input % 5 == 0 # is True if my_input is divisible by 5\n",
    "    \n",
    "    reply = (not condition0) and ((condition1 and condition2 and condition3) or (not condition1 and condition4))\n",
    "    \n",
    "    return reply"
   ]
  },
  {
   "cell_type": "code",
   "execution_count": null,
   "id": "a69b3695",
   "metadata": {},
   "outputs": [],
   "source": [
    "ilikethat(6)"
   ]
  },
  {
   "cell_type": "code",
   "execution_count": null,
   "id": "e12ab645",
   "metadata": {},
   "outputs": [],
   "source": [
    "ilikethat(50)"
   ]
  },
  {
   "cell_type": "code",
   "execution_count": null,
   "id": "96f31c8d",
   "metadata": {},
   "outputs": [],
   "source": [
    "ilikethat(70)"
   ]
  },
  {
   "cell_type": "code",
   "execution_count": null,
   "id": "80fe9504",
   "metadata": {},
   "outputs": [],
   "source": [
    "ilikethat(100)"
   ]
  },
  {
   "cell_type": "code",
   "execution_count": null,
   "id": "e922c115",
   "metadata": {},
   "outputs": [],
   "source": [
    "ilikethat(30)"
   ]
  },
  {
   "cell_type": "code",
   "execution_count": null,
   "id": "51eb6254",
   "metadata": {},
   "outputs": [],
   "source": []
  },
  {
   "cell_type": "code",
   "execution_count": null,
   "id": "a9f9d09e",
   "metadata": {},
   "outputs": [],
   "source": []
  }
 ],
 "metadata": {
  "kernelspec": {
   "display_name": "Python 3",
   "language": "python",
   "name": "python3"
  },
  "language_info": {
   "codemirror_mode": {
    "name": "ipython",
    "version": 3
   },
   "file_extension": ".py",
   "mimetype": "text/x-python",
   "name": "python",
   "nbconvert_exporter": "python",
   "pygments_lexer": "ipython3",
   "version": "3.12.11"
  }
 },
 "nbformat": 4,
 "nbformat_minor": 5
}
