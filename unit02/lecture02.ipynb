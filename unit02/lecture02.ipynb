{
 "cells": [
  {
   "cell_type": "markdown",
   "id": "8a4953ac",
   "metadata": {},
   "source": [
    "# Python Crash Course IDSP 2025 - Lecture 02\n",
    "\n",
    "Contents:\n",
    "* Lecture 1 Recap\n",
    "* Concatenating strings\n",
    "* Casting variables (data type conversion)\n",
    "* Comparison operators\n",
    "* Boolean logic & data type `bool`\n",
    "* Logical operators\n",
    "* the `list` data type & indexing\n",
    "* IF WE GET TO IT: built-in functions (otherwise left for lecture 03)"
   ]
  },
  {
   "cell_type": "markdown",
   "id": "c9ae84e4",
   "metadata": {},
   "source": [
    "# Lecture 1 Recap\n",
    "\n",
    "* Mathematical operators: `+ - * / **`\n",
    "* Data types: `int float str`\n",
    "* Built-in functions: `type() print()` \n",
    "* `variable = value`: assignment operator `=`"
   ]
  },
  {
   "cell_type": "code",
   "execution_count": null,
   "id": "c445c2fb",
   "metadata": {},
   "outputs": [],
   "source": [
    "# recap\n",
    "5 ** 3\n",
    "# x = 5 ** 3\n",
    "# type(x)\n",
    "# y = 5.0\n",
    "# z = x - y\n",
    "# print(z)\n",
    "# type(z)"
   ]
  },
  {
   "cell_type": "code",
   "execution_count": null,
   "id": "c49bee6b",
   "metadata": {},
   "outputs": [],
   "source": [
    "# recap\n",
    "float_variable = 1/3\n",
    "string_variable = \"welcome back!\"\n",
    "print(float_variable)\n",
    "print(string_variable)\n",
    "# print(type(float_variable))\n",
    "# print(type(string_variable))"
   ]
  },
  {
   "cell_type": "markdown",
   "id": "16a1309d",
   "metadata": {},
   "source": [
    "## Let's look at *concatenating* strings"
   ]
  },
  {
   "cell_type": "code",
   "execution_count": null,
   "id": "05c804ae",
   "metadata": {},
   "outputs": [],
   "source": [
    "# let's look at combining (\"concatenating\") strings\n",
    "sentence = \"My age is \"\n",
    "age = \"54\" # this is a string, not a numeric variable!\n",
    "full_sentence = sentence + age\n",
    "full_sentence"
   ]
  },
  {
   "cell_type": "code",
   "execution_count": null,
   "id": "dbdef88f",
   "metadata": {},
   "outputs": [],
   "source": [
    "# let's look at combining (\"concatenating\") strings\n",
    "sentence = \"My age is \"\n",
    "age = 23 # this is an integer \n",
    "sentence + age"
   ]
  },
  {
   "cell_type": "code",
   "execution_count": null,
   "id": "9921626f",
   "metadata": {},
   "outputs": [],
   "source": [
    "# If you want to concatenate str with another data type,\n",
    "# you need to CONVERT (CAST) it to str first\n",
    "sentence + str(age)"
   ]
  },
  {
   "cell_type": "markdown",
   "id": "5904f37b",
   "metadata": {},
   "source": [
    "***\n",
    "# Casting variables\n",
    "\n",
    "= converting from one datatype into another. Python has built-in functions for this:\n",
    "\n",
    "* To convert to integer: `int()`\n",
    "* To convert to float: `float()`\n",
    "* To convert to string: `str()`"
   ]
  },
  {
   "cell_type": "code",
   "execution_count": null,
   "id": "def951e3",
   "metadata": {},
   "outputs": [],
   "source": [
    "# Let's try this out with an integer (convert to float; convert to string)\n",
    "str(3)"
   ]
  },
  {
   "cell_type": "code",
   "execution_count": null,
   "id": "f9931805",
   "metadata": {},
   "outputs": [],
   "source": [
    "# Let's try this out with a string (convert to integer; convert to float)\n",
    "float(\"6\")"
   ]
  },
  {
   "cell_type": "code",
   "execution_count": null,
   "id": "756c923f",
   "metadata": {},
   "outputs": [],
   "source": [
    "# Let's try this out with a variable (convert to str, float)\n",
    "my_integer = 24\n",
    "str(my_integer)"
   ]
  },
  {
   "cell_type": "code",
   "execution_count": null,
   "id": "12f9b302",
   "metadata": {},
   "outputs": [],
   "source": [
    "# Note that we are not changing the actual variable:\n",
    "my_integer = 24\n",
    "print(float(my_integer))\n",
    "print(my_integer)"
   ]
  },
  {
   "cell_type": "code",
   "execution_count": null,
   "id": "6acd867e",
   "metadata": {},
   "outputs": [],
   "source": [
    "# To change the value in the memory, we need to assign the new value:\n",
    "my_variable = 24\n",
    "print(my_variable) # before casting to float\n",
    "my_variable = float(my_variable) \n",
    "print(my_variable) # after casting to float"
   ]
  },
  {
   "cell_type": "markdown",
   "id": "d15c0f83",
   "metadata": {},
   "source": [
    "## Try it out yourself!\n",
    "\n",
    "```python\n",
    "# TASK 1: use the 3 variables below to print out \"i have 4 siblings\"\n",
    "part1 = \"i have\"\n",
    "user_input = 4\n",
    "part2 = \"siblings\"\n",
    "\n",
    "# TASK 2: use the 3 variables below to compute x+y+z\n",
    "x = \"7\"\n",
    "y = 3.1\n",
    "z = \"1.9\"\n",
    "```\n"
   ]
  },
  {
   "cell_type": "code",
   "execution_count": null,
   "id": "9e21f0b5",
   "metadata": {},
   "outputs": [],
   "source": [
    "### TASK 1\n",
    "# use the 3 variables above to print out the sentence \"i have 4 siblings\"\n",
    "part1 = \"i have\"\n",
    "user_input = 4\n",
    "part2 = \"siblings\"\n"
   ]
  },
  {
   "cell_type": "code",
   "execution_count": null,
   "id": "09da503e",
   "metadata": {},
   "outputs": [],
   "source": [
    "### TASK 2\n",
    "# use the 3 variables below to compute the sum x+y+z\n",
    "x = \"7\"\n",
    "y = 3.1\n",
    "z = \"1.9\"\n"
   ]
  },
  {
   "cell_type": "markdown",
   "id": "7b53f23b",
   "metadata": {},
   "source": [
    "***\n",
    "# Let's ask Python some logic questions! (\"propositions\")\n",
    "\n",
    "They have to be yes-no questions though."
   ]
  },
  {
   "cell_type": "code",
   "execution_count": null,
   "id": "efa3ca56",
   "metadata": {},
   "outputs": [],
   "source": [
    "# our way of asking, \"Is 5 bigger than 3?\"\n",
    "5 < 3"
   ]
  },
  {
   "cell_type": "code",
   "execution_count": null,
   "id": "6cc1f3aa",
   "metadata": {},
   "outputs": [],
   "source": [
    "# our way of asking: is 5 smaller than 3?\n",
    "5 < 3"
   ]
  },
  {
   "cell_type": "code",
   "execution_count": null,
   "id": "7a9e08cf",
   "metadata": {},
   "outputs": [],
   "source": [
    "# to check whether two objects are identical,\n",
    "5 == 5"
   ]
  },
  {
   "cell_type": "code",
   "execution_count": null,
   "id": "03bf45ee",
   "metadata": {},
   "outputs": [],
   "source": [
    "# or way of asking: is 3 EQUAL TO 5?\n",
    "3 == 5"
   ]
  },
  {
   "cell_type": "code",
   "execution_count": null,
   "id": "6ad3c1bd",
   "metadata": {},
   "outputs": [],
   "source": [
    "# our way of asking: is 3 NOT EQUAL TO 5?\n",
    "5 != 5"
   ]
  },
  {
   "cell_type": "markdown",
   "id": "4fdd3c84",
   "metadata": {},
   "source": [
    "## Comparison operators in Python\n",
    "\n",
    "* greater than `>`\n",
    "* smaller than `<`\n",
    "* equal to `==`\n",
    "* **NOT** equal to `!=`\n",
    "* greater OR equal `>=`; smaller OR equal `<=`"
   ]
  },
  {
   "cell_type": "markdown",
   "id": "e01bd626",
   "metadata": {},
   "source": [
    "## The data type `bool` (boolean) in Python\n",
    "\n",
    "* cf. [Boolean Algebra](https://en.wikipedia.org/wiki/Boolean_algebra) \n",
    "* `True`; `False` (note the Capital Letter!!)\n",
    "* Can only have two values: either `True` or `False`"
   ]
  },
  {
   "cell_type": "code",
   "execution_count": null,
   "id": "d4390489",
   "metadata": {},
   "outputs": [],
   "source": [
    "# this is a statement with a comparison operator; \n",
    "# it evaluates to a Boolean value: True OR False\n",
    "7 > 3"
   ]
  },
  {
   "cell_type": "code",
   "execution_count": null,
   "id": "d113e7a0",
   "metadata": {},
   "outputs": [],
   "source": [
    "# we can save the boolean into a variable:\n",
    "statement = 7 > 3\n",
    "statement # this is our way of asking: is the statement True?"
   ]
  },
  {
   "cell_type": "code",
   "execution_count": null,
   "id": "64941f6b",
   "metadata": {},
   "outputs": [],
   "source": [
    "# we can also negate statements with the LOGICAL OPERATOR \"NOT\":\n",
    "statement = 7 > 3 \n",
    "not statement # our way of asking: is the statement NOT True?"
   ]
  },
  {
   "cell_type": "code",
   "execution_count": null,
   "id": "baaf993f",
   "metadata": {},
   "outputs": [],
   "source": [
    "# We can also negate Booleans with the LOGICAL OPERATOR \"NOT\":\n",
    "not True"
   ]
  },
  {
   "cell_type": "code",
   "execution_count": null,
   "id": "ae6bc826",
   "metadata": {},
   "outputs": [],
   "source": [
    "# We can also negate Booleans with the LOGICAL OPERATOR \"NOT\":\n",
    "not False"
   ]
  },
  {
   "cell_type": "code",
   "execution_count": null,
   "id": "19ce53c8",
   "metadata": {},
   "outputs": [],
   "source": [
    "# We can also combine statements with the LOGICAL OPERATOR \"AND\":\n",
    "stat1 = 1 < 2 # True\n",
    "stat2 = 1 < 5 # True\n",
    "stat1 and stat2 # our way of asking: are all these statements True?"
   ]
  },
  {
   "cell_type": "code",
   "execution_count": null,
   "id": "8e0f552d",
   "metadata": {},
   "outputs": [],
   "source": [
    "# We can also combine statements with the LOGICAL OPERATOR \"AND\":\n",
    "stat3 = 5 < 100 # True\n",
    "stat4 = 5 < 1 # False\n",
    "stat3 and stat4 # our way of asking: are all these statements True?"
   ]
  },
  {
   "cell_type": "code",
   "execution_count": null,
   "id": "41bada3c",
   "metadata": {},
   "outputs": [],
   "source": [
    "# We can also combine several Booleans with the LOGICAL OPERATOR \"AND\":\n",
    "True and True # \"are both True?\""
   ]
  },
  {
   "cell_type": "code",
   "execution_count": null,
   "id": "6080e850",
   "metadata": {},
   "outputs": [],
   "source": [
    "# We can also combine several Booleans with the LOGICAL OPERATOR \"AND\":\n",
    "True and False # \"are both True?\""
   ]
  },
  {
   "cell_type": "code",
   "execution_count": null,
   "id": "bac8ebe5",
   "metadata": {},
   "outputs": [],
   "source": [
    "# We can also combine several Booleans with the LOGICAL OPERATOR \"AND\":\n",
    "False and False # \"are both True?\""
   ]
  },
  {
   "cell_type": "code",
   "execution_count": null,
   "id": "bcb772ae",
   "metadata": {},
   "outputs": [],
   "source": [
    "# We can also combine several statements with the LOGICAL OPERATOR \"OR\":\n",
    "stat1 = 1 < 2 # True\n",
    "stat2 = 1 < 5 # True\n",
    "stat1 or stat2 # our way of asking: is AT LEAST ONE of these statements True?"
   ]
  },
  {
   "cell_type": "code",
   "execution_count": null,
   "id": "572b7b44",
   "metadata": {},
   "outputs": [],
   "source": [
    "# We can also combine statements with the LOGICAL OPERATOR \"OR\":\n",
    "stat3 = 1 < 9 # True\n",
    "stat4 = 1 < 0 # False\n",
    "stat3 or stat4 # our way of asking: is AT LEAST ONE of these statements True?"
   ]
  },
  {
   "cell_type": "code",
   "execution_count": null,
   "id": "3622264d",
   "metadata": {},
   "outputs": [],
   "source": [
    "# We can also combine several Booleans with the LOGICAL OPERATOR \"OR\":\n",
    "True or False # \"is *at least* one True?\""
   ]
  },
  {
   "cell_type": "code",
   "execution_count": null,
   "id": "a249dd4e",
   "metadata": {},
   "outputs": [],
   "source": [
    "# We can also combine several Booleans with the LOGICAL OPERATOR \"OR\":\n",
    "False or False # \"is *at least* one True?\""
   ]
  },
  {
   "cell_type": "code",
   "execution_count": null,
   "id": "b2ee5264",
   "metadata": {},
   "outputs": [],
   "source": [
    "# We can also combine several Booleans with the LOGICAL OPERATOR \"OR\":\n",
    "True or True # \"is *at least* one True?\""
   ]
  },
  {
   "cell_type": "code",
   "execution_count": null,
   "id": "fadda871",
   "metadata": {},
   "outputs": [],
   "source": [
    "# We can combine as many LOGICAL PROPOSITIONS as we want:\n",
    "prop1 = True \n",
    "prop2 = False\n",
    "prop3 = \"a\" == \"a\" # evaluates to True\n",
    "prop4 = 5 > 7 # evaluates to False\n",
    "prop5 = not ( 3 == 6 ) # parenthesis evaluate to False, so prop5 evaluates to True  \n",
    "\n",
    "prop1 or prop2 or prop3 or prop4 # is at least one of these True?\n",
    "#prop1 and prop3 and prop5 # are all of these True?\n",
    "#not prop1 and not prop2 and not prop4 # are all of these NOT True?"
   ]
  },
  {
   "cell_type": "markdown",
   "id": "49157cde",
   "metadata": {},
   "source": [
    "## Logical operators in Python\n",
    "\n",
    "```python\n",
    "not, and, or \n",
    "``` \n",
    "\n",
    "Python evaluates combinations of logical operators in the following order of precedence:\n",
    "\n",
    "`not > and > or`\n",
    "\n",
    "You can always use round brackets to explicitly state the order of evaluation: \n",
    "```python \n",
    "p and not q or s # same as: (p and (not q)) or (s)\n",
    "```\n",
    "\n",
    "Note that the **Python** `or` in Python is **inclusive**: `p or q` means either p, or q, **or both**. \n",
    "\n",
    "> This is different from the **exclusive** `or` (XOR) in logic: `p XOR q` means either p, or q, **but not both**.\n",
    "\n",
    "> Additional resource: More on [propositional logic](https://www.cs.toronto.edu/~david/course-notes/csc110-111/03-logic/01-propositional-logic.html) in Python\n"
   ]
  },
  {
   "cell_type": "markdown",
   "id": "a374b792",
   "metadata": {},
   "source": [
    "## Try it out yourself!\n",
    "\n",
    "For the following propositions and truth values, \n",
    "```python\n",
    "p = True\n",
    "q = False\n",
    "```\n",
    "find the truth value of the following combined propositions:\n",
    "\n",
    "```python\n",
    "p and q \n",
    "p or q\n",
    "not p \n",
    "not q\n",
    "(not p) and (not q)\n",
    "(not p) or (not q)\n",
    "```\n"
   ]
  },
  {
   "cell_type": "code",
   "execution_count": null,
   "id": "b705fc79",
   "metadata": {},
   "outputs": [],
   "source": [
    "# find the truth values of the combined propositions\n",
    "p = True\n",
    "q = True"
   ]
  },
  {
   "cell_type": "code",
   "execution_count": null,
   "id": "70763500",
   "metadata": {},
   "outputs": [],
   "source": [
    "bool(8) # converting an integer to boolean: always True, except for 0 (False) \n",
    "# (way of asking: is this number different from zero?)"
   ]
  },
  {
   "cell_type": "code",
   "execution_count": null,
   "id": "41e67c26",
   "metadata": {},
   "outputs": [],
   "source": [
    "# same for float: bool(float) ... \"is this float different from 0?\"\n",
    "bool(0.00005)\n",
    "#bool(0.0) "
   ]
  },
  {
   "cell_type": "markdown",
   "id": "ea695dfa",
   "metadata": {},
   "source": [
    "## What is the truth value of an object?\n",
    "\n",
    "(In a world according to Python)\n",
    "\n",
    "Is a number `True` or `False`?\n",
    "\n",
    "Is a word `True` or `False`?"
   ]
  },
  {
   "cell_type": "code",
   "execution_count": null,
   "id": "a7248b97",
   "metadata": {},
   "outputs": [],
   "source": [
    "# What is the truth value of a number?\n",
    "bool(8)"
   ]
  },
  {
   "cell_type": "code",
   "execution_count": null,
   "id": "c63d59fb",
   "metadata": {},
   "outputs": [],
   "source": [
    "# What is the truth value of a number?\n",
    "bool(42)"
   ]
  },
  {
   "cell_type": "code",
   "execution_count": null,
   "id": "8c170b57",
   "metadata": {},
   "outputs": [],
   "source": [
    "# What is the truth value of a number?\n",
    "bool(-3.14)"
   ]
  },
  {
   "cell_type": "code",
   "execution_count": null,
   "id": "8a909fa2",
   "metadata": {},
   "outputs": [],
   "source": [
    "# What is the truth value of a number?\n",
    "bool(0)"
   ]
  },
  {
   "cell_type": "code",
   "execution_count": null,
   "id": "6bd1bd74",
   "metadata": {},
   "outputs": [],
   "source": [
    "# What is the truth value of a string?\n",
    "my_statement = \"hhsdkfhsdkfjh\"\n",
    "bool(my_statement)"
   ]
  },
  {
   "cell_type": "code",
   "execution_count": null,
   "id": "f6b80c1a",
   "metadata": {},
   "outputs": [],
   "source": [
    "# What is the truth value of a string?\n",
    "my_statement = \"\"\n",
    "bool(my_statement)"
   ]
  },
  {
   "cell_type": "markdown",
   "id": "a2f0021a",
   "metadata": {},
   "source": [
    "## Truth value of objects in Python\n",
    "* all numbers (float and int) except `0` have the boolean value of `True`\n",
    "* all strings (and other object types) that are **not empty** have the boolean value `True`\n",
    "* the number `0` has the boolean value of `False`\n",
    "* empty strings (and other empty objects) have the boolean value `False`"
   ]
  },
  {
   "cell_type": "markdown",
   "id": "f6b66832",
   "metadata": {},
   "source": [
    "## Casting variables - update!\n",
    "\n",
    "* To convert to integer: `int()`\n",
    "* To convert to float: `float()`\n",
    "* To convert to string: `str()`\n",
    "* **To convert to boolean: `bool()`**"
   ]
  },
  {
   "cell_type": "markdown",
   "id": "a10b6419",
   "metadata": {},
   "source": [
    "***\n",
    "# What are Python objects?\n",
    "\n",
    "Python is an object-oriented programming language. (OOP)\n",
    "\n",
    "\"Everything\" is an object.\n",
    "\n",
    "Every variable that you define is an object.\n",
    "\n",
    "Every function (for example, `type()`, `print()`, `int()`) is an object.\n",
    "\n",
    "**Don't worry about this now!**"
   ]
  },
  {
   "cell_type": "markdown",
   "id": "84701a85",
   "metadata": {},
   "source": [
    "***\n",
    "# What are Python operators?\n",
    "\n",
    "Python operators *perform operations* on Python objects.\n",
    "\n",
    "There are 7 groups of Python operators, we already have learned some of them:\n",
    "\n",
    "* **Arithmetic operators** `+ - * / ** //` (and more!)\n",
    "* **Assignment operators** `=` (and more!)\n",
    "* **Comparison operators** `== != > >= < <= `\n",
    "* **Logical operators** `and or not`\n",
    "* ~~Identity operators~~ \n",
    "* ~~Membership operators~~ \n",
    "* ~~Bitwise operators~~ ...saving for later!"
   ]
  },
  {
   "cell_type": "markdown",
   "id": "c467966a",
   "metadata": {},
   "source": [
    "*** \n",
    "\n",
    "# `list`s in Python - intro\n",
    "\n",
    "* Hooray, a new data type!\n",
    "* We already know: `int float str bool` (fundamental data types)\n",
    "* We will learn now: `list` (sequence data type)\n",
    "* We will learn later: ... (so much more!)\n",
    "\n",
    "Let's see some simple examples first."
   ]
  },
  {
   "cell_type": "code",
   "execution_count": null,
   "id": "8f74f21b",
   "metadata": {},
   "outputs": [],
   "source": [
    "# With square brackets and commas in between, \n",
    "# we can make a Python list.\n",
    "[1, 2, 3]"
   ]
  },
  {
   "cell_type": "code",
   "execution_count": null,
   "id": "5b5e8155",
   "metadata": {},
   "outputs": [],
   "source": [
    "# let's check what data type this is:\n",
    "type([1,2,3])"
   ]
  },
  {
   "cell_type": "code",
   "execution_count": null,
   "id": "9b60e01e",
   "metadata": {},
   "outputs": [],
   "source": [
    "# Lists can also have just one element.\n",
    "[3]\n",
    "type([3])"
   ]
  },
  {
   "cell_type": "code",
   "execution_count": null,
   "id": "d325ceea",
   "metadata": {},
   "outputs": [],
   "source": [
    "# Lists can even be empty. It's the square brackets that make the list.\n",
    "empty_list = []\n",
    "type(empty_list)\n",
    "# bool(empty_list)"
   ]
  },
  {
   "cell_type": "code",
   "execution_count": null,
   "id": "3af15719",
   "metadata": {},
   "outputs": [],
   "source": [
    "# We can also make a list of strings, for example movies we want to watch.\n",
    "[\"Groundhog Day\", \"Solaris\", \"Barbie\"]"
   ]
  },
  {
   "cell_type": "code",
   "execution_count": null,
   "id": "8c2b2195",
   "metadata": {},
   "outputs": [],
   "source": [
    "# A list can also contain just one string. \n",
    "# It is still a proper list (just with one element.)\n",
    "[\"movie night\"]"
   ]
  },
  {
   "cell_type": "code",
   "execution_count": null,
   "id": "f685cc8a",
   "metadata": {},
   "outputs": [],
   "source": [
    "# We can also store variables in lists.\n",
    "x = 10\n",
    "y = 20\n",
    "z = 30\n",
    "my_list = [x, y, z]\n",
    "print(my_list)"
   ]
  },
  {
   "cell_type": "code",
   "execution_count": null,
   "id": "fa363c58",
   "metadata": {},
   "outputs": [],
   "source": [
    "# Lists can even contain different types of objects. \n",
    "# this is not \"best practice\", but... possible!\n",
    "weird_list = [1, \"two\", 3.0, [4, 5], True] \n",
    "print(weird_list)"
   ]
  },
  {
   "cell_type": "code",
   "execution_count": null,
   "id": "b2dd2bbe",
   "metadata": {},
   "outputs": [],
   "source": [
    "# How can we access the elements inside the list?\n",
    "# by INDEXING\n",
    "my_list = [\"a\", \"b\", \"c\"]\n",
    "my_list[3]\n"
   ]
  },
  {
   "cell_type": "markdown",
   "id": "87a85926",
   "metadata": {},
   "source": [
    "## Note: Python starts to count at 0!\n",
    "\n",
    "The first \"number\" in Python is `0`.\n",
    "\n",
    "The first index in Python is `0`.\n",
    "\n",
    "To access the first element in a list, we index it with `0`: **`mylist[0]`**\n",
    "\n",
    "Fun fact: thanks to a student petition, ITU classrooms are numbered in this way, too! "
   ]
  },
  {
   "cell_type": "markdown",
   "id": "4968ed9d",
   "metadata": {},
   "source": [
    "## How to access the \"inside\" of our list\n",
    "\n",
    "**Indexing:** accessing ONE element\n",
    "\n",
    "**Slicing:** accessing SEVERAL CONSECUTIVE elements"
   ]
  },
  {
   "cell_type": "code",
   "execution_count": null,
   "id": "706f6224",
   "metadata": {},
   "outputs": [],
   "source": [
    "# indexing lists\n",
    "weekdays = [\"monday\", \"tuesday\", \"wednesday\", \"thursday\", \"friday\", \"saturday\", \"sunday\"]\n",
    "# to get the FIRST element:\n",
    "weekdays[0]"
   ]
  },
  {
   "cell_type": "code",
   "execution_count": null,
   "id": "1d03fcb5",
   "metadata": {},
   "outputs": [],
   "source": [
    "# indexing lists\n",
    "weekdays = [\"monday\", \"tuesday\", \"wednesday\", \"thursday\", \"friday\", \"saturday\", \"sunday\"]\n",
    "# to get the SECOND element:\n",
    "weekdays[1]"
   ]
  },
  {
   "cell_type": "code",
   "execution_count": null,
   "id": "ba1d9109",
   "metadata": {},
   "outputs": [],
   "source": [
    "# indexing lists\n",
    "weekdays = [\"monday\", \"tuesday\", \"wednesday\", \"thursday\", \"friday\", \"saturday\", \"sunday\"]\n",
    "# to get the LAST element:\n",
    "weekdays[-1] # last element (could also be accessed by weekdays[6])"
   ]
  },
  {
   "cell_type": "code",
   "execution_count": null,
   "id": "4e0cb0f4",
   "metadata": {},
   "outputs": [],
   "source": [
    "# indexing lists\n",
    "weekdays = [\"monday\", \"tuesday\", \"wednesday\", \"thursday\", \"friday\", \"saturday\", \"sunday\"]\n",
    "# to get the SECOND-TO-LAST element:\n",
    "weekdays[-2]"
   ]
  },
  {
   "cell_type": "code",
   "execution_count": null,
   "id": "28af4711",
   "metadata": {},
   "outputs": [],
   "source": [
    "# slicing lists\n",
    "weekdays = [\"monday\", \"tuesday\", \"wednesday\", \"thursday\", \"friday\", \"saturday\", \"sunday\"]\n",
    "# to get all elements from index i to index j (NOT INCLUDING j):\n",
    "weekdays[1:4] "
   ]
  },
  {
   "cell_type": "code",
   "execution_count": null,
   "id": "48ab32a8",
   "metadata": {},
   "outputs": [],
   "source": [
    "# slicing lists\n",
    "weekdays = [\"monday\", \"tuesday\", \"wednesday\", \"thursday\", \"friday\", \"saturday\", \"sunday\"]\n",
    "# to get all elements from index i to index j (NOT INCLUDING j), another example:\n",
    "weekdays[0:2]"
   ]
  },
  {
   "cell_type": "code",
   "execution_count": null,
   "id": "eef328df",
   "metadata": {},
   "outputs": [],
   "source": [
    "# slicing lists\n",
    "weekdays = [\"monday\", \"tuesday\", \"wednesday\", \"thursday\", \"friday\", \"saturday\", \"sunday\"]\n",
    "# to get all elements starting from index i, UP TO THE END:\n",
    "weekdays[3:]"
   ]
  },
  {
   "cell_type": "code",
   "execution_count": null,
   "id": "1a807a58",
   "metadata": {},
   "outputs": [],
   "source": [
    "# slicing lists\n",
    "weekdays = [\"monday\", \"tuesday\", \"wednesday\", \"thursday\", \"friday\", \"saturday\", \"sunday\"]\n",
    "# to get all elements FROM THE BEGINNING, up to index j (but not including j):\n",
    "weekdays[:4]"
   ]
  },
  {
   "cell_type": "markdown",
   "id": "7f14d855",
   "metadata": {},
   "source": [
    "## `list`s in Python: what we know by now\n",
    "\n",
    "* Very useful\n",
    "* Are **ordered sequences** of objects (order matters!!)\n",
    "* Can contain **any type of object** (also other lists)\n",
    "* Denoted by square brackets `[]`; created with `[]` or with `list()`\n",
    "* Objects in a list are separated by a comma: `[1, 2, 3]`\n",
    "* Objects in list can be accessed by their index, put in square brackets after the list name: `mylist[index]`"
   ]
  },
  {
   "cell_type": "markdown",
   "id": "e77c3a10",
   "metadata": {},
   "source": [
    "## Indexing lists\n",
    "\n",
    "**Positive indexing**\n",
    "* To access the **first** element: `mylist[0]`\n",
    "* To access the **second** element: `mylist[1]`\n",
    "* To access the **third** element: `mylist[2]` ... etc.\n",
    "\n",
    "**Negative indexing**\n",
    "* To access the **last** element: `mylist[-1]`\n",
    "* To access the **second-to-last** element: `mylist[-2]`\n",
    "* To access the **third-to-last** element: `mylist[-3]` ... etc.\n",
    "\n",
    "> Indexing works the same way for strings, too!"
   ]
  },
  {
   "cell_type": "markdown",
   "id": "f4dc27ad",
   "metadata": {},
   "source": [
    "## Slicing lists\n",
    "\n",
    "* To access **all** elements: `mylist[:]`\n",
    "* To access **all elements starting from i**: `mylist[i:]`\n",
    "* To access **all elements up to (BUT NOT INCLUDING) i**: `mylist[:i]` \n",
    "* To access the elements **from `i` to `j`**: `mylist[i:(j+1)]`\n",
    "\n",
    "> Slicing works the same way for strings, too!"
   ]
  },
  {
   "cell_type": "code",
   "execution_count": null,
   "id": "e735d992",
   "metadata": {},
   "outputs": [],
   "source": [
    "# OMG! It also works for strings!\n",
    "mystring = \"I'm looking at the moon, but I'm thinking of myself.\"\n",
    "# mystring[0] # the first character\n",
    "# mystring[-1] # the last character\n",
    "mystring[4:14] # the characters in position 4:14"
   ]
  },
  {
   "cell_type": "markdown",
   "id": "d832fc59",
   "metadata": {},
   "source": [
    "## Try it out yourself!\n",
    "\n",
    "```python\n",
    "icecream = [\"strawberry\", \"chocolate\", \"banana\", \"pistacchio\"]\n",
    "# access \"strawberry\"\n",
    "# access \"chocolate\" and \"banana\"\n",
    "# access \"pistacchio\"\n",
    "\n",
    "numbers = [10, 20, 30, 40, 50]\n",
    "# access the value 10 by indexing\n",
    "# access the values [20, 30, 40] by slicing\n",
    "# access the values [10, 20, 30, 40] by slicing\n",
    "# access the value 50 by indexing\n",
    "\n",
    "quote = \"I have a dream.\"\n",
    "# access \"I\"\n",
    "# access \"a dream\"\n",
    "# access \".\"\n",
    "```"
   ]
  },
  {
   "cell_type": "code",
   "execution_count": null,
   "id": "82fef46f",
   "metadata": {},
   "outputs": [],
   "source": [
    "icecream = [\"strawberry\", \"chocolate\", \"banana\", \"pistacchio\"]\n",
    "# access \"strawberry\"\n",
    "# access \"chocolate\" and \"banana\"\n",
    "# access \"pistacchio\""
   ]
  },
  {
   "cell_type": "code",
   "execution_count": null,
   "id": "373facb8",
   "metadata": {},
   "outputs": [],
   "source": [
    "numbers = [10, 20, 30, 40, 50]\n",
    "# access the value 10 by indexing\n",
    "# access the values [20, 30, 40] by slicing\n",
    "# access the values [10, 20, 30, 40] by slicing\n",
    "# access the value 50 by indexing\n"
   ]
  },
  {
   "cell_type": "code",
   "execution_count": null,
   "id": "2d4705f5",
   "metadata": {},
   "outputs": [],
   "source": [
    "quote = \"I have a dream.\"\n",
    "# access \"I\"\n",
    "# access \"a dream\"\n",
    "# access \".\""
   ]
  },
  {
   "cell_type": "markdown",
   "id": "d6891503",
   "metadata": {},
   "source": [
    "## Changing and combining lists"
   ]
  },
  {
   "cell_type": "code",
   "execution_count": null,
   "id": "a8c687fb",
   "metadata": {},
   "outputs": [],
   "source": [
    "# you can CHANGE the objects inside a list, by assigning a value:\n",
    "mylist = [1, 2, 3, 4, 5]\n",
    "mylist[0] = \"chaos!\"\n",
    "mylist\n",
    "# note that the variable name remains the same!"
   ]
  },
  {
   "cell_type": "code",
   "execution_count": null,
   "id": "9d0fea68",
   "metadata": {},
   "outputs": [],
   "source": [
    "list_a = [1, 2, 3, 4, 5]\n",
    "list_b = list_a # THIS IS A DANGEROUS THING TO DO\n",
    "list_a[0] = \"chaos!\"\n",
    "print(list_a, list_b) # what do you think list_b will look like?"
   ]
  },
  {
   "cell_type": "code",
   "execution_count": null,
   "id": "38bd1563",
   "metadata": {},
   "outputs": [],
   "source": [
    "list_a = [1, 2, 3, 4, 5]\n",
    "list_b = list_a # THIS IS A DANGEROUS THING TO DO\n",
    "list_a[0] = \"chaos!\"\n",
    "print(list_a, list_b) # changing list_a will also change list_b!!  "
   ]
  },
  {
   "cell_type": "code",
   "execution_count": null,
   "id": "2e3be1b2",
   "metadata": {},
   "outputs": [],
   "source": [
    "list_a = [1, 2, 3, 4, 5]\n",
    "list_b = list_a.copy() # THIS IS A LESS DANGEROUS THING TO DO \n",
    "list_a[0] = \"chaos!\"\n",
    "print(list_a, list_b) "
   ]
  },
  {
   "cell_type": "code",
   "execution_count": null,
   "id": "2aa214cb",
   "metadata": {},
   "outputs": [],
   "source": [
    "# We can combine two lists by using the + operator\n",
    "list1 = [1,2,3]\n",
    "list2 = [4,5,6]\n",
    "list1 + list2\n",
    "# note that there is NO ADDITION OF THE NUMBERS here!\n",
    "# the + means: \"combine/concatenate the two lists\""
   ]
  },
  {
   "cell_type": "code",
   "execution_count": null,
   "id": "0039df83",
   "metadata": {},
   "outputs": [],
   "source": [
    "# We can combine a list \"with itself\" by using the * operator \n",
    "mylist = [\"a\", \"b\", \"c\"]\n",
    "mylist * 3 # this only works with integers"
   ]
  },
  {
   "cell_type": "code",
   "execution_count": null,
   "id": "7abba5e8",
   "metadata": {},
   "outputs": [],
   "source": [
    "# Reminder: we have similar rules for strings:\n",
    "# \"a\" + \"b\"\n",
    "\"a\" * 5 # this only works with integers"
   ]
  },
  {
   "cell_type": "markdown",
   "id": "eb7e5960",
   "metadata": {},
   "source": [
    "## Try it out yourself!\n",
    "\n",
    "```python\n",
    "list1 = [0, 1, \"two\", 3]\n",
    "list2 = [4, 5, \"6\"]\n",
    "list3 = [7, \"ate\", 9]\n",
    "```\n",
    "For each of the lists above, replace the \"outliers\" with integer numbers.\n",
    "\n",
    "Then, concatenate the 3 lists and save them into a variable called `my_list`.\n",
    "\n",
    "`print(my_list)` should return: `[0, 1, 2, 3, 4, 5, 6, 7, 8, 9]`.\n"
   ]
  },
  {
   "cell_type": "code",
   "execution_count": null,
   "id": "35fbf8c5",
   "metadata": {},
   "outputs": [],
   "source": [
    "# Try it out yourself:\n",
    "list1 = [0, 1, \"two\", 3]\n",
    "list2 = [4, 5, \"6\"]\n",
    "list3 = [7, \"ate\", 9]\n",
    "\n",
    "# ... your code here"
   ]
  },
  {
   "cell_type": "markdown",
   "id": "b21da66b",
   "metadata": {},
   "source": [
    "***\n",
    "\n",
    "# Functions in Python\n",
    "\n",
    "We already used six functions...\n",
    "\n",
    "`type()`, `print()`, `int()`, `float()`, `str()`, `bool()`\n",
    "\n",
    "But what **are** functions in Python?"
   ]
  },
  {
   "cell_type": "markdown",
   "id": "d6b42959",
   "metadata": {},
   "source": [
    "## Functions in Python (soft intro)\n",
    "\n",
    "* A function has a **name**\n",
    "* A function takes an **input**\n",
    "* A function **does something** to the input\n",
    "* A function **returns** an **output** (not always though)\n",
    "* In Python slang, we say we ~~use~~ **call** functions `()`"
   ]
  },
  {
   "cell_type": "code",
   "execution_count": null,
   "id": "a39c6213",
   "metadata": {},
   "outputs": [],
   "source": [
    "# let's take an easy example: \n",
    "# casting the float 8.0 into the integer 8 with the help of int().\n",
    "mynumber = int(8.0)\n",
    "mynumber"
   ]
  },
  {
   "cell_type": "markdown",
   "id": "2df6767c",
   "metadata": {},
   "source": [
    "## Functions in Python (soft intro)\n",
    "\n",
    "**EXAMPLE: `mynumber = int(8.0)`**\n",
    "\n",
    "* A function has a **name** $\\rightarrow$ `int`\n",
    "* A function takes an **input** $\\rightarrow$ `8.0`\n",
    "* A function **does something** to the input $\\rightarrow$ it converts the float `8.0` into the integer `8`\n",
    "* A function **returns** an **output** $\\rightarrow$ `8`, we save it into the variable called `mynumber`\n",
    "* In Python slang, we say we ~~use~~ **call** functions $\\rightarrow$ `()`\n",
    "\n",
    "> Actually, functions can also take none or several inputs; and give back none or several outputs. We'll deal with these cases later. "
   ]
  },
  {
   "cell_type": "code",
   "execution_count": null,
   "id": "f04fe1fd",
   "metadata": {},
   "outputs": [],
   "source": [
    "# Now we can better understand why \n",
    "# we shouldn't overwrite built-in functions...\n",
    "# int(\"5\")\n",
    "# defining a variable called \"int\" (DONT DO THAT!!!!)\n",
    "# int = \"i am sneaky and will overwrite this function name with a useless variable now\" \n",
    "int(\"5\")\n",
    "# But if it happened... don't worry, just restart Python (the kernel)"
   ]
  },
  {
   "cell_type": "markdown",
   "id": "92351c60",
   "metadata": {},
   "source": [
    "## Built-in functions in Python3\n",
    "\n",
    "https://docs.python.org/3/library/functions.html\n",
    "\n",
    "\"Basic equipment\" of Python.\n",
    "\n",
    "You don't need to know them all - but today we will look at some!\n",
    "\n",
    "* Working with numbers: `abs()`\n",
    "* Working with lists: `max(), min(), sum()`\n",
    "* Working with lists, strings, etc.: `len()`"
   ]
  },
  {
   "cell_type": "code",
   "execution_count": null,
   "id": "6850626e",
   "metadata": {},
   "outputs": [],
   "source": [
    "# the abs() function returns the absolute value (without a minus sign) of a number\n",
    "abs(-8)"
   ]
  },
  {
   "cell_type": "code",
   "execution_count": null,
   "id": "d0dcc5a4",
   "metadata": {},
   "outputs": [],
   "source": [
    "# the min() and max() functions return the smallest and largest value in a list, respectively\n",
    "mylist = [6,9,11,4]\n",
    "# min(mylist) \n",
    "max(mylist)"
   ]
  },
  {
   "cell_type": "code",
   "execution_count": null,
   "id": "6baa4c92",
   "metadata": {},
   "outputs": [],
   "source": [
    "# the sum() function returns the sum of a list\n",
    "mylist = [10, 5, 1]\n",
    "sum(mylist)"
   ]
  },
  {
   "cell_type": "code",
   "execution_count": null,
   "id": "e543fd6d",
   "metadata": {},
   "outputs": [],
   "source": [
    "# the len() function returns the length of an object\n",
    "len([10,11,12])"
   ]
  },
  {
   "cell_type": "code",
   "execution_count": null,
   "id": "d26f24e5",
   "metadata": {},
   "outputs": [],
   "source": [
    "# the len() function returns the length of an object\n",
    "len(\"happy birthday\")"
   ]
  },
  {
   "cell_type": "code",
   "execution_count": null,
   "id": "ad51d130",
   "metadata": {},
   "outputs": [],
   "source": [
    "# the len() function returns the length of an object\n",
    "len([\"happy birthday\"]) # this is a list with only 1 element, so..."
   ]
  },
  {
   "cell_type": "code",
   "execution_count": null,
   "id": "1fc0095a",
   "metadata": {},
   "outputs": [],
   "source": [
    "# And by the way, you can always get help from Python like this:\n",
    "?abs\n",
    "# note the syntax: no \"()\" after function name!"
   ]
  },
  {
   "cell_type": "markdown",
   "id": "6ee4ba56",
   "metadata": {},
   "source": [
    "# Try it out yourself!\n",
    "\n",
    "Let's have a look at the built-in functions:\n",
    "```python\n",
    "round()\n",
    "sorted()\n",
    "id()\n",
    "all()\n",
    "any()\n",
    "```\n",
    "Find out (by guessing; trial and error; checking the documentation; or all of the above) what these built-in functions do."
   ]
  },
  {
   "cell_type": "code",
   "execution_count": null,
   "id": "2e323e5e",
   "metadata": {},
   "outputs": [],
   "source": [
    "# round()"
   ]
  },
  {
   "cell_type": "code",
   "execution_count": null,
   "id": "2f3f0431",
   "metadata": {},
   "outputs": [],
   "source": [
    "# sorted()"
   ]
  },
  {
   "cell_type": "code",
   "execution_count": 30,
   "id": "3912ed6d",
   "metadata": {},
   "outputs": [],
   "source": [
    "# id()"
   ]
  },
  {
   "cell_type": "code",
   "execution_count": 14,
   "id": "19672db3",
   "metadata": {},
   "outputs": [],
   "source": [
    "# all()"
   ]
  },
  {
   "cell_type": "code",
   "execution_count": 13,
   "id": "a611e183",
   "metadata": {},
   "outputs": [],
   "source": [
    "# any()"
   ]
  }
 ],
 "metadata": {
  "kernelspec": {
   "display_name": "Python 3",
   "language": "python",
   "name": "python3"
  },
  "language_info": {
   "codemirror_mode": {
    "name": "ipython",
    "version": 3
   },
   "file_extension": ".py",
   "mimetype": "text/x-python",
   "name": "python",
   "nbconvert_exporter": "python",
   "pygments_lexer": "ipython3",
   "version": "3.12.5"
  }
 },
 "nbformat": 4,
 "nbformat_minor": 5
}
