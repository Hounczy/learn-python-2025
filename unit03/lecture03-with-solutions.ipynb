{
 "cells": [
  {
   "cell_type": "markdown",
   "id": "d4fdeb3e",
   "metadata": {
    "slideshow": {
     "slide_type": "slide"
    }
   },
   "source": [
    "# Recap: creating and changing lists"
   ]
  },
  {
   "cell_type": "code",
   "execution_count": null,
   "id": "f53ab987",
   "metadata": {
    "slideshow": {
     "slide_type": "slide"
    }
   },
   "outputs": [],
   "source": [
    "movies = [\"Solaris\", \"Groundhog Day\", \"Barbie\"] # what happens in this line?\n",
    "movies[1] # what happens in this line?"
   ]
  },
  {
   "cell_type": "code",
   "execution_count": null,
   "id": "2e9e83fd",
   "metadata": {
    "slideshow": {
     "slide_type": "slide"
    }
   },
   "outputs": [],
   "source": [
    "movies = [\"Solaris\", \"Groundhog Day\", \"Barbie\"]\n",
    "print(movies[1])\n",
    "movies[1] = \"Titanic\" # WHAT HAPPENS IN THIS LINE?"
   ]
  },
  {
   "cell_type": "code",
   "execution_count": null,
   "id": "93e63a58",
   "metadata": {
    "slideshow": {
     "slide_type": "slide"
    }
   },
   "outputs": [],
   "source": [
    "movies = [\"Solaris\", \"Groundhog Day\", \"Barbie\"]\n",
    "print(movies[1])\n",
    "movies[1] = \"Titanic\"\n",
    "print(movies[1])\n",
    "movies[0] = \"...\"\n",
    "movies"
   ]
  },
  {
   "cell_type": "code",
   "execution_count": null,
   "id": "719248f1",
   "metadata": {
    "slideshow": {
     "slide_type": "slide"
    }
   },
   "outputs": [],
   "source": [
    "# control flow \n",
    "# reading from right to left\n",
    "# interrupting when error\n",
    "# overwriting values"
   ]
  },
  {
   "cell_type": "code",
   "execution_count": null,
   "id": "d4a63a3e",
   "metadata": {
    "slideshow": {
     "slide_type": "slide"
    }
   },
   "outputs": [],
   "source": [
    "movies = [\"Solaris\", \"Groundhog Day\", \"Barbie\"]\n",
    "print(movies[1])\n",
    "broken = lineofcode # WHAT HAPPENS IN THIS LINE?\n",
    "movies[1] = \"Titanic\"\n",
    "print(movies[1])"
   ]
  },
  {
   "cell_type": "code",
   "execution_count": null,
   "id": "ea11084f",
   "metadata": {
    "slideshow": {
     "slide_type": "slide"
    }
   },
   "outputs": [],
   "source": [
    "movies # is unchaged because Python stopped executing at first error"
   ]
  },
  {
   "cell_type": "code",
   "execution_count": null,
   "id": "3bde0018",
   "metadata": {
    "slideshow": {
     "slide_type": "slide"
    }
   },
   "outputs": [],
   "source": [
    "degrees_outside = [18, 15, 23]\n",
    "degrees_outside[-1] # what happens in this line?"
   ]
  },
  {
   "cell_type": "code",
   "execution_count": null,
   "id": "db9b0fb6",
   "metadata": {
    "slideshow": {
     "slide_type": "slide"
    }
   },
   "outputs": [],
   "source": [
    "degrees_outside = [18, 15, 23]\n",
    "degrees_outside[-1] = degrees_outside[-1] + 2 # WHAT HAPPENS IN THIS LINE?\n",
    "degrees_outside"
   ]
  },
  {
   "cell_type": "markdown",
   "id": "b527e84d",
   "metadata": {
    "slideshow": {
     "slide_type": "slide"
    }
   },
   "source": [
    "***\n",
    "# Update on your assignment operator skillset\n",
    "\n",
    "**augmented assignment**"
   ]
  },
  {
   "cell_type": "code",
   "execution_count": null,
   "id": "dde292a1",
   "metadata": {
    "slideshow": {
     "slide_type": "slide"
    }
   },
   "outputs": [],
   "source": [
    "x = 4\n",
    "x = x + 1\n",
    "x"
   ]
  },
  {
   "cell_type": "code",
   "execution_count": null,
   "id": "52159a9d",
   "metadata": {
    "slideshow": {
     "slide_type": "slide"
    }
   },
   "outputs": [],
   "source": [
    "x = 4\n",
    "x = x + 3\n",
    "x"
   ]
  },
  {
   "cell_type": "code",
   "execution_count": null,
   "id": "8891c110",
   "metadata": {
    "slideshow": {
     "slide_type": "slide"
    }
   },
   "outputs": [],
   "source": [
    "y = 10\n",
    "y = y - 1\n",
    "y"
   ]
  },
  {
   "cell_type": "code",
   "execution_count": null,
   "id": "7028eba4",
   "metadata": {
    "slideshow": {
     "slide_type": "slide"
    }
   },
   "outputs": [],
   "source": [
    "y = 10\n",
    "y -= 1\n",
    "y"
   ]
  },
  {
   "cell_type": "code",
   "execution_count": null,
   "id": "f3fd060e",
   "metadata": {
    "slideshow": {
     "slide_type": "slide"
    }
   },
   "outputs": [],
   "source": [
    "# works for strings, as well!\n",
    "mystring = \"hello\"\n",
    "mystring += \" world!  \"\n",
    "mystring"
   ]
  },
  {
   "cell_type": "code",
   "execution_count": null,
   "id": "29e3ce8f",
   "metadata": {
    "slideshow": {
     "slide_type": "slide"
    }
   },
   "outputs": [],
   "source": [
    "# works for lists, as well!\n",
    "mylist = [1,2,3]\n",
    "mylist += [4,5]\n",
    "mylist "
   ]
  },
  {
   "cell_type": "markdown",
   "id": "43b2ff0a",
   "metadata": {
    "slideshow": {
     "slide_type": "slide"
    }
   },
   "source": [
    "***\n",
    "# Control flow in Python\n",
    "\n",
    "* in what order is code interpreted?\n",
    "* ground rule: **sequentially**, i.e.: line by line!\n",
    "* BUT! with some exceptions..."
   ]
  },
  {
   "cell_type": "markdown",
   "id": "9926a9bb",
   "metadata": {
    "slideshow": {
     "slide_type": "slide"
    }
   },
   "source": [
    "***\n",
    "\n",
    "# Conditional statements in Python\n",
    "\n",
    "`if`, `else`, `elif`"
   ]
  },
  {
   "cell_type": "code",
   "execution_count": null,
   "id": "c0c51cd2",
   "metadata": {
    "slideshow": {
     "slide_type": "slide"
    }
   },
   "outputs": [],
   "source": [
    "be_friendly = False\n",
    "if be_friendly:\n",
    "    print(\"Hello!\")"
   ]
  },
  {
   "cell_type": "code",
   "execution_count": null,
   "id": "f74058cc",
   "metadata": {
    "slideshow": {
     "slide_type": "slide"
    }
   },
   "outputs": [],
   "source": [
    "be_friendly = True\n",
    "if be_friendly: # keyword \"if\" + condition + :\n",
    "    print(\"Hello!\") # indented line of code after \"if\""
   ]
  },
  {
   "cell_type": "code",
   "execution_count": null,
   "id": "1c69a3fe",
   "metadata": {
    "slideshow": {
     "slide_type": "slide"
    }
   },
   "outputs": [],
   "source": [
    "be_friendly = False\n",
    "if be_friendly:\n",
    "    print(\"Hello!\")"
   ]
  },
  {
   "cell_type": "code",
   "execution_count": null,
   "id": "f955fc71",
   "metadata": {
    "slideshow": {
     "slide_type": "slide"
    }
   },
   "outputs": [],
   "source": [
    "be_friendly = False\n",
    "if be_friendly:\n",
    "    print(\"Hello!\")\n",
    "print(\"The if-statement ended in the line above.\")"
   ]
  },
  {
   "cell_type": "code",
   "execution_count": null,
   "id": "7d078ab2",
   "metadata": {
    "slideshow": {
     "slide_type": "slide"
    }
   },
   "outputs": [],
   "source": [
    "be_friendly = True\n",
    "if be_friendly:\n",
    "    print(\"Hello!\")\n",
    "print(\"The if-statement ended in the line above.\")"
   ]
  },
  {
   "cell_type": "code",
   "execution_count": null,
   "id": "723b9130",
   "metadata": {
    "slideshow": {
     "slide_type": "slide"
    }
   },
   "outputs": [],
   "source": [
    "be_friendly = True\n",
    "if be_friendly:\n",
    "    print(\"Hello!\") # the indented lines are executed only if the if-condition evaluates to True\n",
    "print(\"The if-statement ended in the line above.\") # the non-indented lines that follow \n",
    "# are executed in any case"
   ]
  },
  {
   "cell_type": "code",
   "execution_count": null,
   "id": "10eb61c3",
   "metadata": {
    "slideshow": {
     "slide_type": "slide"
    }
   },
   "outputs": [],
   "source": [
    "be_friendly = False\n",
    "if be_friendly:\n",
    "    print(\"Hello!\") # the indented lines are executed only if the if-condition evaluates to True\n",
    "else:\n",
    "    print(\":-/\")\n",
    "print(\"The if-else-statement ended in the line above.\") # the non-indented lines that follow \n",
    "# are executed in any case"
   ]
  },
  {
   "cell_type": "code",
   "execution_count": null,
   "id": "a9491a55",
   "metadata": {
    "slideshow": {
     "slide_type": "slide"
    }
   },
   "outputs": [],
   "source": [
    "be_friendly = True\n",
    "if be_friendly: # condition: be_friendly. if that condition is True, then:\n",
    "    print(\"hello\")  # execute the INDENTED lines of code below"
   ]
  },
  {
   "cell_type": "code",
   "execution_count": null,
   "id": "d804d979",
   "metadata": {
    "slideshow": {
     "slide_type": "slide"
    }
   },
   "outputs": [],
   "source": [
    "be_friendly = False\n",
    "if be_friendly: # condition: be_friendly. if that condition is False, then:\n",
    "    print(\"hello\")  # DO NOT execute the INDENTED lines of code below"
   ]
  },
  {
   "cell_type": "code",
   "execution_count": null,
   "id": "0ed708d6",
   "metadata": {
    "slideshow": {
     "slide_type": "slide"
    }
   },
   "outputs": [],
   "source": [
    "# A conditional \"email reply generator\":\n",
    "be_friendly = True\n",
    "\n",
    "if be_friendly:\n",
    "    print(\"Alright! Many thanks and have a wonderful day.\")\n",
    "    print(\"Warm wishes from Copenhagen,\")\n",
    "    print(\"Anastassia\")\n",
    "else:\n",
    "    print(\"ok.\")\n",
    "\n",
    "print(\"Send the email.\")"
   ]
  },
  {
   "cell_type": "markdown",
   "id": "003ba4cd",
   "metadata": {
    "slideshow": {
     "slide_type": "slide"
    }
   },
   "source": [
    "## `if` statement\n",
    "\n",
    "\n",
    "```python\n",
    "# \"condition\" is evaluated to either True or False\n",
    "if condition: # note the : \n",
    "    expression1 # note the indent\n",
    "```"
   ]
  },
  {
   "cell_type": "markdown",
   "id": "f15f88f5",
   "metadata": {
    "slideshow": {
     "slide_type": "slide"
    }
   },
   "source": [
    "## `if-else` statement\n",
    "```python\n",
    "# \"condition\" is evaluated to either True or False\n",
    "if condition:\n",
    "    expression1 # note the indent\n",
    "else:\n",
    "    expression2 # note the indent\n",
    "```"
   ]
  },
  {
   "cell_type": "markdown",
   "id": "f1482415",
   "metadata": {
    "slideshow": {
     "slide_type": "slide"
    }
   },
   "source": [
    "# Try it out yourself!\n",
    "\n",
    "\n",
    "Write a piece of code that advises you whether to take the bike or the metro to ITU, depending on the weather. Your code should look something like this:\n",
    "\n",
    "```python\n",
    "x = ... # define x here\n",
    "if x:\n",
    "    print(\"...\") # print out what to do if x is True\n",
    "else:\n",
    "    print(\"...\") # print out what to do otherwise\n",
    "```"
   ]
  },
  {
   "cell_type": "code",
   "execution_count": null,
   "id": "67b8eb95",
   "metadata": {
    "slideshow": {
     "slide_type": "slide"
    }
   },
   "outputs": [],
   "source": [
    "# YOUR CODE HERE\n",
    "rain = False\n",
    "\n",
    "if rain:\n",
    "    print(\"Take the metro.\")\n",
    "else:\n",
    "    print(\"Take the bike.\")"
   ]
  },
  {
   "cell_type": "markdown",
   "id": "5e61fa53",
   "metadata": {
    "slideshow": {
     "slide_type": "slide"
    }
   },
   "source": [
    "***\n",
    "## More examples of conditions for if-else statements"
   ]
  },
  {
   "cell_type": "code",
   "execution_count": null,
   "id": "79b4f365",
   "metadata": {
    "slideshow": {
     "slide_type": "slide"
    }
   },
   "outputs": [],
   "source": [
    "x = 3\n",
    "y = 3\n",
    "if x == y:\n",
    "    print(\"The variables have equal values\")"
   ]
  },
  {
   "cell_type": "code",
   "execution_count": null,
   "id": "519a5cb9",
   "metadata": {
    "slideshow": {
     "slide_type": "slide"
    }
   },
   "outputs": [],
   "source": [
    "x = 3\n",
    "y = 3\n",
    "if x != y:\n",
    "    print(\"The variables have different values\")"
   ]
  },
  {
   "cell_type": "code",
   "execution_count": null,
   "id": "f135f882",
   "metadata": {
    "slideshow": {
     "slide_type": "slide"
    }
   },
   "outputs": [],
   "source": [
    "x = 3\n",
    "y = 5\n",
    "if x < y:\n",
    "    print(\"x is smaller than y\")"
   ]
  },
  {
   "cell_type": "code",
   "execution_count": null,
   "id": "37b905e1",
   "metadata": {
    "slideshow": {
     "slide_type": "slide"
    }
   },
   "outputs": [],
   "source": [
    "x = 3\n",
    "y = 5\n",
    "if x > y:\n",
    "    print(\"x is greater than y\")"
   ]
  },
  {
   "cell_type": "code",
   "execution_count": null,
   "id": "35358daf",
   "metadata": {
    "slideshow": {
     "slide_type": "slide"
    }
   },
   "outputs": [],
   "source": [
    "a = True\n",
    "b = False\n",
    "if a or b:\n",
    "    print(\"At least one of a, b is True\")"
   ]
  },
  {
   "cell_type": "markdown",
   "id": "f9b1b916",
   "metadata": {
    "slideshow": {
     "slide_type": "slide"
    }
   },
   "source": [
    "## The keyword `in`\n",
    "\n",
    "```python\n",
    "object in container\n",
    "# evaluates to True (if container contains the object)\n",
    "# evaluates to False (if container does not contain the object)\n",
    "# throws an Error if container cannot contain anything\n",
    "```"
   ]
  },
  {
   "cell_type": "code",
   "execution_count": null,
   "id": "c254e745",
   "metadata": {
    "slideshow": {
     "slide_type": "slide"
    }
   },
   "outputs": [],
   "source": [
    "5 in [0,5,7]"
   ]
  },
  {
   "cell_type": "code",
   "execution_count": null,
   "id": "324f49e9",
   "metadata": {
    "slideshow": {
     "slide_type": "slide"
    }
   },
   "outputs": [],
   "source": [
    "3 in [5,6,7]"
   ]
  },
  {
   "cell_type": "code",
   "execution_count": null,
   "id": "71370ae4",
   "metadata": {
    "slideshow": {
     "slide_type": "slide"
    }
   },
   "outputs": [],
   "source": [
    "if \"a\" in \"Copenhagen\":\n",
    "    print(\"Copenhagen contains the letter a\")"
   ]
  },
  {
   "cell_type": "code",
   "execution_count": null,
   "id": "6bfba642",
   "metadata": {
    "slideshow": {
     "slide_type": "slide"
    }
   },
   "outputs": [],
   "source": [
    "\"B\" in \"Copenhagen\""
   ]
  },
  {
   "cell_type": "code",
   "execution_count": null,
   "id": "ad7d12bc",
   "metadata": {
    "slideshow": {
     "slide_type": "slide"
    }
   },
   "outputs": [],
   "source": [
    "3 in 5"
   ]
  },
  {
   "cell_type": "markdown",
   "id": "01c95681",
   "metadata": {
    "slideshow": {
     "slide_type": "slide"
    }
   },
   "source": [
    "## Keywords we've already seen\n",
    "\n",
    "(\"reserved\" words that should not be used as variable names!)\n",
    "\n",
    "`and or not True False if else in`"
   ]
  },
  {
   "cell_type": "markdown",
   "id": "b1ebbaaa",
   "metadata": {
    "slideshow": {
     "slide_type": "slide"
    }
   },
   "source": [
    "***\n",
    "# `if-elif-else`: introducing one more condition"
   ]
  },
  {
   "cell_type": "code",
   "execution_count": null,
   "id": "bd053eb0",
   "metadata": {
    "slideshow": {
     "slide_type": "slide"
    }
   },
   "outputs": [],
   "source": [
    "# Let's say we want to write a slightly more sophisticated \"email reply generator\":\n",
    "# friendliness level 0-4: \"ok\"\n",
    "# friendliness level 5-8: \"Ok, thanks!\"\n",
    "# friendliness level 9+ : \"Alright! Many thanks and have a wonderful day\""
   ]
  },
  {
   "cell_type": "code",
   "execution_count": null,
   "id": "e73b7933",
   "metadata": {
    "slideshow": {
     "slide_type": "slide"
    }
   },
   "outputs": [],
   "source": [
    "# A slightly more sophisticated \"email reply generator\":\n",
    "# friendliness level 0-4: \"ok\"\n",
    "# friendliness level 5-8: \"Ok, thanks!\"\n",
    "# friendliness level 9+ : \"Alright! Many thanks and have a wonderful day\"\n",
    "\n",
    "friendliness_level = 9\n",
    "\n",
    "if friendliness_level > 8:\n",
    "    print(\"Alright! Many thanks and have a wonderful day\")\n",
    "elif friendliness_level == 9:\n",
    "    print(\"Ok, thanks!\")\n",
    "else:\n",
    "    print(\"ok\")\n",
    "    \n",
    "print(\"done\")"
   ]
  },
  {
   "cell_type": "markdown",
   "id": "b11057c8",
   "metadata": {
    "slideshow": {
     "slide_type": "slide"
    }
   },
   "source": [
    "## `if-elif-elif-...-else` statement\n",
    "\n",
    "```python\n",
    "if condition1:\n",
    "    expression1\n",
    "elif condition2:\n",
    "    expression2\n",
    "elif condition3:\n",
    "    expression3\n",
    "# ...etc\n",
    "else:\n",
    "    last_expression\n",
    "```"
   ]
  },
  {
   "cell_type": "markdown",
   "id": "64ca4627",
   "metadata": {
    "slideshow": {
     "slide_type": "slide"
    }
   },
   "source": [
    "## Try it out yourself!\n",
    "\n",
    "Let's say that in an exam,\n",
    "* `< 5` points mean you failed,\n",
    "* `5-10` points mean you barely passed,\n",
    "* `> 10` points mean you passed.\n",
    "\n",
    "Write a block of code that \n",
    "* defines the variable `exam_score` and assigns an integer value to it\n",
    "* prints out, depending on the value of `exam_score`: either \n",
    "    * `\"you passed\"`, \n",
    "    * `\"you barely passed\"`, or \n",
    "    * `\"you failed\"`\n",
    "\n",
    "* Play around with different values of `exam_score` to see what happens!\n",
    "* What happens if you try to use your function with a non-numeric input (e.g. a string)?"
   ]
  },
  {
   "cell_type": "code",
   "execution_count": null,
   "id": "a2a5348f",
   "metadata": {
    "slideshow": {
     "slide_type": "slide"
    }
   },
   "outputs": [],
   "source": [
    "# exam_score...\n",
    "# option 1:\n",
    "exam_score = 7\n",
    "if exam_score < 5:\n",
    "    print(\"you failed\")\n",
    "elif exam_score <= 10:\n",
    "    print(\"you barely passed\")\n",
    "else:\n",
    "    print(\"you passed\")"
   ]
  },
  {
   "cell_type": "code",
   "execution_count": null,
   "id": "ec60acfc",
   "metadata": {},
   "outputs": [],
   "source": [
    "# option 2:\n",
    "exam_score = 7\n",
    "if exam_score > 10:\n",
    "    print(\"you passed\")\n",
    "elif exam_score < 5:\n",
    "    print(\"you failed\")\n",
    "else:\n",
    "    print(\"you barely passed\")"
   ]
  },
  {
   "cell_type": "markdown",
   "id": "66196e1a",
   "metadata": {
    "slideshow": {
     "slide_type": "slide"
    }
   },
   "source": [
    "# What happens in the code?\n",
    "\n",
    "```python\n",
    "x = 0\n",
    "y = 1\n",
    "z = 2\n",
    "if x > y:\n",
    "    a = 5\n",
    "elif x == y:\n",
    "    a = 10\n",
    "else:\n",
    "    a = 1\n",
    "b = a + z\n",
    "print(b==3)\n",
    "```"
   ]
  },
  {
   "cell_type": "code",
   "execution_count": null,
   "id": "9c4c92e7",
   "metadata": {
    "slideshow": {
     "slide_type": "slide"
    }
   },
   "outputs": [],
   "source": [
    "# (TRY IT OUT YOURSELF)\n",
    "x = 0\n",
    "y = 1\n",
    "z = 2\n",
    "if x > y:\n",
    "    c = 5\n",
    "elif x == y:\n",
    "    c = 10\n",
    "b = c + z\n",
    "print(b==3)"
   ]
  },
  {
   "cell_type": "markdown",
   "id": "c7694265",
   "metadata": {
    "slideshow": {
     "slide_type": "slide"
    }
   },
   "source": [
    "***\n",
    "\n",
    "## Making your own functions in Python!\n",
    "\n",
    "* <mark style=\"background-color: lightblue\">A function needs to be **defined** before it can be used</mark>\n",
    "* A function has a **name** \n",
    "* A function takes an **input (parameter)**\n",
    "* A function **does something** to the input\n",
    "* A function returns an **output**\n",
    "\n",
    "```python\n",
    "def my_function(my_input):\n",
    "    # some code, using my_input as a variable\n",
    "    return my_output\n",
    "    \n",
    "# note the syntax, incl. the \":\" and the indents!\n",
    "```"
   ]
  },
  {
   "cell_type": "code",
   "execution_count": null,
   "id": "2740fd26",
   "metadata": {
    "slideshow": {
     "slide_type": "slide"
    }
   },
   "outputs": [],
   "source": [
    "# write a piece of code that takes the variable input_number and adds 1 to it.\n",
    "input_number = 4\n",
    "input_number = input_number + 1\n",
    "input_number"
   ]
  },
  {
   "cell_type": "code",
   "execution_count": null,
   "id": "9a188072",
   "metadata": {
    "slideshow": {
     "slide_type": "slide"
    }
   },
   "outputs": [],
   "source": [
    "# write a function that adds 1 to its input, and returns the new value.\n",
    "# let the function be called \"add_one()\". \n",
    "def add_one(my_input):\n",
    "    my_input = my_input + 1\n",
    "    return my_input"
   ]
  },
  {
   "cell_type": "code",
   "execution_count": null,
   "id": "08ab1716",
   "metadata": {
    "slideshow": {
     "slide_type": "slide"
    }
   },
   "outputs": [],
   "source": [
    "# Here we DEFINE function with the function name \"add_one\" \n",
    "def add_one(input_number):    \n",
    "    output_number = input_number + 1\n",
    "    return output_number\n",
    "# running this cell will DEFINE the function. after this, we can use it."
   ]
  },
  {
   "cell_type": "code",
   "execution_count": null,
   "id": "f6b94351",
   "metadata": {
    "slideshow": {
     "slide_type": "slide"
    }
   },
   "outputs": [],
   "source": [
    "add_one(\"a\")"
   ]
  },
  {
   "cell_type": "code",
   "execution_count": null,
   "id": "6a640cfc",
   "metadata": {
    "slideshow": {
     "slide_type": "slide"
    }
   },
   "outputs": [],
   "source": [
    "add_one(100)"
   ]
  },
  {
   "cell_type": "code",
   "execution_count": null,
   "id": "a4ac49ea",
   "metadata": {
    "slideshow": {
     "slide_type": "slide"
    }
   },
   "outputs": [],
   "source": [
    "add_one(0.5)"
   ]
  },
  {
   "cell_type": "code",
   "execution_count": null,
   "id": "81c71515",
   "metadata": {
    "slideshow": {
     "slide_type": "slide"
    }
   },
   "outputs": [],
   "source": [
    "add_one(\"a\")"
   ]
  },
  {
   "cell_type": "code",
   "execution_count": null,
   "id": "9f4438ac",
   "metadata": {
    "slideshow": {
     "slide_type": "slide"
    }
   },
   "outputs": [],
   "source": [
    "# we can save the function output into a variable:\n",
    "z = add_one(8)\n",
    "print(z)\n",
    "z / 3"
   ]
  },
  {
   "cell_type": "code",
   "execution_count": null,
   "id": "a2d9dc23",
   "metadata": {
    "slideshow": {
     "slide_type": "slide"
    }
   },
   "outputs": [],
   "source": [
    "# We can apply the function to a variable that we created before\n",
    "x = 17\n",
    "add_one(x)"
   ]
  },
  {
   "cell_type": "code",
   "execution_count": null,
   "id": "b98a4726",
   "metadata": {
    "slideshow": {
     "slide_type": "slide"
    }
   },
   "outputs": [],
   "source": [
    "# We can NOT apply the function to a variable that we have NOT created before\n",
    "p = 100\n",
    "add_one(p)"
   ]
  },
  {
   "cell_type": "code",
   "execution_count": null,
   "id": "a66c7866",
   "metadata": {
    "slideshow": {
     "slide_type": "slide"
    }
   },
   "outputs": [],
   "source": [
    "# NOTE that we can CHANGE THE VARIABLE NAMES \n",
    "# of the input (function parameter) \n",
    "# and of the output - they can be anything, as long as we are consistent:\n",
    "def add_one(input_number):    \n",
    "    output_number = input_number + 1\n",
    "    return output_number\n",
    "\n",
    "def add_one(x):    \n",
    "    y = x + 1\n",
    "    return y\n",
    "\n",
    "# or, even shorter:\n",
    "def add_one(x):\n",
    "    return x+1"
   ]
  },
  {
   "cell_type": "markdown",
   "id": "de1eb9ab",
   "metadata": {
    "slideshow": {
     "slide_type": "slide"
    }
   },
   "source": [
    "## Making your own functions in Python!\n",
    "\n",
    "* A function needs to be **defined** before it can be used\n",
    "* A function has a **name** \n",
    "* A function takes an **input parameter**\n",
    "* A function **does something** to the input\n",
    "* A function gives back an **output**\n",
    "* <mark style=\"background-color: lightblue\">**Best practice:** A function has an instruction manual, the **docstring** (documentation string)</mark>. Once defined, you can access the docstring by `?function_name`!"
   ]
  },
  {
   "cell_type": "markdown",
   "id": "432757d1",
   "metadata": {
    "slideshow": {
     "slide_type": "slide"
    }
   },
   "source": [
    "```python\n",
    "def my_function(my_input): # starting the function definition\n",
    "\n",
    "    # docstring\n",
    "    '''This function does ... to the input and returns ....'''\n",
    "\n",
    "    # body of the function: what does it do?\n",
    "    # SOME CODE HERE, WHICH USES THE VARIABLE my_input\n",
    "    \n",
    "    return my_output # return statement\n",
    "\n",
    "```"
   ]
  },
  {
   "cell_type": "code",
   "execution_count": null,
   "id": "7f09f674",
   "metadata": {
    "slideshow": {
     "slide_type": "slide"
    }
   },
   "outputs": [],
   "source": [
    "def add_one(input_number):\n",
    "    '''This function takes a number as input, and returns the value increased by 1.'''\n",
    "    output_number = input_number + 1\n",
    "    return output_number\n",
    "\n",
    "# now we can access the docstring!\n",
    "?add_one"
   ]
  },
  {
   "cell_type": "markdown",
   "id": "e2e61c20",
   "metadata": {
    "slideshow": {
     "slide_type": "slide"
    }
   },
   "source": [
    "# Try it out yourself!\n",
    "\n",
    "Add some code so that the function `double_that` returns the input value multiplied by 2.\n",
    "\n",
    "```python\n",
    "def double_that(my_input):\n",
    "    '''This function returns x multiplied by 2.'''\n",
    "    # YOUR CODE HERE, WHICH USES THE my_input AND my_output VARIABLES\n",
    "    return my_output\n",
    "```"
   ]
  },
  {
   "cell_type": "code",
   "execution_count": null,
   "id": "97c6d60e",
   "metadata": {
    "slideshow": {
     "slide_type": "slide"
    }
   },
   "outputs": [],
   "source": [
    "def double_that(my_input):\n",
    "    '''This function returns x multiplied by 2.'''\n",
    "    my_output = my_input * 2\n",
    "    return my_output\n",
    "\n",
    "double_that(\"heyhey\")"
   ]
  },
  {
   "cell_type": "markdown",
   "id": "1242bf3d",
   "metadata": {
    "slideshow": {
     "slide_type": "slide"
    }
   },
   "source": [
    "# What happens in the code?"
   ]
  },
  {
   "cell_type": "code",
   "execution_count": null,
   "id": "d51c85ae",
   "metadata": {
    "slideshow": {
     "slide_type": "slide"
    }
   },
   "outputs": [],
   "source": [
    "# define a function\n",
    "def find_last_element(my_input):\n",
    "\n",
    "    # docstring (note the TRIPLE quotation marks!!!)\n",
    "    '''\n",
    "    This function takes a list or string as input,\n",
    "    and returns the last element of the list \n",
    "    (or the last character of the string).\n",
    "    '''\n",
    "    \n",
    "    # body of the function: what does it do?\n",
    "    last_element = my_input[-1]\n",
    "\n",
    "    # return statement\n",
    "    return last_element\n",
    "\n",
    "print(find_last_element([1,2,3,4,5,6]))\n",
    "print(find_last_element(\"In the country of the blind, the one-eyed man is king\"))\n",
    "print(find_last_element(True))\n",
    "print(find_last_element(\"1312\"))"
   ]
  },
  {
   "cell_type": "markdown",
   "id": "fda97a16",
   "metadata": {
    "slideshow": {
     "slide_type": "slide"
    }
   },
   "source": [
    "## What if I define a variable INSIDE a function? Can I use it EVERYWHERE?\n",
    "\n",
    "Spoiler: NO!"
   ]
  },
  {
   "cell_type": "code",
   "execution_count": null,
   "id": "52d876bd",
   "metadata": {
    "slideshow": {
     "slide_type": "slide"
    }
   },
   "outputs": [],
   "source": [
    "# Let's go back to our very first example\n",
    "def add_one(input_number):    \n",
    "    output_number = input_number + 1\n",
    "    return output_number\n",
    "\n",
    "# Let's run the \"add_one\" function and save the output to the variable \"x\"\n",
    "x = add_one(9)\n",
    "\n",
    "# Can we access the variables \"input_number\" and \"output_number\"?\n",
    "#print(input_number)\n",
    "print(output_number)\n",
    "# No, we can't!"
   ]
  },
  {
   "cell_type": "markdown",
   "id": "2953df63",
   "metadata": {
    "slideshow": {
     "slide_type": "slide"
    }
   },
   "source": [
    "## Scopes in Python: Global and local\n",
    "\n",
    "<mark style=\"background-color: lightblue\">**x is defined in global scope**</mark>\n",
    "```python\n",
    "x = 3 # creating the variable x\n",
    "```\n",
    "<mark style=\"background-color: orange\">**input_number and output_number are defined in local scope**</mark>\n",
    "```python\n",
    "def add_one(input_number):  # defines the function add_one\n",
    "    output_number = input_number + 1 # body of function: what to do with the input?\n",
    "    return output_number # what to return? (has been defined in body of function)\n",
    "```\n",
    "<mark style=\"background-color: lightblue\">**y is defined in global scope**</mark>\n",
    "```python\n",
    "y = add_one(x) # assigns the return value of the function to the variable y\n",
    "```"
   ]
  },
  {
   "cell_type": "markdown",
   "id": "e73559db",
   "metadata": {
    "slideshow": {
     "slide_type": "slide"
    }
   },
   "source": [
    "# Try it out yourself!\n",
    "\n",
    "Use your new knowledge to convert the piece of code below into a function:\n",
    "\n",
    "```python\n",
    "if friendliness_level > 8:\n",
    "    answer = \"Alright! Many thanks and have a wonderful day\"\n",
    "elif friendliness_level > 4:\n",
    "    answer = \"Ok, thanks!\"\n",
    "else:\n",
    "    answer = \"ok\"\n",
    "```\n",
    "\n",
    "Remember:\n",
    "- [ ] A function needs to be **defined** before it can be used\n",
    "- [ ] A function has a **name** \n",
    "- [ ] A function takes an **input parameter**\n",
    "- [ ] A function **does something** to the input\n",
    "- [ ] A function gives back an **output**\n",
    "- [ ] <mark style=\"background-color: lightblue\">**Best practice:** A function has an instruction manual, the **docstring** (documentation string)</mark>. Once defined, you can access the docstring by `?function_name`!"
   ]
  },
  {
   "cell_type": "code",
   "execution_count": null,
   "id": "e4fed982",
   "metadata": {
    "slideshow": {
     "slide_type": "slide"
    }
   },
   "outputs": [],
   "source": [
    "# YOUR CODE HERE\n",
    "def replygenerator(friendliness_level):\n",
    "\n",
    "    '''this function generates an email reply of a given friendliness level.'''\n",
    "    \n",
    "    if friendliness_level > 8:\n",
    "        answer = \"Alright! Many thanks and have a wonderful day\"\n",
    "    elif friendliness_level > 4:\n",
    "        answer = \"Ok, thanks!\"\n",
    "    else:\n",
    "        answer = \"ok\"\n",
    "        \n",
    "    return answer\n",
    "\n",
    "replygenerator(3)"
   ]
  },
  {
   "cell_type": "markdown",
   "id": "0f7aebc9",
   "metadata": {
    "slideshow": {
     "slide_type": "slide"
    }
   },
   "source": [
    "***\n",
    "\n",
    "# Update on your data types skill set!\n",
    "\n",
    "* numeric: `int, float`\n",
    "* boolean: `bool`\n",
    "* string: `str`\n",
    "* **sequences**: `list`, **`tuple`** (**order matters!**)\n",
    "* **sets**: **`set`** (**unique objects!**)"
   ]
  },
  {
   "cell_type": "markdown",
   "id": "14f05f08",
   "metadata": {
    "slideshow": {
     "slide_type": "slide"
    }
   },
   "source": [
    "# Tuples `()`\n",
    "\n",
    "like lists, but inmutable and with round brackets."
   ]
  },
  {
   "cell_type": "code",
   "execution_count": null,
   "id": "c5a8ec92",
   "metadata": {
    "slideshow": {
     "slide_type": "slide"
    }
   },
   "outputs": [],
   "source": [
    "# tuples: \"like lists but different\". use round brackets:\n",
    "(1, 2)"
   ]
  },
  {
   "cell_type": "code",
   "execution_count": null,
   "id": "becbc2e2",
   "metadata": {
    "slideshow": {
     "slide_type": "slide"
    }
   },
   "outputs": [],
   "source": [
    "# tuples\n",
    "my_tuple = (1,2)\n",
    "type(my_tuple)"
   ]
  },
  {
   "cell_type": "code",
   "execution_count": null,
   "id": "15c86380",
   "metadata": {
    "slideshow": {
     "slide_type": "slide"
    }
   },
   "outputs": [],
   "source": [
    "# tuples can have as many objects as we want - just like lists\n",
    "my_tuple = (5,15,35,45,55,65,75)\n",
    "my_tuple"
   ]
  },
  {
   "cell_type": "code",
   "execution_count": null,
   "id": "37833d53",
   "metadata": {
    "slideshow": {
     "slide_type": "slide"
    }
   },
   "outputs": [],
   "source": [
    "# to define an empty tuple,\n",
    "# my_tuple = tuple() # use tuple()\n",
    "my_tuple = () # or simply ()\n",
    "type(my_tuple)"
   ]
  },
  {
   "cell_type": "code",
   "execution_count": null,
   "id": "8fe32c9d",
   "metadata": {
    "slideshow": {
     "slide_type": "slide"
    }
   },
   "outputs": [],
   "source": [
    "# we can index tuples - just like lists\n",
    "my_tuple = (\"mon\", \"tue\", \"wed\", \"thu\", \"fri\", \"sat\", \"sun\")\n",
    "my_tuple[-1]"
   ]
  },
  {
   "cell_type": "code",
   "execution_count": null,
   "id": "ebc894a4",
   "metadata": {
    "slideshow": {
     "slide_type": "slide"
    }
   },
   "outputs": [],
   "source": [
    "# we can use negative indexing with tuples - just like with lists\n",
    "my_tuple = (\"mon\", \"tue\", \"wed\", \"thu\", \"fri\", \"sat\", \"sun\")\n",
    "my_tuple[-1]"
   ]
  },
  {
   "cell_type": "code",
   "execution_count": null,
   "id": "1767c221",
   "metadata": {
    "slideshow": {
     "slide_type": "slide"
    }
   },
   "outputs": [],
   "source": [
    "# we can use slicing with tuples - just like with lists\n",
    "my_tuple = (\"mon\", \"tue\", \"wed\", \"thu\", \"fri\", \"sat\", \"sun\")\n",
    "my_tuple[3:5] # this gives us a tuple!\n",
    "# type(my_tuple[3:5])"
   ]
  },
  {
   "cell_type": "code",
   "execution_count": null,
   "id": "a63d967c",
   "metadata": {
    "slideshow": {
     "slide_type": "slide"
    }
   },
   "outputs": [],
   "source": [
    "# tuples can contain any types of data  - just like lists\n",
    "my_tuple = (1, (2,3), (4,5), [\"a\", \"b\"], True)\n",
    "my_tuple"
   ]
  },
  {
   "cell_type": "code",
   "execution_count": null,
   "id": "5ba54ba5",
   "metadata": {
    "slideshow": {
     "slide_type": "slide"
    }
   },
   "outputs": [],
   "source": [
    "# so what is the difference between a tuple and a list?!\n",
    "my_tuple = (5,15,35,45,55,65)\n",
    "my_tuple[0] = \"chaos\"\n",
    "# THE ONLY DIFFERENCE IS: WE CANNOT CHANGE TUPLES!"
   ]
  },
  {
   "cell_type": "code",
   "execution_count": null,
   "id": "c1628194",
   "metadata": {
    "slideshow": {
     "slide_type": "slide"
    }
   },
   "outputs": [],
   "source": [
    "# type conversion with tuple()\n",
    "my_list = [1, 2, 3]\n",
    "tuple(my_list)"
   ]
  },
  {
   "cell_type": "markdown",
   "id": "832e3a28",
   "metadata": {
    "slideshow": {
     "slide_type": "slide"
    }
   },
   "source": [
    "# Mutable vs. inmutable objects\n",
    "\n",
    "### Lists are \"mutable\". We can change them. (\"dynamic\")\n",
    "\n",
    "### Tuples are \"inmutable\". We can NOT change them. (\"static\")"
   ]
  },
  {
   "cell_type": "markdown",
   "id": "72da2082",
   "metadata": {
    "slideshow": {
     "slide_type": "slide"
    }
   },
   "source": [
    "# Sets `{}`\n",
    "\n",
    "### unique collections of inmutable objects"
   ]
  },
  {
   "cell_type": "code",
   "execution_count": null,
   "id": "92807018",
   "metadata": {
    "slideshow": {
     "slide_type": "slide"
    }
   },
   "outputs": [],
   "source": [
    "# Curly brackets define sets\n",
    "{6, 7, 8, 9}"
   ]
  },
  {
   "cell_type": "code",
   "execution_count": null,
   "id": "027c7cfa",
   "metadata": {
    "slideshow": {
     "slide_type": "slide"
    }
   },
   "outputs": [],
   "source": [
    "# Curly brackets define sets\n",
    "my_set = {6, 7, 8, 9}\n",
    "type(my_set)"
   ]
  },
  {
   "cell_type": "code",
   "execution_count": null,
   "id": "5e17f460",
   "metadata": {
    "slideshow": {
     "slide_type": "slide"
    }
   },
   "outputs": [],
   "source": [
    "# Curly brackets define sets\n",
    "my_set = {6, 6, 6, 6, 7, 7, 7, 7, 8, 8, 8, 8, 9, 9, 9, 9, 9 , 9}\n",
    "my_set\n",
    "# what is happening here?"
   ]
  },
  {
   "cell_type": "code",
   "execution_count": null,
   "id": "43a45904",
   "metadata": {
    "slideshow": {
     "slide_type": "slide"
    }
   },
   "outputs": [],
   "source": [
    "# A set consists of unique values. \n",
    "# Can be a quick way to find unique elements: convert it to a set!\n",
    "{\"a\", 1, \"ba\", \"b1\", 1, \"word1\", \"hello\"}"
   ]
  },
  {
   "cell_type": "code",
   "execution_count": null,
   "id": "9595c070",
   "metadata": {
    "slideshow": {
     "slide_type": "slide"
    }
   },
   "outputs": [],
   "source": [
    "# To define an EMPTY set, use set():\n",
    "my_empty_set = set()\n",
    "# type(my_empty_set)\n",
    "# !!! DO NOT use curly brackets {}, they are reserved for another data type\n",
    "# my_object = {}\n",
    "# type(my_object)"
   ]
  },
  {
   "cell_type": "code",
   "execution_count": null,
   "id": "744c8fdd",
   "metadata": {
    "slideshow": {
     "slide_type": "slide"
    }
   },
   "outputs": [],
   "source": [
    "# Sets can contain different object types,\n",
    "# but NOT mutable object types, ONLY inmutable data types.\n",
    "# contains only inmutable data types: int, float, str, bool, tuple\n",
    "#possible_set = {1, 3.0, \"a\", True, (2,3)} \n",
    "#possible_set\n",
    "#impossible_set = {[1,2,3], [4,5,6]} # contains lists - they are mutable - can't make a set out of them!\n",
    "impossible_set = {{1},{2,3}} # contains sets - they are mutable - can't make a set out of them!\n",
    "# there are other ways to combine sets, we will learn them later"
   ]
  },
  {
   "cell_type": "code",
   "execution_count": null,
   "id": "fd73627c",
   "metadata": {
    "slideshow": {
     "slide_type": "slide"
    }
   },
   "outputs": [],
   "source": [
    "# We can ADD objects\n",
    "my_set = {1, 2}\n",
    "my_set.add(35) # THIS CHANGES THE my_set OBJECT!!!\n",
    "my_set.add(10)\n",
    "my_set.add(10)\n",
    "my_set.add((10, 20))\n",
    "my_set"
   ]
  },
  {
   "cell_type": "code",
   "execution_count": null,
   "id": "3ad321e7",
   "metadata": {
    "slideshow": {
     "slide_type": "slide"
    }
   },
   "outputs": [],
   "source": [
    "#We can REMOVE objects\n",
    "my_set = {7,8,9}\n",
    "my_set.remove(8) # THIS CHANGES THE my_set OBJECT!!!\n",
    "my_set"
   ]
  },
  {
   "cell_type": "code",
   "execution_count": null,
   "id": "74562c85",
   "metadata": {
    "slideshow": {
     "slide_type": "slide"
    }
   },
   "outputs": [],
   "source": [
    "# we can \"pop\" one object from the set... \n",
    "# \"pop\" returns that object AND removes it from the set.\n",
    "my_set = {1, 2, 3, 4, 5}\n",
    "my_set.pop() # THIS CHANGES THE my_set OBJECT!!!\n",
    "my_set"
   ]
  },
  {
   "cell_type": "code",
   "execution_count": null,
   "id": "99552d2f",
   "metadata": {
    "slideshow": {
     "slide_type": "slide"
    }
   },
   "outputs": [],
   "source": [
    "# we can \"pop\" one object from the set... \n",
    "# \"pop\" returns that object AND removes it from the set.\n",
    "my_set = {1, 2, 3, 4, 5}\n",
    "print(my_set) # my_set before popping\n",
    "popped_object = my_set.pop() \n",
    "print(\"popped out: \", popped_object) # the popped object\n",
    "print(my_set) # my_set after popping"
   ]
  },
  {
   "cell_type": "markdown",
   "id": "0281715e",
   "metadata": {
    "slideshow": {
     "slide_type": "slide"
    }
   },
   "source": [
    "# Methods in Python - soft intro\n",
    "\n",
    "With sets, we used:\n",
    "\n",
    "* `my_set.remove()` to remove an item from the set\n",
    "* `my_set.add()` to add an item to the set\n",
    "* `my_set.pop()` to pop an item from the set\n",
    "\n",
    "`.remove()`, `.add()`, and `.pop()` are **methods** that \"belong\" to sets.\n",
    "\n",
    "A method is a function that you can **call on an object**, using the notation\n",
    "\n",
    "# `object.method()`"
   ]
  },
  {
   "cell_type": "markdown",
   "id": "2756fe77",
   "metadata": {
    "slideshow": {
     "slide_type": "slide"
    }
   },
   "source": [
    "# Methods for the data type `tuple`\n",
    "\n",
    "`.count()`, `.index()`"
   ]
  },
  {
   "cell_type": "code",
   "execution_count": null,
   "id": "4ab48d55",
   "metadata": {
    "slideshow": {
     "slide_type": "slide"
    }
   },
   "outputs": [],
   "source": [
    "my_tuple = (0, 0, 0, 5, 6, 7, \"a\", \"a\")\n",
    "my_tuple.count(\"a\")"
   ]
  },
  {
   "cell_type": "code",
   "execution_count": null,
   "id": "3d88f1c0",
   "metadata": {
    "slideshow": {
     "slide_type": "slide"
    }
   },
   "outputs": [],
   "source": [
    "my_tuple = (0, 0, 0, 5, 6, 7, \"a\", \"a\")\n",
    "my_tuple.index(\"a\")"
   ]
  },
  {
   "cell_type": "markdown",
   "id": "a527e220",
   "metadata": {
    "slideshow": {
     "slide_type": "slide"
    }
   },
   "source": [
    "# Methods for the data type `list`\n",
    "\n",
    "`.append()`, `.remove()`, `.index()`, `count()`, `.reverse()`, `.sort()`"
   ]
  },
  {
   "cell_type": "code",
   "execution_count": null,
   "id": "b1a24c4e",
   "metadata": {
    "slideshow": {
     "slide_type": "slide"
    }
   },
   "outputs": [],
   "source": [
    "# .append(object) appends an object to the list (in the last position)\n",
    "my_list = [1,4,28,9,0,1]\n",
    "my_list.append(666) # this CHANGES THE LIST OBJECT\n",
    "my_list"
   ]
  },
  {
   "cell_type": "code",
   "execution_count": null,
   "id": "c474baa5",
   "metadata": {
    "slideshow": {
     "slide_type": "slide"
    }
   },
   "outputs": [],
   "source": [
    "# .index(object) gives back the index of the FIRST APPEARANCE of the object\n",
    "my_list = [1,4,28,9,0,1]\n",
    "my_list.index(1)"
   ]
  },
  {
   "cell_type": "code",
   "execution_count": null,
   "id": "db931e88",
   "metadata": {
    "slideshow": {
     "slide_type": "slide"
    }
   },
   "outputs": [],
   "source": [
    "# .remove(object) removes THE FIRST APPEARANCE of an object from the list\n",
    "my_list = [1,4,28,9,0,1]\n",
    "my_list.remove(1) # this CHANGES THE LIST OBJECT\n",
    "my_list"
   ]
  },
  {
   "cell_type": "code",
   "execution_count": null,
   "id": "08e2eff1",
   "metadata": {
    "slideshow": {
     "slide_type": "slide"
    }
   },
   "outputs": [],
   "source": [
    "# .count(object) counts the number of times the object appears in the list\n",
    "my_list = [1,4,28,9,0,1]\n",
    "my_list.count(1)"
   ]
  },
  {
   "cell_type": "code",
   "execution_count": null,
   "id": "e389544d",
   "metadata": {
    "slideshow": {
     "slide_type": "slide"
    }
   },
   "outputs": [],
   "source": [
    "# .reverse reverses the list order \n",
    "my_list = [1,2,6,10,19,55]\n",
    "my_list.reverse() # THIS CHANGES THE LIST OBJECT\n",
    "my_list"
   ]
  },
  {
   "cell_type": "code",
   "execution_count": null,
   "id": "ee7fc42b",
   "metadata": {
    "slideshow": {
     "slide_type": "slide"
    }
   },
   "outputs": [],
   "source": [
    "# .sort() sorts the list\n",
    "my_list = [1,4,28,9,0,1]\n",
    "my_list.sort() # THIS CHANGES THE LIST OBJECT\n",
    "my_list"
   ]
  },
  {
   "cell_type": "markdown",
   "id": "82833339",
   "metadata": {
    "slideshow": {
     "slide_type": "slide"
    }
   },
   "source": [
    "# Try it out yourself!\n",
    "\n",
    "We defined a list and a set for you. They both contain all characters, including whitespaces, of the string `\"All good things come to an end.\"`\n",
    "\n",
    "```python\n",
    "my_list = ['A', 'l', 'l', ' ','g', 'o', 'o', 'd', ' ', 't', 'h', 'i', 'n', 'g', 's', ' ', 'c', 'o', 'm', 'e', ' ', 't', 'o', ' ', 'a', 'n', ' ', 'e', 'n', 'd']\n",
    "my_set = {'A', 'l', 'l', ' ','g', 'o', 'o', 'd', ' ', 't', 'h', 'i', 'n', 'g', 's', ' ', 'c', 'o', 'm', 'e', ' ', 't', 'o', ' ', 'a', 'n', ' ', 'e', 'n', 'd'}\n",
    "```\n",
    "\n",
    "* What are the `len()`s of `my_list` and of `my_set`? Why are they different?\n",
    "* What is the index of the first appearance of `o` in `my_list`?\n",
    "* How many times does the letter `o` appear in the list?\n",
    "* Why is there no \"count\" method for the set?\n",
    "* Can you find a way to check whether the letter `b` is in the set?\n",
    "* Sort the list alphabetically!\n",
    "* What is the index of the first appearance of `o` now?\n"
   ]
  },
  {
   "cell_type": "code",
   "execution_count": 3,
   "id": "d2f3476d",
   "metadata": {
    "slideshow": {
     "slide_type": "slide"
    }
   },
   "outputs": [],
   "source": [
    "# run this cell to define the variables \"my_list\" and \"my_set\"\n",
    "my_list = ['A', 'l', 'l', ' ','g', 'o', 'o', 'd', ' ', 't', 'h', 'i', 'n', 'g', 's', ' ', 'c', 'o', 'm', 'e', ' ', 't', 'o', ' ', 'a', 'n', ' ', 'e', 'n', 'd']\n",
    "my_set = {'A', 'l', 'l', ' ','g', 'o', 'o', 'd', ' ', 't', 'h', 'i', 'n', 'g', 's', ' ', 'c', 'o', 'm', 'e', ' ', 't', 'o', ' ', 'a', 'n', ' ', 'e', 'n', 'd'}"
   ]
  },
  {
   "cell_type": "code",
   "execution_count": null,
   "id": "439d7598",
   "metadata": {
    "slideshow": {
     "slide_type": "slide"
    }
   },
   "outputs": [
    {
     "name": "stdout",
     "output_type": "stream",
     "text": [
      "30\n",
      "15\n"
     ]
    }
   ],
   "source": [
    "# What are the `len()`s of `my_list` and of `my_set`? Why are they different?\n",
    "# lengths are different because... my_set only keeps unique appearances of elements\n",
    "print(len(my_list))\n",
    "print(len(my_set))"
   ]
  },
  {
   "cell_type": "code",
   "execution_count": 5,
   "id": "fb471c89",
   "metadata": {
    "slideshow": {
     "slide_type": "slide"
    }
   },
   "outputs": [
    {
     "data": {
      "text/plain": [
       "5"
      ]
     },
     "execution_count": 5,
     "metadata": {},
     "output_type": "execute_result"
    }
   ],
   "source": [
    "# What is the index of the first appearance of `o` in `my_list`?\n",
    "my_list.index(\"o\")"
   ]
  },
  {
   "cell_type": "code",
   "execution_count": 6,
   "id": "02a184a9",
   "metadata": {
    "slideshow": {
     "slide_type": "slide"
    }
   },
   "outputs": [
    {
     "data": {
      "text/plain": [
       "4"
      ]
     },
     "execution_count": 6,
     "metadata": {},
     "output_type": "execute_result"
    }
   ],
   "source": [
    "# How many times does the letter `o` appear in the list?\n",
    "my_list.count(\"o\")"
   ]
  },
  {
   "cell_type": "code",
   "execution_count": null,
   "id": "91c2f67e",
   "metadata": {
    "slideshow": {
     "slide_type": "slide"
    }
   },
   "outputs": [],
   "source": [
    "# why is there no no count method for the set?\n",
    "# ...because if an object is in there, it is unique (appearing once) anyways"
   ]
  },
  {
   "cell_type": "code",
   "execution_count": 9,
   "id": "0c23f82f",
   "metadata": {
    "slideshow": {
     "slide_type": "slide"
    }
   },
   "outputs": [
    {
     "data": {
      "text/plain": [
       "False"
      ]
     },
     "execution_count": 9,
     "metadata": {},
     "output_type": "execute_result"
    }
   ],
   "source": [
    "# check whether \"b\" is in the set or not\n",
    "\"b\" in my_set\n"
   ]
  },
  {
   "cell_type": "code",
   "execution_count": 11,
   "id": "ca9bee0f",
   "metadata": {
    "slideshow": {
     "slide_type": "slide"
    }
   },
   "outputs": [
    {
     "data": {
      "text/plain": [
       "[' ',\n",
       " ' ',\n",
       " ' ',\n",
       " ' ',\n",
       " ' ',\n",
       " ' ',\n",
       " 'A',\n",
       " 'a',\n",
       " 'c',\n",
       " 'd',\n",
       " 'd',\n",
       " 'e',\n",
       " 'e',\n",
       " 'g',\n",
       " 'g',\n",
       " 'h',\n",
       " 'i',\n",
       " 'l',\n",
       " 'l',\n",
       " 'm',\n",
       " 'n',\n",
       " 'n',\n",
       " 'n',\n",
       " 'o',\n",
       " 'o',\n",
       " 'o',\n",
       " 'o',\n",
       " 's',\n",
       " 't',\n",
       " 't']"
      ]
     },
     "execution_count": 11,
     "metadata": {},
     "output_type": "execute_result"
    }
   ],
   "source": [
    "# sort alphabetically\n",
    "my_list.sort()\n",
    "my_list\n"
   ]
  },
  {
   "cell_type": "code",
   "execution_count": 12,
   "id": "4069344d",
   "metadata": {
    "slideshow": {
     "slide_type": "slide"
    }
   },
   "outputs": [
    {
     "data": {
      "text/plain": [
       "23"
      ]
     },
     "execution_count": 12,
     "metadata": {},
     "output_type": "execute_result"
    }
   ],
   "source": [
    "# what is the index of the first appearance of \"o\" now?\n",
    "my_list.index(\"o\")"
   ]
  },
  {
   "cell_type": "code",
   "execution_count": null,
   "id": "01400038",
   "metadata": {
    "slideshow": {
     "slide_type": "slide"
    }
   },
   "outputs": [],
   "source": []
  }
 ],
 "metadata": {
  "celltoolbar": "Slideshow",
  "kernelspec": {
   "display_name": "Python 3",
   "language": "python",
   "name": "python3"
  },
  "language_info": {
   "codemirror_mode": {
    "name": "ipython",
    "version": 3
   },
   "file_extension": ".py",
   "mimetype": "text/x-python",
   "name": "python",
   "nbconvert_exporter": "python",
   "pygments_lexer": "ipython3",
   "version": "3.12.11"
  }
 },
 "nbformat": 4,
 "nbformat_minor": 5
}
