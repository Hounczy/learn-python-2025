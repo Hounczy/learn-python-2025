{
 "cells": [
  {
   "cell_type": "markdown",
   "metadata": {
    "slideshow": {
     "slide_type": "slide"
    }
   },
   "source": [
    "# Python Crash Course - Lecture 01\n",
    "Today we will learn:\n",
    "* The Jupyter notebook interface\n",
    "* Python as a calculator\n",
    "* Fundamental (primitive) data types in Python\n",
    "* Declaring, using, and casting variables\n",
    "* Booleans\n",
    "* Logical operators\n",
    "* Python objects and Python operators (soft intro)"
   ]
  },
  {
   "cell_type": "markdown",
   "metadata": {
    "slideshow": {
     "slide_type": "slide"
    }
   },
   "source": [
    "***\n",
    "# Python as a calculator\n",
    "\n",
    "`+ - * / ** //`"
   ]
  },
  {
   "cell_type": "code",
   "execution_count": null,
   "metadata": {
    "slideshow": {
     "slide_type": "slide"
    }
   },
   "outputs": [],
   "source": [
    "# Addition\n",
    "2 + 7"
   ]
  },
  {
   "cell_type": "code",
   "execution_count": null,
   "metadata": {
    "slideshow": {
     "slide_type": "slide"
    }
   },
   "outputs": [],
   "source": [
    "# Subtraction\n",
    "64 - 1"
   ]
  },
  {
   "cell_type": "code",
   "execution_count": null,
   "metadata": {
    "slideshow": {
     "slide_type": "slide"
    }
   },
   "outputs": [],
   "source": [
    "# Multiplication\n",
    "3 * 34"
   ]
  },
  {
   "cell_type": "code",
   "execution_count": null,
   "metadata": {
    "slideshow": {
     "slide_type": "slide"
    }
   },
   "outputs": [],
   "source": [
    "# Division\n",
    "5 / 2"
   ]
  },
  {
   "cell_type": "code",
   "execution_count": null,
   "metadata": {
    "slideshow": {
     "slide_type": "slide"
    }
   },
   "outputs": [],
   "source": [
    "# Exponentiation\n",
    "2 ** 4"
   ]
  },
  {
   "cell_type": "code",
   "execution_count": null,
   "metadata": {
    "slideshow": {
     "slide_type": "slide"
    }
   },
   "outputs": [],
   "source": [
    "# Integer division\n",
    "7 // 2"
   ]
  },
  {
   "cell_type": "markdown",
   "metadata": {
    "slideshow": {
     "slide_type": "slide"
    }
   },
   "source": [
    "## Mathematical operators in Python:\n",
    "* Addition `+`\n",
    "* Subtraction  `-`\n",
    "* Multiplication `*`\n",
    "* Division `/`\n",
    "* Exponentiation `**`   ($x^{2}$ in Python: `x**2`)\n",
    "* Integer division `//`"
   ]
  },
  {
   "cell_type": "code",
   "execution_count": null,
   "metadata": {
    "slideshow": {
     "slide_type": "slide"
    }
   },
   "outputs": [],
   "source": [
    "5 + 1 * 4"
   ]
  },
  {
   "cell_type": "markdown",
   "metadata": {
    "slideshow": {
     "slide_type": "slide"
    }
   },
   "source": [
    "## Reminder of precedence rules (same as in maths):\n",
    "1. Parentheses `()`\n",
    "2. Exponentiation `**`\n",
    "3. Multiplication/Division `*` `/`\n",
    "4. Addition/Subtraction `+` `-`"
   ]
  },
  {
   "cell_type": "code",
   "execution_count": null,
   "metadata": {
    "slideshow": {
     "slide_type": "slide"
    }
   },
   "outputs": [],
   "source": [
    "# in which order are the mathematical operations executed? \n",
    "5 + 1 * 4"
   ]
  },
  {
   "cell_type": "code",
   "execution_count": null,
   "metadata": {
    "slideshow": {
     "slide_type": "slide"
    }
   },
   "outputs": [],
   "source": [
    "# in which order are the mathematical operations executed?\n",
    "5 * 4 - 3 ** 2"
   ]
  },
  {
   "cell_type": "markdown",
   "metadata": {
    "slideshow": {
     "slide_type": "slide"
    }
   },
   "source": [
    "## Try it out yourself!\n",
    "\n",
    "Compute (each in a separate cell):\n",
    "\n",
    "1. $100 + 3^{2} =$\n",
    "2. $(11 + 4) - (5 - (3 \\times 4))=$\n",
    "3. $2^{3+1} - (1+2)=$\n",
    "4. $\\frac{(10-1)}{3}=$"
   ]
  },
  {
   "cell_type": "code",
   "execution_count": null,
   "metadata": {
    "slideshow": {
     "slide_type": "slide"
    }
   },
   "outputs": [],
   "source": [
    "# Computation 1"
   ]
  },
  {
   "cell_type": "code",
   "execution_count": null,
   "metadata": {
    "slideshow": {
     "slide_type": "slide"
    }
   },
   "outputs": [],
   "source": [
    "# Computation 2"
   ]
  },
  {
   "cell_type": "code",
   "execution_count": null,
   "metadata": {
    "slideshow": {
     "slide_type": "slide"
    }
   },
   "outputs": [],
   "source": [
    "# Computation 3"
   ]
  },
  {
   "cell_type": "code",
   "execution_count": null,
   "metadata": {
    "slideshow": {
     "slide_type": "slide"
    }
   },
   "outputs": [],
   "source": [
    "# Computation 4"
   ]
  },
  {
   "cell_type": "code",
   "execution_count": null,
   "metadata": {
    "slideshow": {
     "slide_type": "slide"
    }
   },
   "outputs": [],
   "source": [
    "# What happened here? Why do we get 3.0  instead of 3??\n",
    "9 / 3"
   ]
  },
  {
   "cell_type": "markdown",
   "metadata": {
    "slideshow": {
     "slide_type": "slide"
    }
   },
   "source": [
    "***\n",
    "# Fundamental data types in Python\n",
    "\n",
    "* integer numbers `int`\n",
    "* floating-point numbers `float`\n",
    "* strings `str`\n",
    "* Booleans `bool`\n",
    "\n",
    "If you want to find out the type of an object, you can use the **built-in function `type()`**, with the object as an input."
   ]
  },
  {
   "cell_type": "code",
   "execution_count": null,
   "metadata": {
    "slideshow": {
     "slide_type": "slide"
    }
   },
   "outputs": [],
   "source": [
    "# integers\n",
    "type(1)"
   ]
  },
  {
   "cell_type": "code",
   "execution_count": null,
   "metadata": {
    "slideshow": {
     "slide_type": "slide"
    }
   },
   "outputs": [],
   "source": [
    "# floating-point numbers (floats)\n",
    "type(2.5)"
   ]
  },
  {
   "cell_type": "code",
   "execution_count": null,
   "metadata": {
    "slideshow": {
     "slide_type": "slide"
    }
   },
   "outputs": [],
   "source": [
    "# floating-point numbers (floats)\n",
    "type( 9 / 3 )"
   ]
  },
  {
   "cell_type": "code",
   "execution_count": null,
   "metadata": {
    "slideshow": {
     "slide_type": "slide"
    }
   },
   "outputs": [],
   "source": [
    "# floats show a decimal point:\n",
    "9 / 3"
   ]
  },
  {
   "cell_type": "markdown",
   "metadata": {
    "slideshow": {
     "slide_type": "slide"
    }
   },
   "source": [
    "## Let's have a look at strings `str`\n",
    "Characters (text) inside of quotation marks (single ` '...' ` or double `\"...\"`)."
   ]
  },
  {
   "cell_type": "code",
   "execution_count": null,
   "metadata": {
    "slideshow": {
     "slide_type": "slide"
    }
   },
   "outputs": [],
   "source": [
    "# strings\n",
    "\"this is a string\""
   ]
  },
  {
   "cell_type": "code",
   "execution_count": null,
   "metadata": {
    "slideshow": {
     "slide_type": "slide"
    }
   },
   "outputs": [],
   "source": [
    "# the type strings: str\n",
    "type(\"hello world\")"
   ]
  },
  {
   "cell_type": "code",
   "execution_count": null,
   "metadata": {
    "slideshow": {
     "slide_type": "slide"
    }
   },
   "outputs": [],
   "source": [
    "# you can use the + operator on strings as well\n",
    "'Hello ' + 'world!'"
   ]
  },
  {
   "cell_type": "code",
   "execution_count": null,
   "metadata": {
    "slideshow": {
     "slide_type": "slide"
    }
   },
   "outputs": [],
   "source": [
    "# and the * operator as well\n",
    "\"Hey\" * 3"
   ]
  },
  {
   "cell_type": "code",
   "execution_count": null,
   "metadata": {
    "slideshow": {
     "slide_type": "slide"
    }
   },
   "outputs": [],
   "source": [
    "# you can put strings inside a \"print statement\"\n",
    "print(\"what should i do?\")"
   ]
  },
  {
   "cell_type": "code",
   "execution_count": null,
   "metadata": {
    "slideshow": {
     "slide_type": "slide"
    }
   },
   "outputs": [],
   "source": [
    "# (but you can also put numbers inside a print statement)\n",
    "print(6.5/2)"
   ]
  },
  {
   "cell_type": "markdown",
   "metadata": {
    "slideshow": {
     "slide_type": "slide"
    }
   },
   "source": [
    "## Try it out yourself!\n",
    "Use the `print()` statement to print your name, your birthday, and your email address, to get an output like so:\n",
    "\n",
    "```\n",
    "Name: Anastassia\n",
    "Birthday: 22.11.\n",
    "Email address: anvy@itu.dk\n",
    "```\n",
    "\n",
    "Your code should look something like this:\n",
    "```python\n",
    "print(\"...\")\n",
    "print(\"...\")\n",
    "# etc\n",
    "```\n"
   ]
  },
  {
   "cell_type": "code",
   "execution_count": null,
   "metadata": {
    "slideshow": {
     "slide_type": "slide"
    }
   },
   "outputs": [],
   "source": [
    "# Print (each with a separate print statement): \n",
    "# your name, \n",
    "# your birthday, and \n",
    "# your email address. \n",
    "# Don't forget the quotation marks for string defition!"
   ]
  },
  {
   "cell_type": "markdown",
   "metadata": {
    "slideshow": {
     "slide_type": "slide"
    }
   },
   "source": [
    "***\n",
    "# Variables in Python"
   ]
  },
  {
   "cell_type": "code",
   "execution_count": null,
   "metadata": {
    "slideshow": {
     "slide_type": "slide"
    }
   },
   "outputs": [],
   "source": [
    "x = 5"
   ]
  },
  {
   "cell_type": "code",
   "execution_count": null,
   "metadata": {
    "slideshow": {
     "slide_type": "slide"
    }
   },
   "outputs": [],
   "source": [
    "x = 5\n",
    "print(x)"
   ]
  },
  {
   "cell_type": "markdown",
   "metadata": {
    "slideshow": {
     "slide_type": "slide"
    }
   },
   "source": [
    "## x = 5\n",
    "\n",
    "What does this mean? Read it **from right to left:**\n",
    "\n",
    "* 5 is the **value** we are assigning.\n",
    "* `=` is the **assigment operator**.\n",
    "* x is the **name of the variable** that we are assigning the value to.\n",
    "* `variable = value` assigns a value to a variable.\n",
    "\n",
    "The variable with the name `x` now contains a **pointer** that points to the value `5` in the computer memory."
   ]
  },
  {
   "cell_type": "code",
   "execution_count": null,
   "metadata": {
    "slideshow": {
     "slide_type": "slide"
    }
   },
   "outputs": [],
   "source": [
    "# Once we have assigned a value to a variable,\n",
    "# we can use that variable in our code:\n",
    "p = 1\n",
    "p + 3"
   ]
  },
  {
   "cell_type": "code",
   "execution_count": null,
   "metadata": {
    "slideshow": {
     "slide_type": "slide"
    }
   },
   "outputs": [],
   "source": [
    "x = 4\n",
    "y = 5\n",
    "print(x + y)\n",
    "#second option\n",
    "#z = x + y\n",
    "#print(z)"
   ]
  },
  {
   "cell_type": "code",
   "execution_count": null,
   "metadata": {
    "slideshow": {
     "slide_type": "slide"
    }
   },
   "outputs": [],
   "source": [
    "x = 4\n",
    "y = 5\n",
    "print(x+y)"
   ]
  },
  {
   "cell_type": "code",
   "execution_count": null,
   "metadata": {
    "slideshow": {
     "slide_type": "slide"
    }
   },
   "outputs": [],
   "source": [
    "# can we give more interesting names to our variables?\n",
    "myVAriaable_that_has_A_value_of10 = 10\n",
    "print(myVAriaable_that_has_A_value_of10)"
   ]
  },
  {
   "cell_type": "code",
   "execution_count": null,
   "metadata": {
    "slideshow": {
     "slide_type": "slide"
    }
   },
   "outputs": [],
   "source": [
    "myVAriaable_that_has_A_value_of10 + 2"
   ]
  },
  {
   "cell_type": "code",
   "execution_count": null,
   "metadata": {
    "slideshow": {
     "slide_type": "slide"
    }
   },
   "outputs": [],
   "source": [
    "# a variable can also be a string:\n",
    "my_standard_greeting = \"hello world!\"\n",
    "print(my_standard_greeting)"
   ]
  },
  {
   "cell_type": "markdown",
   "metadata": {
    "slideshow": {
     "slide_type": "slide"
    }
   },
   "source": [
    "## *Rules* for naming variables\n",
    "\n",
    "* Can contain only letters `Aa...Zz`, numbers `0...9`, and underscores `_`\n",
    "* Can start with a letter or with an underscore (can NOT start with a number)\n",
    "* Case-sensitive (size matters)\n",
    "* Don't overwrite existing commands in Python! (e.g. `type()` is a built-in function; so do NOT try to create a variable called `type` by assigning a value to it) \n",
    "* Don't overwrite existing Reserved keywords: https://realpython.com/lessons/reserved-keywords/"
   ]
  },
  {
   "cell_type": "markdown",
   "metadata": {
    "slideshow": {
     "slide_type": "slide"
    }
   },
   "source": [
    "## *Conventions* for naming variables\n",
    "\n",
    "flatcase, UPPERCASE, camelCase, snake_case, ...\n",
    "\n",
    "https://peps.python.org/pep-0008/#naming-conventions\n",
    "\n",
    "https://en.wikipedia.org/wiki/Naming_convention_(programming)#Examples_of_multiple-word_identifier_formats\n"
   ]
  },
  {
   "cell_type": "markdown",
   "metadata": {
    "slideshow": {
     "slide_type": "slide"
    }
   },
   "source": [
    "## Try it out yourself\n",
    "\n",
    "Save your name, your birthday, and your email address, into 3 different **variables**, and then print them to get an output like so:\n",
    "\n",
    "```\n",
    "Name: Anastassia\n",
    "Birthday: 22.11.\n",
    "Email address: anvy@itu.dk\n",
    "```\n",
    "\n",
    "Your code should look something like:\n",
    "```python\n",
    "name = \"...\"\n",
    "print(name) \n",
    "# etc.\n",
    "```\n"
   ]
  },
  {
   "cell_type": "code",
   "execution_count": null,
   "metadata": {
    "slideshow": {
     "slide_type": "slide"
    }
   },
   "outputs": [],
   "source": [
    "# Save your name, your birthday, and your email address, \n",
    "# into 3 different variables, and then print them\n",
    "my_name = \"Name: Anastassia\"\n",
    "print(my_name)"
   ]
  },
  {
   "cell_type": "markdown",
   "metadata": {
    "slideshow": {
     "slide_type": "slide"
    }
   },
   "source": [
    "## Let's look at combining (\"concatenating\") strings"
   ]
  },
  {
   "cell_type": "code",
   "execution_count": null,
   "metadata": {
    "slideshow": {
     "slide_type": "slide"
    }
   },
   "outputs": [],
   "source": [
    "# let's look at combining (\"concatenating\") strings\n",
    "sentence = \"My age is \"\n",
    "age = \"54\" # this is a string, not a numeric variable!\n",
    "sentence + age"
   ]
  },
  {
   "cell_type": "code",
   "execution_count": null,
   "metadata": {
    "slideshow": {
     "slide_type": "slide"
    }
   },
   "outputs": [],
   "source": [
    "# let's look at combining (\"concatenating\") strings\n",
    "sentence = \"My age is \"\n",
    "age = 23 # this is an integer \n",
    "sentence + age"
   ]
  },
  {
   "cell_type": "code",
   "execution_count": null,
   "metadata": {
    "slideshow": {
     "slide_type": "slide"
    }
   },
   "outputs": [],
   "source": [
    "# If you want to concatenate str with another data type,\n",
    "# you need to convert it to str first\n",
    "sentence + str(age)"
   ]
  },
  {
   "cell_type": "markdown",
   "metadata": {
    "slideshow": {
     "slide_type": "slide"
    }
   },
   "source": [
    "***\n",
    "# Casting variables\n",
    "\n",
    "= converting from one datatype into another.\n",
    "\n",
    "* To convert to integer: `int()`\n",
    "* To convert to float: `float()`\n",
    "* To convert to string: `str()`"
   ]
  },
  {
   "cell_type": "code",
   "execution_count": null,
   "metadata": {
    "slideshow": {
     "slide_type": "slide"
    }
   },
   "outputs": [],
   "source": [
    "# Let's try this out with an integer (convert to float; convert to string)\n",
    "str(3)"
   ]
  },
  {
   "cell_type": "code",
   "execution_count": null,
   "metadata": {
    "slideshow": {
     "slide_type": "slide"
    }
   },
   "outputs": [],
   "source": [
    "# Let's try this out with a string (convert to integer; convert to float)\n",
    "float(\"6\")"
   ]
  },
  {
   "cell_type": "code",
   "execution_count": null,
   "metadata": {
    "slideshow": {
     "slide_type": "slide"
    }
   },
   "outputs": [],
   "source": [
    "# Let's try this out with a variable (convert to str, float)\n",
    "my_integer = 24\n",
    "str(my_integer)"
   ]
  },
  {
   "cell_type": "code",
   "execution_count": null,
   "metadata": {
    "slideshow": {
     "slide_type": "slide"
    }
   },
   "outputs": [],
   "source": [
    "# Note that we are not changing the actual variable:\n",
    "my_integer = 24\n",
    "print(float(my_integer))\n",
    "print(my_integer)"
   ]
  },
  {
   "cell_type": "code",
   "execution_count": null,
   "metadata": {
    "slideshow": {
     "slide_type": "slide"
    }
   },
   "outputs": [],
   "source": [
    "# To change the value in the memory, we need to assign the new value:\n",
    "my_variable = 24\n",
    "print(my_variable) # before casting to float\n",
    "my_variable = float(my_variable) \n",
    "print(my_variable) # after casting to float"
   ]
  },
  {
   "cell_type": "markdown",
   "metadata": {
    "slideshow": {
     "slide_type": "slide"
    }
   },
   "source": [
    "## Try it out yourself!\n",
    "\n",
    "```python\n",
    "# TASK 1: use the 3 variables below to print out \"i have 4 siblings\"\n",
    "part1 = \"i have\"\n",
    "user_input = 4\n",
    "part2 = \"siblings\"\n",
    "\n",
    "# TASK 2: use the 3 variables below to compute x+y+z\n",
    "x = \"7\"\n",
    "y = 3.1\n",
    "z = \"1.9\"\n",
    "```\n"
   ]
  },
  {
   "cell_type": "code",
   "execution_count": null,
   "metadata": {
    "slideshow": {
     "slide_type": "slide"
    }
   },
   "outputs": [],
   "source": [
    "### TASK 1\n",
    "# use the 3 variables above to print out the sentence \"i have 4 siblings\"\n",
    "part1 = \"i have\"\n",
    "user_input = 4\n",
    "part2 = \"siblings\"\n"
   ]
  },
  {
   "cell_type": "code",
   "execution_count": null,
   "metadata": {
    "slideshow": {
     "slide_type": "slide"
    }
   },
   "outputs": [],
   "source": [
    "### TASK 2\n",
    "# use the 3 variables below to compute the sum x+y+z\n",
    "x = \"7\"\n",
    "y = 3.1\n",
    "z = \"1.9\"\n"
   ]
  },
  {
   "cell_type": "markdown",
   "metadata": {
    "slideshow": {
     "slide_type": "slide"
    }
   },
   "source": [
    "***\n",
    "# What you've learned today:\n",
    "**quite a lot!**\n",
    "* The Jupyter Notebook interface\n",
    "* Fundamental (primitive) data types in Python\n",
    "* Declaring, using, and casting variables\n",
    "* Arithmetic & assignment operators\n",
    "* using `print()` and `type()`"
   ]
  },
  {
   "cell_type": "markdown",
   "metadata": {},
   "source": []
  }
 ],
 "metadata": {
  "celltoolbar": "Slideshow",
  "kernelspec": {
   "display_name": "Python 3 (ipykernel)",
   "language": "python",
   "name": "python3"
  },
  "language_info": {
   "codemirror_mode": {
    "name": "ipython",
    "version": 3
   },
   "file_extension": ".py",
   "mimetype": "text/x-python",
   "name": "python",
   "nbconvert_exporter": "python",
   "pygments_lexer": "ipython3",
   "version": "3.12.11"
  }
 },
 "nbformat": 4,
 "nbformat_minor": 2
}
